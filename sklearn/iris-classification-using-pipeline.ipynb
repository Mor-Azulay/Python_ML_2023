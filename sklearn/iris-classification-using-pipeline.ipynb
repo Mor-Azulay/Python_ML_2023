{
 "cells": [
  {
   "cell_type": "markdown",
   "metadata": {},
   "source": [
    "## Introduction"
   ]
  },
  {
   "cell_type": "markdown",
   "metadata": {
    "execution": {
     "iopub.execute_input": "2021-12-28T10:13:19.793238Z",
     "iopub.status.busy": "2021-12-28T10:13:19.792924Z",
     "iopub.status.idle": "2021-12-28T10:13:19.799318Z",
     "shell.execute_reply": "2021-12-28T10:13:19.798681Z",
     "shell.execute_reply.started": "2021-12-28T10:13:19.793205Z"
    }
   },
   "source": [
    "***Why are ML pipelines important?***\n",
    "\n",
    "The main objective of having a proper pipeline for any ML model is to exercise control over it. A well-organised pipeline makes the implementation more flexible. It is like having an exploded view of a computer where you can pick the faulty pieces and replace it- in our case, replacing a chunk of code."
   ]
  },
  {
   "cell_type": "markdown",
   "metadata": {},
   "source": [
    "***Benefits of a Machine Learning Pipeline***\n",
    "\n",
    "* Make continuous predictions.\n",
    "* Get up and running right away.\n",
    "* Accessible to every team.\n",
    "1. Data Preprocessing.\n",
    "2. Data Cleaning.\n",
    "3. Feature Engineering.\n",
    "4. Model Selection.\n",
    "5. Prediction Generation."
   ]
  },
  {
   "cell_type": "markdown",
   "metadata": {},
   "source": [
    "## About Dataset\n",
    "The Iris Dataset contains four features (length and width of sepals and petals) of 50 samples of three species of Iris (Iris setosa, Iris virginica and Iris versicolor). ... The dataset is often used in data mining, classification and clustering examples and to test algorithms."
   ]
  },
  {
   "cell_type": "markdown",
   "metadata": {
    "execution": {
     "iopub.execute_input": "2021-12-28T10:20:14.909089Z",
     "iopub.status.busy": "2021-12-28T10:20:14.908715Z",
     "iopub.status.idle": "2021-12-28T10:20:14.914118Z",
     "shell.execute_reply": "2021-12-28T10:20:14.913139Z",
     "shell.execute_reply.started": "2021-12-28T10:20:14.909055Z"
    }
   },
   "source": [
    "<img src='https://s3.amazonaws.com/assets.datacamp.com/blog_assets/Machine+Learning+R/iris-machinelearning.png' />"
   ]
  },
  {
   "cell_type": "markdown",
   "metadata": {
    "_cell_guid": "b1076dfc-b9ad-4769-8c92-a6c4dae69d19",
    "_uuid": "8f2839f25d086af736a60e9eeb907d3b93b6e0e5",
    "execution": {
     "iopub.execute_input": "2021-12-28T10:09:33.824535Z",
     "iopub.status.busy": "2021-12-28T10:09:33.824164Z",
     "iopub.status.idle": "2021-12-28T10:09:33.856265Z",
     "shell.execute_reply": "2021-12-28T10:09:33.855415Z",
     "shell.execute_reply.started": "2021-12-28T10:09:33.824461Z"
    }
   },
   "source": [
    "## Some Useful Libraries"
   ]
  },
  {
   "cell_type": "code",
   "execution_count": 1,
   "metadata": {
    "tags": []
   },
   "outputs": [],
   "source": [
    "import pandas as pd\n",
    "import numpy as np"
   ]
  },
  {
   "cell_type": "code",
   "execution_count": 2,
   "metadata": {},
   "outputs": [],
   "source": [
    "from sklearn.datasets import load_iris\n",
    "from sklearn.preprocessing import StandardScaler\n",
    "from sklearn.model_selection import train_test_split\n",
    "from sklearn.pipeline import Pipeline\n",
    "from sklearn.decomposition import PCA\n",
    "from sklearn.linear_model import LogisticRegression\n",
    "from sklearn.tree import DecisionTreeClassifier\n",
    "from sklearn.ensemble import RandomForestClassifier"
   ]
  },
  {
   "cell_type": "markdown",
   "metadata": {},
   "source": [
    "## Load Dataset"
   ]
  },
  {
   "cell_type": "code",
   "execution_count": 3,
   "metadata": {},
   "outputs": [],
   "source": [
    "iris = load_iris(as_frame=True)"
   ]
  },
  {
   "cell_type": "code",
   "execution_count": 4,
   "metadata": {
    "tags": []
   },
   "outputs": [
    {
     "data": {
      "text/html": [
       "<div>\n",
       "<style scoped>\n",
       "    .dataframe tbody tr th:only-of-type {\n",
       "        vertical-align: middle;\n",
       "    }\n",
       "\n",
       "    .dataframe tbody tr th {\n",
       "        vertical-align: top;\n",
       "    }\n",
       "\n",
       "    .dataframe thead th {\n",
       "        text-align: right;\n",
       "    }\n",
       "</style>\n",
       "<table border=\"1\" class=\"dataframe\">\n",
       "  <thead>\n",
       "    <tr style=\"text-align: right;\">\n",
       "      <th></th>\n",
       "      <th>sepal length (cm)</th>\n",
       "      <th>sepal width (cm)</th>\n",
       "      <th>petal length (cm)</th>\n",
       "      <th>petal width (cm)</th>\n",
       "    </tr>\n",
       "  </thead>\n",
       "  <tbody>\n",
       "    <tr>\n",
       "      <th>60</th>\n",
       "      <td>5.0</td>\n",
       "      <td>2.0</td>\n",
       "      <td>3.5</td>\n",
       "      <td>1.0</td>\n",
       "    </tr>\n",
       "    <tr>\n",
       "      <th>1</th>\n",
       "      <td>4.9</td>\n",
       "      <td>3.0</td>\n",
       "      <td>1.4</td>\n",
       "      <td>0.2</td>\n",
       "    </tr>\n",
       "    <tr>\n",
       "      <th>8</th>\n",
       "      <td>4.4</td>\n",
       "      <td>2.9</td>\n",
       "      <td>1.4</td>\n",
       "      <td>0.2</td>\n",
       "    </tr>\n",
       "    <tr>\n",
       "      <th>93</th>\n",
       "      <td>5.0</td>\n",
       "      <td>2.3</td>\n",
       "      <td>3.3</td>\n",
       "      <td>1.0</td>\n",
       "    </tr>\n",
       "    <tr>\n",
       "      <th>106</th>\n",
       "      <td>4.9</td>\n",
       "      <td>2.5</td>\n",
       "      <td>4.5</td>\n",
       "      <td>1.7</td>\n",
       "    </tr>\n",
       "  </tbody>\n",
       "</table>\n",
       "</div>"
      ],
      "text/plain": [
       "     sepal length (cm)  sepal width (cm)  petal length (cm)  petal width (cm)\n",
       "60                 5.0               2.0                3.5               1.0\n",
       "1                  4.9               3.0                1.4               0.2\n",
       "8                  4.4               2.9                1.4               0.2\n",
       "93                 5.0               2.3                3.3               1.0\n",
       "106                4.9               2.5                4.5               1.7"
      ]
     },
     "execution_count": 4,
     "metadata": {},
     "output_type": "execute_result"
    }
   ],
   "source": [
    "X, y = iris.data, iris.target.map(dict(enumerate(iris.target_names)))\n",
    "X_train, X_test, y_train, y_test = train_test_split(X, y, stratify=y, random_state=0)\n",
    "X_train.head()"
   ]
  },
  {
   "cell_type": "code",
   "execution_count": 5,
   "metadata": {},
   "outputs": [
    {
     "data": {
      "text/plain": [
       "setosa        50\n",
       "versicolor    50\n",
       "virginica     50\n",
       "Name: target, dtype: int64"
      ]
     },
     "execution_count": 5,
     "metadata": {},
     "output_type": "execute_result"
    }
   ],
   "source": [
    "y.value_counts()"
   ]
  },
  {
   "cell_type": "code",
   "execution_count": 6,
   "metadata": {
    "tags": []
   },
   "outputs": [],
   "source": [
    "X_train,X_test,y_train,y_test = train_test_split(X, y ,test_size=0.2, random_state=42)"
   ]
  },
  {
   "cell_type": "markdown",
   "metadata": {},
   "source": [
    "## Pipeline"
   ]
  },
  {
   "cell_type": "code",
   "execution_count": 7,
   "metadata": {},
   "outputs": [],
   "source": [
    "## Pipeline Creation\n",
    "## 1.Data preprocessing by using Standard scalar and Label encoder\n",
    "## 2.Reduce Dimension using PCA\n",
    "## 3.Apply classifier"
   ]
  },
  {
   "cell_type": "code",
   "execution_count": 8,
   "metadata": {},
   "outputs": [],
   "source": [
    "preprocess_pipeline = Pipeline([('scaler', StandardScaler()), ('pca', PCA(n_components=3))])"
   ]
  },
  {
   "cell_type": "code",
   "execution_count": 9,
   "metadata": {},
   "outputs": [],
   "source": [
    "logistic_regression_pipeline = Pipeline([\n",
    "    ('preprocessing', preprocess_pipeline),\n",
    "    ('logistic_regression', LogisticRegression())\n",
    "])\n",
    "\n",
    "decision_tree_pipeline = Pipeline([\n",
    "    ('preprocessing', preprocess_pipeline),\n",
    "    ('decision_tree', DecisionTreeClassifier())\n",
    "    \n",
    "])\n",
    "\n",
    "random_forest_pipeline = Pipeline([\n",
    "    ('preprocessing', preprocess_pipeline),\n",
    "    ('random_forest', RandomForestClassifier())\n",
    "])"
   ]
  },
  {
   "cell_type": "code",
   "execution_count": 10,
   "metadata": {},
   "outputs": [],
   "source": [
    "models_pipelines = [logistic_regression_pipeline,\n",
    "                    decision_tree_pipeline, \n",
    "                    random_forest_pipeline,                   \n",
    "                   ]"
   ]
  },
  {
   "cell_type": "code",
   "execution_count": 11,
   "metadata": {
    "tags": []
   },
   "outputs": [],
   "source": [
    "# dictionary of pipelines and classifier types for ease of reference\n",
    "pipe_dict = {0:'Logistic Regression',1:'Decision Tree',2:'Random Forest'}"
   ]
  },
  {
   "cell_type": "code",
   "execution_count": 20,
   "metadata": {
    "tags": []
   },
   "outputs": [
    {
     "name": "stdout",
     "output_type": "stream",
     "text": [
      "Model Logistic Regression training accuracy: 0.9667\n",
      "Model Decision Tree training accuracy: 1.0\n",
      "Model Random Forest training accuracy: 1.0\n"
     ]
    }
   ],
   "source": [
    "# fit the pipelines\n",
    "for i,pipe in enumerate(models_pipelines):\n",
    "    pipe.fit(X_train,y_train)\n",
    "    print(f'Model {pipe_dict[i]} training accuracy: {pipe.score(X_train, y_train):.4}')"
   ]
  },
  {
   "cell_type": "code",
   "execution_count": 21,
   "metadata": {
    "tags": []
   },
   "outputs": [
    {
     "name": "stdout",
     "output_type": "stream",
     "text": [
      "Logistic Regression Test accuracy: 100.0\n",
      "Decision Tree Test accuracy: 93.0\n",
      "Random Forest Test accuracy: 100.0\n"
     ]
    }
   ],
   "source": [
    "# model accuracy on the test set\n",
    "for i,model in enumerate(models_pipelines):\n",
    "    print('{} Test accuracy: {}'.format(pipe_dict[i],np.round(model.score(X_test,y_test)*100),1))"
   ]
  },
  {
   "cell_type": "markdown",
   "metadata": {},
   "source": [
    "### 3D Visualization of the PCA output"
   ]
  },
  {
   "cell_type": "code",
   "execution_count": 22,
   "metadata": {},
   "outputs": [],
   "source": [
    "from sklearn import config_context"
   ]
  },
  {
   "cell_type": "code",
   "execution_count": 23,
   "metadata": {},
   "outputs": [],
   "source": [
    "with config_context(transform_output=\"pandas\"):\n",
    "    train_pca_features = preprocess_pipeline.fit_transform(X_train)"
   ]
  },
  {
   "cell_type": "code",
   "execution_count": 24,
   "metadata": {},
   "outputs": [
    {
     "data": {
      "text/html": [
       "<div>\n",
       "<style scoped>\n",
       "    .dataframe tbody tr th:only-of-type {\n",
       "        vertical-align: middle;\n",
       "    }\n",
       "\n",
       "    .dataframe tbody tr th {\n",
       "        vertical-align: top;\n",
       "    }\n",
       "\n",
       "    .dataframe thead th {\n",
       "        text-align: right;\n",
       "    }\n",
       "</style>\n",
       "<table border=\"1\" class=\"dataframe\">\n",
       "  <thead>\n",
       "    <tr style=\"text-align: right;\">\n",
       "      <th></th>\n",
       "      <th>pca0</th>\n",
       "      <th>pca1</th>\n",
       "      <th>pca2</th>\n",
       "      <th>class</th>\n",
       "    </tr>\n",
       "  </thead>\n",
       "  <tbody>\n",
       "    <tr>\n",
       "      <th>22</th>\n",
       "      <td>-2.741058</td>\n",
       "      <td>0.415798</td>\n",
       "      <td>0.314365</td>\n",
       "      <td>setosa</td>\n",
       "    </tr>\n",
       "    <tr>\n",
       "      <th>15</th>\n",
       "      <td>-2.214577</td>\n",
       "      <td>2.604762</td>\n",
       "      <td>0.030006</td>\n",
       "      <td>setosa</td>\n",
       "    </tr>\n",
       "    <tr>\n",
       "      <th>65</th>\n",
       "      <td>0.926828</td>\n",
       "      <td>0.529167</td>\n",
       "      <td>-0.516368</td>\n",
       "      <td>versicolor</td>\n",
       "    </tr>\n",
       "    <tr>\n",
       "      <th>11</th>\n",
       "      <td>-2.293429</td>\n",
       "      <td>0.108078</td>\n",
       "      <td>0.072359</td>\n",
       "      <td>setosa</td>\n",
       "    </tr>\n",
       "    <tr>\n",
       "      <th>42</th>\n",
       "      <td>-2.524548</td>\n",
       "      <td>-0.496938</td>\n",
       "      <td>0.280547</td>\n",
       "      <td>setosa</td>\n",
       "    </tr>\n",
       "  </tbody>\n",
       "</table>\n",
       "</div>"
      ],
      "text/plain": [
       "        pca0      pca1      pca2       class\n",
       "22 -2.741058  0.415798  0.314365      setosa\n",
       "15 -2.214577  2.604762  0.030006      setosa\n",
       "65  0.926828  0.529167 -0.516368  versicolor\n",
       "11 -2.293429  0.108078  0.072359      setosa\n",
       "42 -2.524548 -0.496938  0.280547      setosa"
      ]
     },
     "execution_count": 24,
     "metadata": {},
     "output_type": "execute_result"
    }
   ],
   "source": [
    "train_pca_features['class'] = y_train\n",
    "train_pca_features.head()"
   ]
  },
  {
   "cell_type": "code",
   "execution_count": 25,
   "metadata": {},
   "outputs": [],
   "source": [
    "import plotly_express as px"
   ]
  },
  {
   "cell_type": "code",
   "execution_count": 26,
   "metadata": {},
   "outputs": [
    {
     "data": {
      "application/vnd.plotly.v1+json": {
       "config": {
        "plotlyServerURL": "https://plot.ly"
       },
       "data": [
        {
         "hovertemplate": "class=setosa<br>pca0=%{x}<br>pca1=%{y}<br>pca2=%{z}<extra></extra>",
         "legendgroup": "setosa",
         "marker": {
          "color": "#636efa",
          "symbol": "circle"
         },
         "mode": "markers",
         "name": "setosa",
         "scene": "scene",
         "showlegend": true,
         "type": "scatter3d",
         "x": [
          -2.7410575764372918,
          -2.214576787824203,
          -2.2934285563225156,
          -2.5245479748168207,
          -2.1351430995330056,
          -2.3552945199078428,
          -2.5744415787439863,
          -2.1673419120408917,
          -2.1302731605750593,
          -2.231583863665367,
          -2.1078732074228905,
          -2.252553208877256,
          -2.0957147996114944,
          -2.193324702507606,
          -1.9247315570740613,
          -1.7837900663255382,
          -2.1375780690119788,
          -2.3650343978237354,
          -2.403757515894729,
          -2.0338701069543452,
          -2.173380989762588,
          -2.1794790489241103,
          -2.0818101645881733,
          -2.2006508818727033,
          -1.9260350983009298,
          -2.3092664933999294,
          -2.608552422377787,
          -2.2710286031703473,
          -2.156112444744895,
          -2.403272288053317,
          -2.410838665666766,
          -2.335329536234647,
          -2.346761491267348,
          -1.840263152599861,
          -2.1933459734357843,
          -2.1685487613162895,
          -2.4938387516890392,
          -2.0545402724780586,
          -1.881623727886532,
          -2.1599992930923255
         ],
         "y": [
          0.41579770810698613,
          2.60476166869183,
          0.10807830163267954,
          -0.4969382086376969,
          0.502812496042832,
          0.6114964699139209,
          1.7265043629426045,
          1.4328187456351869,
          1.0087299717145195,
          0.4538878055910982,
          0.29627914126827587,
          0.41297345471558855,
          1.0920078564576592,
          0.11182726271834845,
          -0.6177064291716308,
          0.07110038324677277,
          0.24985375820698816,
          -0.400338481429453,
          2.081573860172471,
          1.4378173604160789,
          -0.004354633324078294,
          -0.21213764179385644,
          -0.461347418544031,
          0.20217872145047774,
          0.4407534345299293,
          -1.111539658180473,
          -0.9656902945195438,
          -0.6043725288135631,
          0.46189814516732214,
          -0.907505610796363,
          0.018239260305436142,
          -0.3539130983681652,
          1.0722382162195425,
          -2.2888061420189594,
          0.9610549349580083,
          0.8817255405974354,
          0.5558110935811869,
          -0.6678807733185871,
          0.39537817586696605,
          1.8115322608928905
         ],
         "z": [
          0.31436546089114586,
          0.030005739557767613,
          0.07235865980647396,
          0.2805466243439463,
          -0.2261961287810112,
          -0.0019083408368417004,
          0.037680398442158966,
          -0.015111470607446643,
          -0.28431917144443575,
          -0.14712767834901389,
          -0.29234701586118683,
          0.016537693401192637,
          0.23666278350782374,
          0.09657459677631026,
          -0.3342378313983312,
          0.014721206394992423,
          -0.1971346074492985,
          0.11433774449000776,
          -0.08913703940517298,
          0.017176445352335375,
          -0.17614506510753203,
          -0.25036793117765294,
          -0.19709047287610454,
          -0.10999417802735646,
          0.2945443943256592,
          0.11438187906320148,
          0.1507883582873278,
          0.06433081538972311,
          -0.06253075703080384,
          0.16438880816348608,
          0.3150924819886778,
          0.01912533607811952,
          0.04325300390156721,
          -0.2447070565718568,
          -0.19717874202249291,
          0.14629595945781196,
          0.0006351672668902636,
          -0.26324135995628023,
          -0.4424119377352352,
          -0.4828601018313509
         ]
        },
        {
         "hovertemplate": "class=versicolor<br>pca0=%{x}<br>pca1=%{y}<br>pca2=%{z}<extra></extra>",
         "legendgroup": "versicolor",
         "marker": {
          "color": "#EF553B",
          "symbol": "circle"
         },
         "mode": "markers",
         "name": "versicolor",
         "scene": "scene",
         "showlegend": true,
         "type": "scatter3d",
         "x": [
          0.9268280808279908,
          0.7858111690561752,
          0.4877156497702463,
          1.1024033535633733,
          0.058957895588213925,
          0.9243931113490181,
          0.2751683175205044,
          0.40250435293388165,
          0.1997346091116786,
          -0.08059069773167613,
          0.3333711914232823,
          0.1390590552182807,
          0.6239003330957634,
          0.5957015004702486,
          0.27635872721243304,
          0.4461138495462912,
          -0.32924013042020367,
          0.1677972657803225,
          1.4140878886009784,
          0.7969652153288784,
          -0.4120754392174194,
          1.1123882610723255,
          0.3248381627827881,
          1.2806750649542569,
          0.7697707442420565,
          1.124803306715542,
          1.155512529843323,
          0.49161893770114623,
          -0.002908067997113129,
          0.056447505085946856,
          0.6757649495886684,
          0.9762954383535706,
          0.32220070556711045,
          0.11808971000639142,
          -0.4529507866626793,
          1.2952848818280953,
          0.30243820963061924,
          1.0841681575186333,
          0.7500459588172125,
          0.5213615098018806,
          0.37794733906273775
         ],
         "y": [
          0.5291672751493126,
          0.6006858592305612,
          0.828563453939408,
          0.5409265758112056,
          -1.5207080076556014,
          0.2762085373134689,
          -0.3686601415411289,
          -0.19128183698018994,
          -0.7568331793671788,
          -2.5827173031459316,
          -0.8269025804563049,
          -0.1713867800380198,
          -0.12903530406335315,
          -1.6891512649460447,
          -0.28663191049321074,
          -1.698211728920594,
          -1.969365507298379,
          -1.5114480143841544,
          0.35541251496998927,
          0.39009065526234893,
          -1.5068616898926477,
          -0.6009245314445839,
          -1.2876443267619277,
          -0.8789764703003882,
          -0.16370138646274815,
          -0.17152425463503776,
          0.8812250475838465,
          -0.05200568779632682,
          -1.0172898393743597,
          -1.0133413489917922,
          0.04033266092136194,
          0.06541380404835787,
          -1.0853723504779262,
          -0.21230113091352973,
          -1.8117568429755564,
          0.6387759567146729,
          -0.575193496315685,
          -1.3118128200876171,
          -0.03368523055033186,
          -0.385743002984866,
          -0.9473458549892868
         ],
         "z": [
          -0.5163677559441274,
          -0.1041986592799143,
          0.44511779590652534,
          -0.4075548976560802,
          -0.2721264977148877,
          -0.4873062346124142,
          0.1381378427967353,
          0.47676695991516466,
          -0.32702314575024233,
          -0.08488394094598746,
          0.10912045603821813,
          0.11161982956875528,
          -0.28949232532303093,
          -0.7997705240352229,
          0.6510478187590487,
          -0.05219870488065132,
          0.07320882534481181,
          -0.1794575974067322,
          -0.27222402614005387,
          0.6095101887542639,
          0.1626071964517036,
          0.08699731321458791,
          0.06395911129980889,
          -0.3913226705298001,
          -0.0854670586230962,
          -0.4155827420728313,
          -0.6954941991498871,
          0.19112973467950065,
          -0.34639349835820327,
          0.5180631580743603,
          -0.03546012952281155,
          -0.6138381060409633,
          0.06972901403161094,
          0.2752852013189627,
          0.21842816285698385,
          -0.565691798520074,
          0.07198695571655965,
          -0.7170342242964077,
          -0.4637731841669157,
          -0.2846467409611546,
          -0.22398019019399784
         ]
        },
        {
         "hovertemplate": "class=virginica<br>pca0=%{x}<br>pca1=%{y}<br>pca2=%{z}<extra></extra>",
         "legendgroup": "virginica",
         "marker": {
          "color": "#00cc96",
          "symbol": "circle"
         },
         "mode": "markers",
         "name": "virginica",
         "scene": "scene",
         "showlegend": true,
         "type": "scatter3d",
         "x": [
          1.6159286919077815,
          1.2126568921122924,
          1.1654974373522755,
          1.4065427819157081,
          2.33644370796587,
          2.817516100375571,
          2.9597611323509634,
          1.3858136349521701,
          2.504325536374393,
          1.3129632336639068,
          0.9813137149531058,
          1.2126568921122924,
          1.4424727693797283,
          1.6578296718199128,
          1.5293761433329016,
          2.1053619999832125,
          1.251995835832039,
          2.8646919947190574,
          1.3067381077889741,
          2.017327197777935,
          1.6477529037041976,
          1.9458861335017739,
          1.9173339710929675,
          1.228735027438058,
          1.6565261305930437,
          1.9149531517091105,
          1.5810924221842186,
          2.3624173945988227,
          1.767635693039068,
          2.0695213687209564,
          1.9209241441572211,
          2.08195768529235,
          2.4948635672184984,
          1.4981136070901224,
          1.5302534381581838,
          1.0346089393862912,
          1.0183447559072907,
          0.4151267176585119,
          2.2685763771704934
         ],
         "y": [
          -0.8456854583002696,
          -0.6722435862289337,
          -0.2606260596719442,
          0.4319297138321297,
          1.9033188124857843,
          0.8365236632070477,
          0.46687061192389145,
          -0.4443780494130504,
          2.5357283018696686,
          -1.123725339263109,
          0.027198289860193292,
          -0.6722435862289337,
          0.9912327877430034,
          -0.3836940582994239,
          -0.4269081872684817,
          0.9181396039655813,
          -0.7683056064437396,
          0.8939711106398915,
          -1.6366030301126953,
          1.0248619774396621,
          1.0494174714661837,
          0.4413771785075105,
          0.8571427247439664,
          -0.2880190387854517,
          0.6747658054021364,
          0.6930862626481313,
          0.28659276757608587,
          0.4604348720438422,
          1.0120525523794444,
          1.0440939106843399,
          0.5957745887381023,
          0.6242665152542278,
          0.30833723990679796,
          -0.025063071387824366,
          0.27432104950930697,
          -0.5567989264768446,
          -0.016727785810648217,
          -1.5354049205199802,
          0.5894009035579341
         ],
         "z": [
          -0.04486300626701456,
          0.5150689360131026,
          -0.20094198827921905,
          0.17223298648394053,
          0.40611441472669546,
          -0.5889485418255664,
          -0.8687717297562341,
          -0.021374090394709763,
          -0.11878880621751312,
          0.5625764915828491,
          0.4062119431518617,
          0.5150689360131026,
          0.9356631971996199,
          0.008370317461339222,
          0.9961324506943826,
          0.23373831203539988,
          -0.18705597198427687,
          -0.547255023560817,
          -0.29606612754471784,
          -0.4264516458516403,
          0.949263647075779,
          0.019383124660571762,
          1.0080695762635408,
          0.11577326812751651,
          0.6371525431853294,
          -0.0177503756610864,
          0.17199155463835206,
          -0.6636128625744361,
          0.29690423633309493,
          0.635291921605935,
          -0.7279472626484116,
          0.4264652051173194,
          -0.7403792367482901,
          0.1512875787153686,
          0.027013648971768504,
          0.8158816662855366,
          0.5175683095436401,
          0.9655492680540301,
          -0.20975024764547312
         ]
        }
       ],
       "layout": {
        "autosize": true,
        "legend": {
         "title": {
          "text": "class"
         },
         "tracegroupgap": 0
        },
        "margin": {
         "t": 60
        },
        "scene": {
         "aspectmode": "auto",
         "aspectratio": {
          "x": 1.4945032120415225,
          "y": 1.359928175554503,
          "z": 0.4920250061652932
         },
         "camera": {
          "center": {
           "x": 0,
           "y": 0,
           "z": 0
          },
          "eye": {
           "x": 0.7580672755482472,
           "y": 0.758067275548247,
           "z": 0.7580672755482472
          },
          "projection": {
           "type": "perspective"
          },
          "up": {
           "x": 0,
           "y": 0,
           "z": 1
          }
         },
         "domain": {
          "x": [
           0,
           1
          ],
          "y": [
           0,
           1
          ]
         },
         "xaxis": {
          "title": {
           "text": "pca0"
          },
          "type": "linear"
         },
         "yaxis": {
          "title": {
           "text": "pca1"
          },
          "type": "linear"
         },
         "zaxis": {
          "title": {
           "text": "pca2"
          },
          "type": "linear"
         }
        },
        "template": {
         "data": {
          "bar": [
           {
            "error_x": {
             "color": "#2a3f5f"
            },
            "error_y": {
             "color": "#2a3f5f"
            },
            "marker": {
             "line": {
              "color": "#E5ECF6",
              "width": 0.5
             },
             "pattern": {
              "fillmode": "overlay",
              "size": 10,
              "solidity": 0.2
             }
            },
            "type": "bar"
           }
          ],
          "barpolar": [
           {
            "marker": {
             "line": {
              "color": "#E5ECF6",
              "width": 0.5
             },
             "pattern": {
              "fillmode": "overlay",
              "size": 10,
              "solidity": 0.2
             }
            },
            "type": "barpolar"
           }
          ],
          "carpet": [
           {
            "aaxis": {
             "endlinecolor": "#2a3f5f",
             "gridcolor": "white",
             "linecolor": "white",
             "minorgridcolor": "white",
             "startlinecolor": "#2a3f5f"
            },
            "baxis": {
             "endlinecolor": "#2a3f5f",
             "gridcolor": "white",
             "linecolor": "white",
             "minorgridcolor": "white",
             "startlinecolor": "#2a3f5f"
            },
            "type": "carpet"
           }
          ],
          "choropleth": [
           {
            "colorbar": {
             "outlinewidth": 0,
             "ticks": ""
            },
            "type": "choropleth"
           }
          ],
          "contour": [
           {
            "colorbar": {
             "outlinewidth": 0,
             "ticks": ""
            },
            "colorscale": [
             [
              0,
              "#0d0887"
             ],
             [
              0.1111111111111111,
              "#46039f"
             ],
             [
              0.2222222222222222,
              "#7201a8"
             ],
             [
              0.3333333333333333,
              "#9c179e"
             ],
             [
              0.4444444444444444,
              "#bd3786"
             ],
             [
              0.5555555555555556,
              "#d8576b"
             ],
             [
              0.6666666666666666,
              "#ed7953"
             ],
             [
              0.7777777777777778,
              "#fb9f3a"
             ],
             [
              0.8888888888888888,
              "#fdca26"
             ],
             [
              1,
              "#f0f921"
             ]
            ],
            "type": "contour"
           }
          ],
          "contourcarpet": [
           {
            "colorbar": {
             "outlinewidth": 0,
             "ticks": ""
            },
            "type": "contourcarpet"
           }
          ],
          "heatmap": [
           {
            "colorbar": {
             "outlinewidth": 0,
             "ticks": ""
            },
            "colorscale": [
             [
              0,
              "#0d0887"
             ],
             [
              0.1111111111111111,
              "#46039f"
             ],
             [
              0.2222222222222222,
              "#7201a8"
             ],
             [
              0.3333333333333333,
              "#9c179e"
             ],
             [
              0.4444444444444444,
              "#bd3786"
             ],
             [
              0.5555555555555556,
              "#d8576b"
             ],
             [
              0.6666666666666666,
              "#ed7953"
             ],
             [
              0.7777777777777778,
              "#fb9f3a"
             ],
             [
              0.8888888888888888,
              "#fdca26"
             ],
             [
              1,
              "#f0f921"
             ]
            ],
            "type": "heatmap"
           }
          ],
          "heatmapgl": [
           {
            "colorbar": {
             "outlinewidth": 0,
             "ticks": ""
            },
            "colorscale": [
             [
              0,
              "#0d0887"
             ],
             [
              0.1111111111111111,
              "#46039f"
             ],
             [
              0.2222222222222222,
              "#7201a8"
             ],
             [
              0.3333333333333333,
              "#9c179e"
             ],
             [
              0.4444444444444444,
              "#bd3786"
             ],
             [
              0.5555555555555556,
              "#d8576b"
             ],
             [
              0.6666666666666666,
              "#ed7953"
             ],
             [
              0.7777777777777778,
              "#fb9f3a"
             ],
             [
              0.8888888888888888,
              "#fdca26"
             ],
             [
              1,
              "#f0f921"
             ]
            ],
            "type": "heatmapgl"
           }
          ],
          "histogram": [
           {
            "marker": {
             "pattern": {
              "fillmode": "overlay",
              "size": 10,
              "solidity": 0.2
             }
            },
            "type": "histogram"
           }
          ],
          "histogram2d": [
           {
            "colorbar": {
             "outlinewidth": 0,
             "ticks": ""
            },
            "colorscale": [
             [
              0,
              "#0d0887"
             ],
             [
              0.1111111111111111,
              "#46039f"
             ],
             [
              0.2222222222222222,
              "#7201a8"
             ],
             [
              0.3333333333333333,
              "#9c179e"
             ],
             [
              0.4444444444444444,
              "#bd3786"
             ],
             [
              0.5555555555555556,
              "#d8576b"
             ],
             [
              0.6666666666666666,
              "#ed7953"
             ],
             [
              0.7777777777777778,
              "#fb9f3a"
             ],
             [
              0.8888888888888888,
              "#fdca26"
             ],
             [
              1,
              "#f0f921"
             ]
            ],
            "type": "histogram2d"
           }
          ],
          "histogram2dcontour": [
           {
            "colorbar": {
             "outlinewidth": 0,
             "ticks": ""
            },
            "colorscale": [
             [
              0,
              "#0d0887"
             ],
             [
              0.1111111111111111,
              "#46039f"
             ],
             [
              0.2222222222222222,
              "#7201a8"
             ],
             [
              0.3333333333333333,
              "#9c179e"
             ],
             [
              0.4444444444444444,
              "#bd3786"
             ],
             [
              0.5555555555555556,
              "#d8576b"
             ],
             [
              0.6666666666666666,
              "#ed7953"
             ],
             [
              0.7777777777777778,
              "#fb9f3a"
             ],
             [
              0.8888888888888888,
              "#fdca26"
             ],
             [
              1,
              "#f0f921"
             ]
            ],
            "type": "histogram2dcontour"
           }
          ],
          "mesh3d": [
           {
            "colorbar": {
             "outlinewidth": 0,
             "ticks": ""
            },
            "type": "mesh3d"
           }
          ],
          "parcoords": [
           {
            "line": {
             "colorbar": {
              "outlinewidth": 0,
              "ticks": ""
             }
            },
            "type": "parcoords"
           }
          ],
          "pie": [
           {
            "automargin": true,
            "type": "pie"
           }
          ],
          "scatter": [
           {
            "fillpattern": {
             "fillmode": "overlay",
             "size": 10,
             "solidity": 0.2
            },
            "type": "scatter"
           }
          ],
          "scatter3d": [
           {
            "line": {
             "colorbar": {
              "outlinewidth": 0,
              "ticks": ""
             }
            },
            "marker": {
             "colorbar": {
              "outlinewidth": 0,
              "ticks": ""
             }
            },
            "type": "scatter3d"
           }
          ],
          "scattercarpet": [
           {
            "marker": {
             "colorbar": {
              "outlinewidth": 0,
              "ticks": ""
             }
            },
            "type": "scattercarpet"
           }
          ],
          "scattergeo": [
           {
            "marker": {
             "colorbar": {
              "outlinewidth": 0,
              "ticks": ""
             }
            },
            "type": "scattergeo"
           }
          ],
          "scattergl": [
           {
            "marker": {
             "colorbar": {
              "outlinewidth": 0,
              "ticks": ""
             }
            },
            "type": "scattergl"
           }
          ],
          "scattermapbox": [
           {
            "marker": {
             "colorbar": {
              "outlinewidth": 0,
              "ticks": ""
             }
            },
            "type": "scattermapbox"
           }
          ],
          "scatterpolar": [
           {
            "marker": {
             "colorbar": {
              "outlinewidth": 0,
              "ticks": ""
             }
            },
            "type": "scatterpolar"
           }
          ],
          "scatterpolargl": [
           {
            "marker": {
             "colorbar": {
              "outlinewidth": 0,
              "ticks": ""
             }
            },
            "type": "scatterpolargl"
           }
          ],
          "scatterternary": [
           {
            "marker": {
             "colorbar": {
              "outlinewidth": 0,
              "ticks": ""
             }
            },
            "type": "scatterternary"
           }
          ],
          "surface": [
           {
            "colorbar": {
             "outlinewidth": 0,
             "ticks": ""
            },
            "colorscale": [
             [
              0,
              "#0d0887"
             ],
             [
              0.1111111111111111,
              "#46039f"
             ],
             [
              0.2222222222222222,
              "#7201a8"
             ],
             [
              0.3333333333333333,
              "#9c179e"
             ],
             [
              0.4444444444444444,
              "#bd3786"
             ],
             [
              0.5555555555555556,
              "#d8576b"
             ],
             [
              0.6666666666666666,
              "#ed7953"
             ],
             [
              0.7777777777777778,
              "#fb9f3a"
             ],
             [
              0.8888888888888888,
              "#fdca26"
             ],
             [
              1,
              "#f0f921"
             ]
            ],
            "type": "surface"
           }
          ],
          "table": [
           {
            "cells": {
             "fill": {
              "color": "#EBF0F8"
             },
             "line": {
              "color": "white"
             }
            },
            "header": {
             "fill": {
              "color": "#C8D4E3"
             },
             "line": {
              "color": "white"
             }
            },
            "type": "table"
           }
          ]
         },
         "layout": {
          "annotationdefaults": {
           "arrowcolor": "#2a3f5f",
           "arrowhead": 0,
           "arrowwidth": 1
          },
          "autotypenumbers": "strict",
          "coloraxis": {
           "colorbar": {
            "outlinewidth": 0,
            "ticks": ""
           }
          },
          "colorscale": {
           "diverging": [
            [
             0,
             "#8e0152"
            ],
            [
             0.1,
             "#c51b7d"
            ],
            [
             0.2,
             "#de77ae"
            ],
            [
             0.3,
             "#f1b6da"
            ],
            [
             0.4,
             "#fde0ef"
            ],
            [
             0.5,
             "#f7f7f7"
            ],
            [
             0.6,
             "#e6f5d0"
            ],
            [
             0.7,
             "#b8e186"
            ],
            [
             0.8,
             "#7fbc41"
            ],
            [
             0.9,
             "#4d9221"
            ],
            [
             1,
             "#276419"
            ]
           ],
           "sequential": [
            [
             0,
             "#0d0887"
            ],
            [
             0.1111111111111111,
             "#46039f"
            ],
            [
             0.2222222222222222,
             "#7201a8"
            ],
            [
             0.3333333333333333,
             "#9c179e"
            ],
            [
             0.4444444444444444,
             "#bd3786"
            ],
            [
             0.5555555555555556,
             "#d8576b"
            ],
            [
             0.6666666666666666,
             "#ed7953"
            ],
            [
             0.7777777777777778,
             "#fb9f3a"
            ],
            [
             0.8888888888888888,
             "#fdca26"
            ],
            [
             1,
             "#f0f921"
            ]
           ],
           "sequentialminus": [
            [
             0,
             "#0d0887"
            ],
            [
             0.1111111111111111,
             "#46039f"
            ],
            [
             0.2222222222222222,
             "#7201a8"
            ],
            [
             0.3333333333333333,
             "#9c179e"
            ],
            [
             0.4444444444444444,
             "#bd3786"
            ],
            [
             0.5555555555555556,
             "#d8576b"
            ],
            [
             0.6666666666666666,
             "#ed7953"
            ],
            [
             0.7777777777777778,
             "#fb9f3a"
            ],
            [
             0.8888888888888888,
             "#fdca26"
            ],
            [
             1,
             "#f0f921"
            ]
           ]
          },
          "colorway": [
           "#636efa",
           "#EF553B",
           "#00cc96",
           "#ab63fa",
           "#FFA15A",
           "#19d3f3",
           "#FF6692",
           "#B6E880",
           "#FF97FF",
           "#FECB52"
          ],
          "font": {
           "color": "#2a3f5f"
          },
          "geo": {
           "bgcolor": "white",
           "lakecolor": "white",
           "landcolor": "#E5ECF6",
           "showlakes": true,
           "showland": true,
           "subunitcolor": "white"
          },
          "hoverlabel": {
           "align": "left"
          },
          "hovermode": "closest",
          "mapbox": {
           "style": "light"
          },
          "paper_bgcolor": "white",
          "plot_bgcolor": "#E5ECF6",
          "polar": {
           "angularaxis": {
            "gridcolor": "white",
            "linecolor": "white",
            "ticks": ""
           },
           "bgcolor": "#E5ECF6",
           "radialaxis": {
            "gridcolor": "white",
            "linecolor": "white",
            "ticks": ""
           }
          },
          "scene": {
           "xaxis": {
            "backgroundcolor": "#E5ECF6",
            "gridcolor": "white",
            "gridwidth": 2,
            "linecolor": "white",
            "showbackground": true,
            "ticks": "",
            "zerolinecolor": "white"
           },
           "yaxis": {
            "backgroundcolor": "#E5ECF6",
            "gridcolor": "white",
            "gridwidth": 2,
            "linecolor": "white",
            "showbackground": true,
            "ticks": "",
            "zerolinecolor": "white"
           },
           "zaxis": {
            "backgroundcolor": "#E5ECF6",
            "gridcolor": "white",
            "gridwidth": 2,
            "linecolor": "white",
            "showbackground": true,
            "ticks": "",
            "zerolinecolor": "white"
           }
          },
          "shapedefaults": {
           "line": {
            "color": "#2a3f5f"
           }
          },
          "ternary": {
           "aaxis": {
            "gridcolor": "white",
            "linecolor": "white",
            "ticks": ""
           },
           "baxis": {
            "gridcolor": "white",
            "linecolor": "white",
            "ticks": ""
           },
           "bgcolor": "#E5ECF6",
           "caxis": {
            "gridcolor": "white",
            "linecolor": "white",
            "ticks": ""
           }
          },
          "title": {
           "x": 0.05
          },
          "xaxis": {
           "automargin": true,
           "gridcolor": "white",
           "linecolor": "white",
           "ticks": "",
           "title": {
            "standoff": 15
           },
           "zerolinecolor": "white",
           "zerolinewidth": 2
          },
          "yaxis": {
           "automargin": true,
           "gridcolor": "white",
           "linecolor": "white",
           "ticks": "",
           "title": {
            "standoff": 15
           },
           "zerolinecolor": "white",
           "zerolinewidth": 2
          }
         }
        }
       }
      },
      "image/png": "[encoded data removed]",
      "text/html": [
       "<div>                            <div id=\"9405e7fd-e1fa-4091-aa83-ebd778474fdc\" class=\"plotly-graph-div\" style=\"height:600px; width:100%;\"></div>            <script type=\"text/javascript\">                require([\"plotly\"], function(Plotly) {                    window.PLOTLYENV=window.PLOTLYENV || {};                                    if (document.getElementById(\"9405e7fd-e1fa-4091-aa83-ebd778474fdc\")) {                    Plotly.newPlot(                        \"9405e7fd-e1fa-4091-aa83-ebd778474fdc\",                        [{\"hovertemplate\":\"class=setosa<br>pca0=%{x}<br>pca1=%{y}<br>pca2=%{z}<extra></extra>\",\"legendgroup\":\"setosa\",\"marker\":{\"color\":\"#636efa\",\"symbol\":\"circle\"},\"mode\":\"markers\",\"name\":\"setosa\",\"scene\":\"scene\",\"showlegend\":true,\"x\":[-2.7410575764372918,-2.214576787824203,-2.2934285563225156,-2.5245479748168207,-2.1351430995330056,-2.3552945199078428,-2.5744415787439863,-2.1673419120408917,-2.1302731605750593,-2.231583863665367,-2.1078732074228905,-2.252553208877256,-2.0957147996114944,-2.193324702507606,-1.9247315570740613,-1.7837900663255382,-2.1375780690119788,-2.3650343978237354,-2.403757515894729,-2.0338701069543452,-2.173380989762588,-2.1794790489241103,-2.0818101645881733,-2.2006508818727033,-1.9260350983009298,-2.3092664933999294,-2.608552422377787,-2.2710286031703473,-2.156112444744895,-2.403272288053317,-2.410838665666766,-2.335329536234647,-2.346761491267348,-1.840263152599861,-2.1933459734357843,-2.1685487613162895,-2.4938387516890392,-2.0545402724780586,-1.881623727886532,-2.1599992930923255],\"y\":[0.41579770810698613,2.60476166869183,0.10807830163267954,-0.4969382086376969,0.502812496042832,0.6114964699139209,1.7265043629426045,1.4328187456351869,1.0087299717145195,0.4538878055910982,0.29627914126827587,0.41297345471558855,1.0920078564576592,0.11182726271834845,-0.6177064291716308,0.07110038324677277,0.24985375820698816,-0.400338481429453,2.081573860172471,1.4378173604160789,-0.004354633324078294,-0.21213764179385644,-0.461347418544031,0.20217872145047774,0.4407534345299293,-1.111539658180473,-0.9656902945195438,-0.6043725288135631,0.46189814516732214,-0.907505610796363,0.018239260305436142,-0.3539130983681652,1.0722382162195425,-2.2888061420189594,0.9610549349580083,0.8817255405974354,0.5558110935811869,-0.6678807733185871,0.39537817586696605,1.8115322608928905],\"z\":[0.31436546089114586,0.030005739557767613,0.07235865980647396,0.2805466243439463,-0.2261961287810112,-0.0019083408368417004,0.037680398442158966,-0.015111470607446643,-0.28431917144443575,-0.14712767834901389,-0.29234701586118683,0.016537693401192637,0.23666278350782374,0.09657459677631026,-0.3342378313983312,0.014721206394992423,-0.1971346074492985,0.11433774449000776,-0.08913703940517298,0.017176445352335375,-0.17614506510753203,-0.25036793117765294,-0.19709047287610454,-0.10999417802735646,0.2945443943256592,0.11438187906320148,0.1507883582873278,0.06433081538972311,-0.06253075703080384,0.16438880816348608,0.3150924819886778,0.01912533607811952,0.04325300390156721,-0.2447070565718568,-0.19717874202249291,0.14629595945781196,0.0006351672668902636,-0.26324135995628023,-0.4424119377352352,-0.4828601018313509],\"type\":\"scatter3d\"},{\"hovertemplate\":\"class=versicolor<br>pca0=%{x}<br>pca1=%{y}<br>pca2=%{z}<extra></extra>\",\"legendgroup\":\"versicolor\",\"marker\":{\"color\":\"#EF553B\",\"symbol\":\"circle\"},\"mode\":\"markers\",\"name\":\"versicolor\",\"scene\":\"scene\",\"showlegend\":true,\"x\":[0.9268280808279908,0.7858111690561752,0.4877156497702463,1.1024033535633733,0.058957895588213925,0.9243931113490181,0.2751683175205044,0.40250435293388165,0.1997346091116786,-0.08059069773167613,0.3333711914232823,0.1390590552182807,0.6239003330957634,0.5957015004702486,0.27635872721243304,0.4461138495462912,-0.32924013042020367,0.1677972657803225,1.4140878886009784,0.7969652153288784,-0.4120754392174194,1.1123882610723255,0.3248381627827881,1.2806750649542569,0.7697707442420565,1.124803306715542,1.155512529843323,0.49161893770114623,-0.002908067997113129,0.056447505085946856,0.6757649495886684,0.9762954383535706,0.32220070556711045,0.11808971000639142,-0.4529507866626793,1.2952848818280953,0.30243820963061924,1.0841681575186333,0.7500459588172125,0.5213615098018806,0.37794733906273775],\"y\":[0.5291672751493126,0.6006858592305612,0.828563453939408,0.5409265758112056,-1.5207080076556014,0.2762085373134689,-0.3686601415411289,-0.19128183698018994,-0.7568331793671788,-2.5827173031459316,-0.8269025804563049,-0.1713867800380198,-0.12903530406335315,-1.6891512649460447,-0.28663191049321074,-1.698211728920594,-1.969365507298379,-1.5114480143841544,0.35541251496998927,0.39009065526234893,-1.5068616898926477,-0.6009245314445839,-1.2876443267619277,-0.8789764703003882,-0.16370138646274815,-0.17152425463503776,0.8812250475838465,-0.05200568779632682,-1.0172898393743597,-1.0133413489917922,0.04033266092136194,0.06541380404835787,-1.0853723504779262,-0.21230113091352973,-1.8117568429755564,0.6387759567146729,-0.575193496315685,-1.3118128200876171,-0.03368523055033186,-0.385743002984866,-0.9473458549892868],\"z\":[-0.5163677559441274,-0.1041986592799143,0.44511779590652534,-0.4075548976560802,-0.2721264977148877,-0.4873062346124142,0.1381378427967353,0.47676695991516466,-0.32702314575024233,-0.08488394094598746,0.10912045603821813,0.11161982956875528,-0.28949232532303093,-0.7997705240352229,0.6510478187590487,-0.05219870488065132,0.07320882534481181,-0.1794575974067322,-0.27222402614005387,0.6095101887542639,0.1626071964517036,0.08699731321458791,0.06395911129980889,-0.3913226705298001,-0.0854670586230962,-0.4155827420728313,-0.6954941991498871,0.19112973467950065,-0.34639349835820327,0.5180631580743603,-0.03546012952281155,-0.6138381060409633,0.06972901403161094,0.2752852013189627,0.21842816285698385,-0.565691798520074,0.07198695571655965,-0.7170342242964077,-0.4637731841669157,-0.2846467409611546,-0.22398019019399784],\"type\":\"scatter3d\"},{\"hovertemplate\":\"class=virginica<br>pca0=%{x}<br>pca1=%{y}<br>pca2=%{z}<extra></extra>\",\"legendgroup\":\"virginica\",\"marker\":{\"color\":\"#00cc96\",\"symbol\":\"circle\"},\"mode\":\"markers\",\"name\":\"virginica\",\"scene\":\"scene\",\"showlegend\":true,\"x\":[1.6159286919077815,1.2126568921122924,1.1654974373522755,1.4065427819157081,2.33644370796587,2.817516100375571,2.9597611323509634,1.3858136349521701,2.504325536374393,1.3129632336639068,0.9813137149531058,1.2126568921122924,1.4424727693797283,1.6578296718199128,1.5293761433329016,2.1053619999832125,1.251995835832039,2.8646919947190574,1.3067381077889741,2.017327197777935,1.6477529037041976,1.9458861335017739,1.9173339710929675,1.228735027438058,1.6565261305930437,1.9149531517091105,1.5810924221842186,2.3624173945988227,1.767635693039068,2.0695213687209564,1.9209241441572211,2.08195768529235,2.4948635672184984,1.4981136070901224,1.5302534381581838,1.0346089393862912,1.0183447559072907,0.4151267176585119,2.2685763771704934],\"y\":[-0.8456854583002696,-0.6722435862289337,-0.2606260596719442,0.4319297138321297,1.9033188124857843,0.8365236632070477,0.46687061192389145,-0.4443780494130504,2.5357283018696686,-1.123725339263109,0.027198289860193292,-0.6722435862289337,0.9912327877430034,-0.3836940582994239,-0.4269081872684817,0.9181396039655813,-0.7683056064437396,0.8939711106398915,-1.6366030301126953,1.0248619774396621,1.0494174714661837,0.4413771785075105,0.8571427247439664,-0.2880190387854517,0.6747658054021364,0.6930862626481313,0.28659276757608587,0.4604348720438422,1.0120525523794444,1.0440939106843399,0.5957745887381023,0.6242665152542278,0.30833723990679796,-0.025063071387824366,0.27432104950930697,-0.5567989264768446,-0.016727785810648217,-1.5354049205199802,0.5894009035579341],\"z\":[-0.04486300626701456,0.5150689360131026,-0.20094198827921905,0.17223298648394053,0.40611441472669546,-0.5889485418255664,-0.8687717297562341,-0.021374090394709763,-0.11878880621751312,0.5625764915828491,0.4062119431518617,0.5150689360131026,0.9356631971996199,0.008370317461339222,0.9961324506943826,0.23373831203539988,-0.18705597198427687,-0.547255023560817,-0.29606612754471784,-0.4264516458516403,0.949263647075779,0.019383124660571762,1.0080695762635408,0.11577326812751651,0.6371525431853294,-0.0177503756610864,0.17199155463835206,-0.6636128625744361,0.29690423633309493,0.635291921605935,-0.7279472626484116,0.4264652051173194,-0.7403792367482901,0.1512875787153686,0.027013648971768504,0.8158816662855366,0.5175683095436401,0.9655492680540301,-0.20975024764547312],\"type\":\"scatter3d\"}],                        {\"template\":{\"data\":{\"histogram2dcontour\":[{\"type\":\"histogram2dcontour\",\"colorbar\":{\"outlinewidth\":0,\"ticks\":\"\"},\"colorscale\":[[0.0,\"#0d0887\"],[0.1111111111111111,\"#46039f\"],[0.2222222222222222,\"#7201a8\"],[0.3333333333333333,\"#9c179e\"],[0.4444444444444444,\"#bd3786\"],[0.5555555555555556,\"#d8576b\"],[0.6666666666666666,\"#ed7953\"],[0.7777777777777778,\"#fb9f3a\"],[0.8888888888888888,\"#fdca26\"],[1.0,\"#f0f921\"]]}],\"choropleth\":[{\"type\":\"choropleth\",\"colorbar\":{\"outlinewidth\":0,\"ticks\":\"\"}}],\"histogram2d\":[{\"type\":\"histogram2d\",\"colorbar\":{\"outlinewidth\":0,\"ticks\":\"\"},\"colorscale\":[[0.0,\"#0d0887\"],[0.1111111111111111,\"#46039f\"],[0.2222222222222222,\"#7201a8\"],[0.3333333333333333,\"#9c179e\"],[0.4444444444444444,\"#bd3786\"],[0.5555555555555556,\"#d8576b\"],[0.6666666666666666,\"#ed7953\"],[0.7777777777777778,\"#fb9f3a\"],[0.8888888888888888,\"#fdca26\"],[1.0,\"#f0f921\"]]}],\"heatmap\":[{\"type\":\"heatmap\",\"colorbar\":{\"outlinewidth\":0,\"ticks\":\"\"},\"colorscale\":[[0.0,\"#0d0887\"],[0.1111111111111111,\"#46039f\"],[0.2222222222222222,\"#7201a8\"],[0.3333333333333333,\"#9c179e\"],[0.4444444444444444,\"#bd3786\"],[0.5555555555555556,\"#d8576b\"],[0.6666666666666666,\"#ed7953\"],[0.7777777777777778,\"#fb9f3a\"],[0.8888888888888888,\"#fdca26\"],[1.0,\"#f0f921\"]]}],\"heatmapgl\":[{\"type\":\"heatmapgl\",\"colorbar\":{\"outlinewidth\":0,\"ticks\":\"\"},\"colorscale\":[[0.0,\"#0d0887\"],[0.1111111111111111,\"#46039f\"],[0.2222222222222222,\"#7201a8\"],[0.3333333333333333,\"#9c179e\"],[0.4444444444444444,\"#bd3786\"],[0.5555555555555556,\"#d8576b\"],[0.6666666666666666,\"#ed7953\"],[0.7777777777777778,\"#fb9f3a\"],[0.8888888888888888,\"#fdca26\"],[1.0,\"#f0f921\"]]}],\"contourcarpet\":[{\"type\":\"contourcarpet\",\"colorbar\":{\"outlinewidth\":0,\"ticks\":\"\"}}],\"contour\":[{\"type\":\"contour\",\"colorbar\":{\"outlinewidth\":0,\"ticks\":\"\"},\"colorscale\":[[0.0,\"#0d0887\"],[0.1111111111111111,\"#46039f\"],[0.2222222222222222,\"#7201a8\"],[0.3333333333333333,\"#9c179e\"],[0.4444444444444444,\"#bd3786\"],[0.5555555555555556,\"#d8576b\"],[0.6666666666666666,\"#ed7953\"],[0.7777777777777778,\"#fb9f3a\"],[0.8888888888888888,\"#fdca26\"],[1.0,\"#f0f921\"]]}],\"surface\":[{\"type\":\"surface\",\"colorbar\":{\"outlinewidth\":0,\"ticks\":\"\"},\"colorscale\":[[0.0,\"#0d0887\"],[0.1111111111111111,\"#46039f\"],[0.2222222222222222,\"#7201a8\"],[0.3333333333333333,\"#9c179e\"],[0.4444444444444444,\"#bd3786\"],[0.5555555555555556,\"#d8576b\"],[0.6666666666666666,\"#ed7953\"],[0.7777777777777778,\"#fb9f3a\"],[0.8888888888888888,\"#fdca26\"],[1.0,\"#f0f921\"]]}],\"mesh3d\":[{\"type\":\"mesh3d\",\"colorbar\":{\"outlinewidth\":0,\"ticks\":\"\"}}],\"scatter\":[{\"fillpattern\":{\"fillmode\":\"overlay\",\"size\":10,\"solidity\":0.2},\"type\":\"scatter\"}],\"parcoords\":[{\"type\":\"parcoords\",\"line\":{\"colorbar\":{\"outlinewidth\":0,\"ticks\":\"\"}}}],\"scatterpolargl\":[{\"type\":\"scatterpolargl\",\"marker\":{\"colorbar\":{\"outlinewidth\":0,\"ticks\":\"\"}}}],\"bar\":[{\"error_x\":{\"color\":\"#2a3f5f\"},\"error_y\":{\"color\":\"#2a3f5f\"},\"marker\":{\"line\":{\"color\":\"#E5ECF6\",\"width\":0.5},\"pattern\":{\"fillmode\":\"overlay\",\"size\":10,\"solidity\":0.2}},\"type\":\"bar\"}],\"scattergeo\":[{\"type\":\"scattergeo\",\"marker\":{\"colorbar\":{\"outlinewidth\":0,\"ticks\":\"\"}}}],\"scatterpolar\":[{\"type\":\"scatterpolar\",\"marker\":{\"colorbar\":{\"outlinewidth\":0,\"ticks\":\"\"}}}],\"histogram\":[{\"marker\":{\"pattern\":{\"fillmode\":\"overlay\",\"size\":10,\"solidity\":0.2}},\"type\":\"histogram\"}],\"scattergl\":[{\"type\":\"scattergl\",\"marker\":{\"colorbar\":{\"outlinewidth\":0,\"ticks\":\"\"}}}],\"scatter3d\":[{\"type\":\"scatter3d\",\"line\":{\"colorbar\":{\"outlinewidth\":0,\"ticks\":\"\"}},\"marker\":{\"colorbar\":{\"outlinewidth\":0,\"ticks\":\"\"}}}],\"scattermapbox\":[{\"type\":\"scattermapbox\",\"marker\":{\"colorbar\":{\"outlinewidth\":0,\"ticks\":\"\"}}}],\"scatterternary\":[{\"type\":\"scatterternary\",\"marker\":{\"colorbar\":{\"outlinewidth\":0,\"ticks\":\"\"}}}],\"scattercarpet\":[{\"type\":\"scattercarpet\",\"marker\":{\"colorbar\":{\"outlinewidth\":0,\"ticks\":\"\"}}}],\"carpet\":[{\"aaxis\":{\"endlinecolor\":\"#2a3f5f\",\"gridcolor\":\"white\",\"linecolor\":\"white\",\"minorgridcolor\":\"white\",\"startlinecolor\":\"#2a3f5f\"},\"baxis\":{\"endlinecolor\":\"#2a3f5f\",\"gridcolor\":\"white\",\"linecolor\":\"white\",\"minorgridcolor\":\"white\",\"startlinecolor\":\"#2a3f5f\"},\"type\":\"carpet\"}],\"table\":[{\"cells\":{\"fill\":{\"color\":\"#EBF0F8\"},\"line\":{\"color\":\"white\"}},\"header\":{\"fill\":{\"color\":\"#C8D4E3\"},\"line\":{\"color\":\"white\"}},\"type\":\"table\"}],\"barpolar\":[{\"marker\":{\"line\":{\"color\":\"#E5ECF6\",\"width\":0.5},\"pattern\":{\"fillmode\":\"overlay\",\"size\":10,\"solidity\":0.2}},\"type\":\"barpolar\"}],\"pie\":[{\"automargin\":true,\"type\":\"pie\"}]},\"layout\":{\"autotypenumbers\":\"strict\",\"colorway\":[\"#636efa\",\"#EF553B\",\"#00cc96\",\"#ab63fa\",\"#FFA15A\",\"#19d3f3\",\"#FF6692\",\"#B6E880\",\"#FF97FF\",\"#FECB52\"],\"font\":{\"color\":\"#2a3f5f\"},\"hovermode\":\"closest\",\"hoverlabel\":{\"align\":\"left\"},\"paper_bgcolor\":\"white\",\"plot_bgcolor\":\"#E5ECF6\",\"polar\":{\"bgcolor\":\"#E5ECF6\",\"angularaxis\":{\"gridcolor\":\"white\",\"linecolor\":\"white\",\"ticks\":\"\"},\"radialaxis\":{\"gridcolor\":\"white\",\"linecolor\":\"white\",\"ticks\":\"\"}},\"ternary\":{\"bgcolor\":\"#E5ECF6\",\"aaxis\":{\"gridcolor\":\"white\",\"linecolor\":\"white\",\"ticks\":\"\"},\"baxis\":{\"gridcolor\":\"white\",\"linecolor\":\"white\",\"ticks\":\"\"},\"caxis\":{\"gridcolor\":\"white\",\"linecolor\":\"white\",\"ticks\":\"\"}},\"coloraxis\":{\"colorbar\":{\"outlinewidth\":0,\"ticks\":\"\"}},\"colorscale\":{\"sequential\":[[0.0,\"#0d0887\"],[0.1111111111111111,\"#46039f\"],[0.2222222222222222,\"#7201a8\"],[0.3333333333333333,\"#9c179e\"],[0.4444444444444444,\"#bd3786\"],[0.5555555555555556,\"#d8576b\"],[0.6666666666666666,\"#ed7953\"],[0.7777777777777778,\"#fb9f3a\"],[0.8888888888888888,\"#fdca26\"],[1.0,\"#f0f921\"]],\"sequentialminus\":[[0.0,\"#0d0887\"],[0.1111111111111111,\"#46039f\"],[0.2222222222222222,\"#7201a8\"],[0.3333333333333333,\"#9c179e\"],[0.4444444444444444,\"#bd3786\"],[0.5555555555555556,\"#d8576b\"],[0.6666666666666666,\"#ed7953\"],[0.7777777777777778,\"#fb9f3a\"],[0.8888888888888888,\"#fdca26\"],[1.0,\"#f0f921\"]],\"diverging\":[[0,\"#8e0152\"],[0.1,\"#c51b7d\"],[0.2,\"#de77ae\"],[0.3,\"#f1b6da\"],[0.4,\"#fde0ef\"],[0.5,\"#f7f7f7\"],[0.6,\"#e6f5d0\"],[0.7,\"#b8e186\"],[0.8,\"#7fbc41\"],[0.9,\"#4d9221\"],[1,\"#276419\"]]},\"xaxis\":{\"gridcolor\":\"white\",\"linecolor\":\"white\",\"ticks\":\"\",\"title\":{\"standoff\":15},\"zerolinecolor\":\"white\",\"automargin\":true,\"zerolinewidth\":2},\"yaxis\":{\"gridcolor\":\"white\",\"linecolor\":\"white\",\"ticks\":\"\",\"title\":{\"standoff\":15},\"zerolinecolor\":\"white\",\"automargin\":true,\"zerolinewidth\":2},\"scene\":{\"xaxis\":{\"backgroundcolor\":\"#E5ECF6\",\"gridcolor\":\"white\",\"linecolor\":\"white\",\"showbackground\":true,\"ticks\":\"\",\"zerolinecolor\":\"white\",\"gridwidth\":2},\"yaxis\":{\"backgroundcolor\":\"#E5ECF6\",\"gridcolor\":\"white\",\"linecolor\":\"white\",\"showbackground\":true,\"ticks\":\"\",\"zerolinecolor\":\"white\",\"gridwidth\":2},\"zaxis\":{\"backgroundcolor\":\"#E5ECF6\",\"gridcolor\":\"white\",\"linecolor\":\"white\",\"showbackground\":true,\"ticks\":\"\",\"zerolinecolor\":\"white\",\"gridwidth\":2}},\"shapedefaults\":{\"line\":{\"color\":\"#2a3f5f\"}},\"annotationdefaults\":{\"arrowcolor\":\"#2a3f5f\",\"arrowhead\":0,\"arrowwidth\":1},\"geo\":{\"bgcolor\":\"white\",\"landcolor\":\"#E5ECF6\",\"subunitcolor\":\"white\",\"showland\":true,\"showlakes\":true,\"lakecolor\":\"white\"},\"title\":{\"x\":0.05},\"mapbox\":{\"style\":\"light\"}}},\"scene\":{\"domain\":{\"x\":[0.0,1.0],\"y\":[0.0,1.0]},\"xaxis\":{\"title\":{\"text\":\"pca0\"}},\"yaxis\":{\"title\":{\"text\":\"pca1\"}},\"zaxis\":{\"title\":{\"text\":\"pca2\"}}},\"legend\":{\"title\":{\"text\":\"class\"},\"tracegroupgap\":0},\"margin\":{\"t\":60},\"height\":600},                        {\"responsive\": true}                    ).then(function(){\n",
       "                            \n",
       "var gd = document.getElementById('9405e7fd-e1fa-4091-aa83-ebd778474fdc');\n",
       "var x = new MutationObserver(function (mutations, observer) {{\n",
       "        var display = window.getComputedStyle(gd).display;\n",
       "        if (!display || display === 'none') {{\n",
       "            console.log([gd, 'removed!']);\n",
       "            Plotly.purge(gd);\n",
       "            observer.disconnect();\n",
       "        }}\n",
       "}});\n",
       "\n",
       "// Listen for the removal of the full notebook cells\n",
       "var notebookContainer = gd.closest('#notebook-container');\n",
       "if (notebookContainer) {{\n",
       "    x.observe(notebookContainer, {childList: true});\n",
       "}}\n",
       "\n",
       "// Listen for the clearing of the current output cell\n",
       "var outputEl = gd.closest('.output');\n",
       "if (outputEl) {{\n",
       "    x.observe(outputEl, {childList: true});\n",
       "}}\n",
       "\n",
       "                        })                };                });            </script>        </div>"
      ]
     },
     "metadata": {},
     "output_type": "display_data"
    }
   ],
   "source": [
    "px.scatter_3d(train_pca_features, x = 'pca0', y= 'pca1', z= 'pca2', color='class', height=600)"
   ]
  }
 ],
 "metadata": {
  "kernelspec": {
   "display_name": "python-ml-kernel",
   "language": "python",
   "name": "python-ml-kernel"
  },
  "language_info": {
   "codemirror_mode": {
    "name": "ipython",
    "version": 3
   },
   "file_extension": ".py",
   "mimetype": "text/x-python",
   "name": "python",
   "nbconvert_exporter": "python",
   "pygments_lexer": "ipython3",
   "version": "3.9.16"
  }
 },
 "nbformat": 4,
 "nbformat_minor": 4
}
