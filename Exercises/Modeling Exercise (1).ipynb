{
 "cells": [
  {
   "cell_type": "markdown",
   "id": "05bb7c4c-452a-408f-ac26-b184f1e10862",
   "metadata": {},
   "source": [
    "# Modeling exercise"
   ]
  },
  {
   "cell_type": "markdown",
   "id": "38dbae80-7f28-4596-945e-a0784e384e4c",
   "metadata": {},
   "source": [
    "## General Instructions"
   ]
  },
  {
   "cell_type": "markdown",
   "id": "a5650156-42a5-4fb7-b74a-dec08bafd6c1",
   "metadata": {},
   "source": [
    "* Submission date: 14.5.2023\n",
    "* Submission Method: Link to your solution notebook in [this sheet](https://docs.google.com/spreadsheets/d/1GNPESGIhJpPb7LwMAyjF5qpJfZQak_mLkE3i5Y7a_VA/edit?usp=sharing)."
   ]
  },
  {
   "cell_type": "code",
   "execution_count": 2,
   "id": "5e136158-e12c-4d15-9c47-3cd726054a71",
   "metadata": {},
   "outputs": [],
   "source": [
    "import sys; sys.path.append('../src')\n",
    "import numpy as np\n",
    "import plotly_express as px"
   ]
  },
  {
   "cell_type": "code",
   "execution_count": 3,
   "id": "bd8e2c68-2e6e-44f9-a54b-db9d1b9d80df",
   "metadata": {},
   "outputs": [
    {
     "name": "stdout",
     "output_type": "stream",
     "text": [
      "Requirement already satisfied: plotly_express in c:\\users\\mor\\anaconda3\\lib\\site-packages (0.4.1)\n",
      "Requirement already satisfied: statsmodels>=0.9.0 in c:\\users\\mor\\anaconda3\\lib\\site-packages (from plotly_express) (0.13.2)\n",
      "Requirement already satisfied: patsy>=0.5 in c:\\users\\mor\\anaconda3\\lib\\site-packages (from plotly_express) (0.5.2)\n",
      "Requirement already satisfied: pandas>=0.20.0 in c:\\users\\mor\\anaconda3\\lib\\site-packages (from plotly_express) (1.4.4)\n",
      "Requirement already satisfied: scipy>=0.18 in c:\\users\\mor\\anaconda3\\lib\\site-packages (from plotly_express) (1.9.1)\n",
      "Requirement already satisfied: plotly>=4.1.0 in c:\\users\\mor\\anaconda3\\lib\\site-packages (from plotly_express) (5.9.0)\n",
      "Requirement already satisfied: numpy>=1.11 in c:\\users\\mor\\anaconda3\\lib\\site-packages (from plotly_express) (1.21.5)\n",
      "Requirement already satisfied: pytz>=2020.1 in c:\\users\\mor\\anaconda3\\lib\\site-packages (from pandas>=0.20.0->plotly_express) (2022.1)\n",
      "Requirement already satisfied: python-dateutil>=2.8.1 in c:\\users\\mor\\anaconda3\\lib\\site-packages (from pandas>=0.20.0->plotly_express) (2.8.2)\n",
      "Requirement already satisfied: six in c:\\users\\mor\\anaconda3\\lib\\site-packages (from patsy>=0.5->plotly_express) (1.16.0)\n",
      "Requirement already satisfied: tenacity>=6.2.0 in c:\\users\\mor\\anaconda3\\lib\\site-packages (from plotly>=4.1.0->plotly_express) (8.0.1)\n",
      "Requirement already satisfied: packaging>=21.3 in c:\\users\\mor\\anaconda3\\lib\\site-packages (from statsmodels>=0.9.0->plotly_express) (21.3)\n",
      "Requirement already satisfied: pyparsing!=3.0.5,>=2.0.2 in c:\\users\\mor\\anaconda3\\lib\\site-packages (from packaging>=21.3->statsmodels>=0.9.0->plotly_express) (3.0.9)\n",
      "Note: you may need to restart the kernel to use updated packages.\n"
     ]
    }
   ],
   "source": [
    "%pip install plotly_express"
   ]
  },
  {
   "cell_type": "code",
   "execution_count": 4,
   "id": "b53824c3-ccb9-4f1b-9420-bb0b57509862",
   "metadata": {},
   "outputs": [],
   "source": [
    "import pandas as pd\n",
    "import ipywidgets as widgets"
   ]
  },
  {
   "cell_type": "code",
   "execution_count": 5,
   "id": "da0716a6-a156-49a2-83d2-24d5ef36af3a",
   "metadata": {},
   "outputs": [],
   "source": [
    "from datasets import make_circles_dataframe, make_moons_dataframe"
   ]
  },
  {
   "cell_type": "markdown",
   "id": "513df470-6d24-4611-9fe8-61c25397763a",
   "metadata": {},
   "source": [
    "## Fitting and Overfiting "
   ]
  },
  {
   "cell_type": "markdown",
   "id": "2d1e502f-4b12-4bf1-a981-7135b36e0830",
   "metadata": {},
   "source": [
    "The goal of the following exercise is to:\n",
    "* Observe overfitting due to insuffient data\n",
    "* Observe Overfitting due to overly complex model\n",
    "* Identify the overfitting point by looking at Train vs Test error dynamic\n",
    "* Observe how noise levels effect the needed data samples and model capacity"
   ]
  },
  {
   "cell_type": "markdown",
   "id": "c80b1cdc-fcfb-4ac7-841c-a5a534d569cd",
   "metadata": {},
   "source": [
    "To do so, you'll code an experiment in the first part, and analyze the experiment result in the second part."
   ]
  },
  {
   "cell_type": "markdown",
   "id": "95f343cc-0b25-4302-ab24-fc290c07b6ee",
   "metadata": {},
   "source": [
    "### Building an experiment"
   ]
  },
  {
   "cell_type": "markdown",
   "id": "0e2a17e0-fb6f-479c-98bb-e5a6fc81e1ad",
   "metadata": {},
   "source": [
    "Code:\n",
    "\n",
    "1. Create data of size N with noise level of magnitude NL from datasets DS_NAME. \n",
    "1. Split it to training and validation data (no need for test set), use 80%-20%. \n",
    "1. Use Logistic regression and Choose one complex model of your choice: [KNN](https://scikit-learn.org/stable/modules/generated/sklearn.neighbors.KNeighborsClassifier.html), [SVM with RBF kernel](https://scikit-learn.org/stable/modules/svm.html) with different `gamma` values or [Random forest classifier](https://scikit-learn.org/stable/modules/generated/sklearn.ensemble.RandomForestClassifier.html) with differnt number of `min_samples_split`. \n",
    "1. Train on the train set for different hyper parameter values. compute:\n",
    "   1. Classification accuracy on the training set (TRE)\n",
    "   1. Classification accuracy on the validation set (TESTE)\n",
    "   1. The difference beteen the two above (E_DIFF)\n",
    "1. Save DS_NAME, N, NL, CLF_NAME, K, TRE, TESTE, E_DIFF and the regularization/hyper param (K, gamma or min_samples_split and regularization value for the linear regression classifier)\n",
    "\n",
    "Repeat for:\n",
    "* DS_NAME in Moons, Circles\n",
    "* N (number of samples) in [5, 10, 50, 100, 1000, 10000]\n",
    "* NL (noise level) in [0, 0.1, 0.2, 0.3, 0.4, 0.5]\n",
    "* For the complex model: 10 Values of hyper parameter of the complex model you've chosen.\n",
    "* For the linear model: 5 values of ridge (l2) regularization - [0.001, 0.01, 0.1, 1, 10, 100, 1000]"
   ]
  },
  {
   "cell_type": "markdown",
   "id": "ed7e0146-9c7a-4cf1-a83e-da9a11bcc796",
   "metadata": {},
   "source": [
    "### Analysing the expermient results"
   ]
  },
  {
   "cell_type": "markdown",
   "id": "0f39e9c4-0332-4564-a674-52b99332ecfd",
   "metadata": {},
   "source": [
    "1. For SVM only, For dataset of size 10k and for each dataset, What are the best model params? How stable is it? \n",
    "1. For SVM only, For dataset of size 10k and for each dataset, What is the most stable model and model params? How good is it in comparison to other models? Explain using bias and variance terminoligy.\n",
    "1. Does regularization help for linear models? consider different datasets sizes. \n",
    "1. For a given noise level of your chioce, How does the train, test and difference error changes with increasing data sizes? (answer for svm and LR seperatly)\n",
    "1. For a given noise level of your chioce, How does the train, test and difference error changes with increasing model complexity? (answer for svm and LR seperatly)\n",
    "1. Are the noise level effect the number of datapoints needed to reach optimal test results? "
   ]
  },
  {
   "cell_type": "markdown",
   "id": "237fa350-4106-419c-9020-51986a0a716d",
   "metadata": {},
   "source": [
    "Bonus:\n",
    "\n",
    "* For SVM: Select one dataset and with 0.2 noise level. Identify the optimal model params, and visualize the decision boundry learned. \n",
    "  * Hint: Use a grid. See classification models notebook "
   ]
  },
  {
   "cell_type": "markdown",
   "id": "e8bf7262-12b1-4417-acd2-eb8365b04b11",
   "metadata": {},
   "source": [
    "## Tips and Hints"
   ]
  },
  {
   "cell_type": "markdown",
   "id": "aca4522e-a8e9-4476-90ac-d1a2679085f4",
   "metadata": {},
   "source": [
    "For buliding the experiment:\n",
    "\n",
    "* Start with one dataframe holding all the data for both datastes with different noise level. Use the `make_<dataset_name>_dataframe()` functions below, and add two columns, dataset_name and noise_level, before appending the new dataset to the rest of the datasets. Use `df = pd.DataFrame()` to start with an empty dataframe and using a loop, add data to it using `df = df.append(<the needed df here>)`. Verify that you have 10k samples for each dataset type and noise level by a proper `.value_counts()`. You can modify the \n",
    "* When you'll need an N samples data with a specific noise level, use `query()` and `head(n)` to get the needed dataset. \n",
    "* Use sklearn `train_test_split()` method to split the data with `test_size` and `random_state` parameters set correctly to ensure you are always splitting the data the same why for a given fold `k`. Read [the docs](https://scikit-learn.org/stable/modules/generated/sklearn.model_selection.train_test_split.html) if needed. \n",
    "* You can also not create your own data splitter, and instead use `model_selection.cross_validate()` from sklearn. You'll need to ask for the train erros as well as the test errors, see [here](https://scikit-learn.org/stable/modules/generated/sklearn.model_selection.cross_validate.html).\n",
    "* Use prints in proper location to ensure the progress of the experiment. "
   ]
  },
  {
   "cell_type": "markdown",
   "id": "b4f130c6-62ba-4490-983d-1d63470dc615",
   "metadata": {},
   "source": [
    "**If you get stuck, and need refernce, scroll to the end of the notebook to see more hints!**"
   ]
  },
  {
   "cell_type": "markdown",
   "id": "ad8ffe8f-8c0b-4dc3-9cc2-9c3dc02852d7",
   "metadata": {},
   "source": [
    "## Moons dataset"
   ]
  },
  {
   "cell_type": "code",
   "execution_count": 6,
   "id": "7a6b4c61-454e-4887-963f-61d5ec6bc19f",
   "metadata": {},
   "outputs": [],
   "source": [
    "from sklearn.datasets import make_moons"
   ]
  },
  {
   "cell_type": "code",
   "execution_count": 7,
   "id": "7392ae8f-32a7-4c77-a5be-34043ecd09ec",
   "metadata": {},
   "outputs": [
    {
     "data": {
      "text/html": [
       "<div>\n",
       "<style scoped>\n",
       "    .dataframe tbody tr th:only-of-type {\n",
       "        vertical-align: middle;\n",
       "    }\n",
       "\n",
       "    .dataframe tbody tr th {\n",
       "        vertical-align: top;\n",
       "    }\n",
       "\n",
       "    .dataframe thead th {\n",
       "        text-align: right;\n",
       "    }\n",
       "</style>\n",
       "<table border=\"1\" class=\"dataframe\">\n",
       "  <thead>\n",
       "    <tr style=\"text-align: right;\">\n",
       "      <th></th>\n",
       "      <th>x</th>\n",
       "      <th>y</th>\n",
       "      <th>label</th>\n",
       "    </tr>\n",
       "  </thead>\n",
       "  <tbody>\n",
       "    <tr>\n",
       "      <th>0</th>\n",
       "      <td>0.125561</td>\n",
       "      <td>0.990941</td>\n",
       "      <td>A</td>\n",
       "    </tr>\n",
       "    <tr>\n",
       "      <th>1</th>\n",
       "      <td>1.660307</td>\n",
       "      <td>-0.113469</td>\n",
       "      <td>B</td>\n",
       "    </tr>\n",
       "    <tr>\n",
       "      <th>2</th>\n",
       "      <td>1.814497</td>\n",
       "      <td>-0.147715</td>\n",
       "      <td>B</td>\n",
       "    </tr>\n",
       "    <tr>\n",
       "      <th>3</th>\n",
       "      <td>1.191281</td>\n",
       "      <td>-0.467363</td>\n",
       "      <td>B</td>\n",
       "    </tr>\n",
       "    <tr>\n",
       "      <th>4</th>\n",
       "      <td>0.204730</td>\n",
       "      <td>-0.229137</td>\n",
       "      <td>B</td>\n",
       "    </tr>\n",
       "  </tbody>\n",
       "</table>\n",
       "</div>"
      ],
      "text/plain": [
       "          x         y label\n",
       "0  0.125561  0.990941     A\n",
       "1  1.660307 -0.113469     B\n",
       "2  1.814497 -0.147715     B\n",
       "3  1.191281 -0.467363     B\n",
       "4  0.204730 -0.229137     B"
      ]
     },
     "execution_count": 7,
     "metadata": {},
     "output_type": "execute_result"
    }
   ],
   "source": [
    "moons_df = make_moons_dataframe(n_samples=1000, noise_level=0.1)\n",
    "moons_df.head()"
   ]
  },
  {
   "cell_type": "code",
   "execution_count": 8,
   "id": "48c4d95c-3cad-4596-a8b3-29d67aa9859c",
   "metadata": {},
   "outputs": [
    {
     "data": {
      "application/vnd.jupyter.widget-view+json": {
       "model_id": "8a399d8f747a4368ae1c8eac2dc3ef0b",
       "version_major": 2,
       "version_minor": 0
      },
      "text/plain": [
       "interactive(children=(FloatSlider(value=0.0, description='noise_level', max=0.5, step=0.05), Output()), _dom_c…"
      ]
     },
     "metadata": {},
     "output_type": "display_data"
    }
   ],
   "source": [
    "@widgets.interact\n",
    "def plot_noisy_moons(noise_level = widgets.FloatSlider(value=0, min=0, max=0.5, step=0.05)):\n",
    "    moons_df = make_moons_dataframe(n_samples=1000, noise_level=noise_level)\n",
    "    return px.scatter(moons_df, x='x', y='y', color = 'label')"
   ]
  },
  {
   "cell_type": "markdown",
   "id": "a3299f00-00b8-4703-8568-35de2913a487",
   "metadata": {},
   "source": [
    "## Circles Dataset"
   ]
  },
  {
   "cell_type": "code",
   "execution_count": 9,
   "id": "14b1498d-60e1-429e-a122-f120f5ed5720",
   "metadata": {},
   "outputs": [
    {
     "data": {
      "text/html": [
       "<div>\n",
       "<style scoped>\n",
       "    .dataframe tbody tr th:only-of-type {\n",
       "        vertical-align: middle;\n",
       "    }\n",
       "\n",
       "    .dataframe tbody tr th {\n",
       "        vertical-align: top;\n",
       "    }\n",
       "\n",
       "    .dataframe thead th {\n",
       "        text-align: right;\n",
       "    }\n",
       "</style>\n",
       "<table border=\"1\" class=\"dataframe\">\n",
       "  <thead>\n",
       "    <tr style=\"text-align: right;\">\n",
       "      <th></th>\n",
       "      <th>x</th>\n",
       "      <th>y</th>\n",
       "      <th>label</th>\n",
       "    </tr>\n",
       "  </thead>\n",
       "  <tbody>\n",
       "    <tr>\n",
       "      <th>0</th>\n",
       "      <td>-0.090285</td>\n",
       "      <td>0.794889</td>\n",
       "      <td>B</td>\n",
       "    </tr>\n",
       "    <tr>\n",
       "      <th>1</th>\n",
       "      <td>-0.998737</td>\n",
       "      <td>-0.050244</td>\n",
       "      <td>A</td>\n",
       "    </tr>\n",
       "    <tr>\n",
       "      <th>2</th>\n",
       "      <td>-0.647214</td>\n",
       "      <td>0.470228</td>\n",
       "      <td>B</td>\n",
       "    </tr>\n",
       "    <tr>\n",
       "      <th>3</th>\n",
       "      <td>0.037690</td>\n",
       "      <td>-0.999289</td>\n",
       "      <td>A</td>\n",
       "    </tr>\n",
       "    <tr>\n",
       "      <th>4</th>\n",
       "      <td>0.837528</td>\n",
       "      <td>0.546394</td>\n",
       "      <td>A</td>\n",
       "    </tr>\n",
       "  </tbody>\n",
       "</table>\n",
       "</div>"
      ],
      "text/plain": [
       "          x         y label\n",
       "0 -0.090285  0.794889     B\n",
       "1 -0.998737 -0.050244     A\n",
       "2 -0.647214  0.470228     B\n",
       "3  0.037690 -0.999289     A\n",
       "4  0.837528  0.546394     A"
      ]
     },
     "execution_count": 9,
     "metadata": {},
     "output_type": "execute_result"
    }
   ],
   "source": [
    "circles_df = make_circles_dataframe(n_samples=500, noise_level=0)\n",
    "circles_df.head()"
   ]
  },
  {
   "cell_type": "code",
   "execution_count": 10,
   "id": "52ef522a-e381-42e1-b321-31b3d2f3b0de",
   "metadata": {},
   "outputs": [
    {
     "data": {
      "application/vnd.jupyter.widget-view+json": {
       "model_id": "6899d6993c644dfaba332ae364a1e605",
       "version_major": 2,
       "version_minor": 0
      },
      "text/plain": [
       "interactive(children=(FloatSlider(value=0.0, description='noise_level', max=0.5, step=0.05), Output()), _dom_c…"
      ]
     },
     "metadata": {},
     "output_type": "display_data"
    }
   ],
   "source": [
    "@widgets.interact\n",
    "def plot_noisy_circles(noise_level = widgets.FloatSlider(value=0, min=0, max=0.5, step=0.05)):\n",
    "    df = make_circles_dataframe(1000, noise_level)\n",
    "    return px.scatter(df, x='x', y='y', color = 'label')"
   ]
  },
  {
   "cell_type": "markdown",
   "id": "68124026-b4bc-4022-81ee-158175f9e732",
   "metadata": {},
   "source": [
    "## Appendix"
   ]
  },
  {
   "cell_type": "markdown",
   "id": "ac7c6e0b-b513-4bb7-b39e-ae3baa5b3e68",
   "metadata": {},
   "source": [
    "### More hints!"
   ]
  },
  {
   "cell_type": "markdown",
   "id": "c2ad0ce4-d598-4e30-ab43-dd9a064d8dd8",
   "metadata": {},
   "source": [
    "If you'll build the datasets dataframe correctly, you'll have **one** dataframe that has dataset_name and noise_level colmuns, as well as the regular x,y,label colmns. To unsure you've appended everything correctly, groupby the proper colmuns and look at the size:"
   ]
  },
  {
   "cell_type": "code",
   "execution_count": 17,
   "id": "4b5d99fc-102f-4b04-8962-1e85e8909cee",
   "metadata": {},
   "outputs": [],
   "source": [
    "# Use proper groupby statement to ensure the datasets dataframe contains data as expected. You should see the following result:"
   ]
  },
  {
   "cell_type": "markdown",
   "id": "8f9e1094-232b-46f2-ba89-856e14fab58b",
   "metadata": {},
   "source": [
    "Your "
   ]
  },
  {
   "cell_type": "markdown",
   "id": "fc58ae49-7d87-462b-b681-61536ae4bca8",
   "metadata": {},
   "source": [
    "You experiment code should look something like that:"
   ]
  },
  {
   "cell_type": "code",
   "execution_count": 16,
   "id": "6b6dca06-01af-437e-8eb1-d559cdb96741",
   "metadata": {
    "tags": []
   },
   "outputs": [
    {
     "ename": "SyntaxError",
     "evalue": "invalid syntax (1820926988.py, line 6)",
     "output_type": "error",
     "traceback": [
      "\u001b[1;36m  File \u001b[1;32m\"C:\\Users\\mor\\AppData\\Local\\Temp\\ipykernel_14484\\1820926988.py\"\u001b[1;36m, line \u001b[1;32m6\u001b[0m\n\u001b[1;33m    hp_range = <'Your hyper parameters ranges here'>\u001b[0m\n\u001b[1;37m               ^\u001b[0m\n\u001b[1;31mSyntaxError\u001b[0m\u001b[1;31m:\u001b[0m invalid syntax\n"
     ]
    }
   ],
   "source": [
    "datasets_type = ['circles', 'moons']\n",
    "k_folds = 10\n",
    "n_samples = [10, 50, 100, 1000, 10000]\n",
    "noise_levels = [0, 0.1, 0.2, 0.3, 0.4, 0.5]\n",
    "clf_types = ['log_reg', 'svm']\n",
    "hp_range = <'Your hyper parameters ranges here'>\n",
    "regularization_values = <'Your regularization values here'>\n",
    "results = []\n",
    "for ds_type in datasets_type:\n",
    "    print(f'Working on {ds_type}')\n",
    "    for nl in noise_levels:\n",
    "        for n in n_samples:\n",
    "            ds = datasets.query(<'your query here'>).head(n)\n",
    "            print(f'Starting {k_folds}-fold cross validation for {ds_type} datasets with {n} samples and noise level {nl}. Going to train {clf_types} classifiers.')\n",
    "            for k in range(k_folds):\n",
    "                X, Y = <'Your code here'>\n",
    "                x_train,x_test,y_train,y_test= <'Your code here'>\n",
    "                for clf_type in clf_types:\n",
    "                    if clf_type == 'log_reg':\n",
    "                        for regularization_value in regularization_values:\n",
    "                            train_acc, test_acc = <'Your code here'>\n",
    "                            results.append(<'Your code here'>)\n",
    "                    if clf_type == 'svm':\n",
    "                        for gamma in hp_range:\n",
    "                            train_acc, test_acc = <'Your code here'>\n",
    "                            results.append(<'Your code here'>)"
   ]
  },
  {
   "cell_type": "code",
   "execution_count": 11,
   "id": "bd9d8e57-8270-4a3b-bbfd-7f3e8d23fd3f",
   "metadata": {},
   "outputs": [
    {
     "name": "stdout",
     "output_type": "stream",
     "text": [
      "Working on circles\n",
      "Starting 10-fold cross validation for circles datasets with 10 samples and noise level 0. Going to train ['log_reg', 'svm'] classifiers.\n",
      "Starting 10-fold cross validation for circles datasets with 50 samples and noise level 0. Going to train ['log_reg', 'svm'] classifiers.\n",
      "Starting 10-fold cross validation for circles datasets with 100 samples and noise level 0. Going to train ['log_reg', 'svm'] classifiers.\n",
      "Starting 10-fold cross validation for circles datasets with 1000 samples and noise level 0. Going to train ['log_reg', 'svm'] classifiers.\n",
      "Starting 10-fold cross validation for circles datasets with 10 samples and noise level 0.1. Going to train ['log_reg', 'svm'] classifiers.\n",
      "Starting 10-fold cross validation for circles datasets with 50 samples and noise level 0.1. Going to train ['log_reg', 'svm'] classifiers.\n",
      "Starting 10-fold cross validation for circles datasets with 100 samples and noise level 0.1. Going to train ['log_reg', 'svm'] classifiers.\n",
      "Starting 10-fold cross validation for circles datasets with 1000 samples and noise level 0.1. Going to train ['log_reg', 'svm'] classifiers.\n",
      "Starting 10-fold cross validation for circles datasets with 10 samples and noise level 0.2. Going to train ['log_reg', 'svm'] classifiers.\n",
      "Starting 10-fold cross validation for circles datasets with 50 samples and noise level 0.2. Going to train ['log_reg', 'svm'] classifiers.\n",
      "Starting 10-fold cross validation for circles datasets with 100 samples and noise level 0.2. Going to train ['log_reg', 'svm'] classifiers.\n",
      "Starting 10-fold cross validation for circles datasets with 1000 samples and noise level 0.2. Going to train ['log_reg', 'svm'] classifiers.\n",
      "Starting 10-fold cross validation for circles datasets with 10 samples and noise level 0.3. Going to train ['log_reg', 'svm'] classifiers.\n",
      "Starting 10-fold cross validation for circles datasets with 50 samples and noise level 0.3. Going to train ['log_reg', 'svm'] classifiers.\n",
      "Starting 10-fold cross validation for circles datasets with 100 samples and noise level 0.3. Going to train ['log_reg', 'svm'] classifiers.\n",
      "Starting 10-fold cross validation for circles datasets with 1000 samples and noise level 0.3. Going to train ['log_reg', 'svm'] classifiers.\n",
      "Starting 10-fold cross validation for circles datasets with 10 samples and noise level 0.4. Going to train ['log_reg', 'svm'] classifiers.\n",
      "Starting 10-fold cross validation for circles datasets with 50 samples and noise level 0.4. Going to train ['log_reg', 'svm'] classifiers.\n",
      "Starting 10-fold cross validation for circles datasets with 100 samples and noise level 0.4. Going to train ['log_reg', 'svm'] classifiers.\n",
      "Starting 10-fold cross validation for circles datasets with 1000 samples and noise level 0.4. Going to train ['log_reg', 'svm'] classifiers.\n",
      "Starting 10-fold cross validation for circles datasets with 10 samples and noise level 0.5. Going to train ['log_reg', 'svm'] classifiers.\n",
      "Starting 10-fold cross validation for circles datasets with 50 samples and noise level 0.5. Going to train ['log_reg', 'svm'] classifiers.\n",
      "Starting 10-fold cross validation for circles datasets with 100 samples and noise level 0.5. Going to train ['log_reg', 'svm'] classifiers.\n",
      "Starting 10-fold cross validation for circles datasets with 1000 samples and noise level 0.5. Going to train ['log_reg', 'svm'] classifiers.\n",
      "Working on moons\n",
      "Starting 10-fold cross validation for moons datasets with 10 samples and noise level 0. Going to train ['log_reg', 'svm'] classifiers.\n",
      "Starting 10-fold cross validation for moons datasets with 50 samples and noise level 0. Going to train ['log_reg', 'svm'] classifiers.\n",
      "Starting 10-fold cross validation for moons datasets with 100 samples and noise level 0. Going to train ['log_reg', 'svm'] classifiers.\n",
      "Starting 10-fold cross validation for moons datasets with 1000 samples and noise level 0. Going to train ['log_reg', 'svm'] classifiers.\n",
      "Starting 10-fold cross validation for moons datasets with 10 samples and noise level 0.1. Going to train ['log_reg', 'svm'] classifiers.\n",
      "Starting 10-fold cross validation for moons datasets with 50 samples and noise level 0.1. Going to train ['log_reg', 'svm'] classifiers.\n",
      "Starting 10-fold cross validation for moons datasets with 100 samples and noise level 0.1. Going to train ['log_reg', 'svm'] classifiers.\n",
      "Starting 10-fold cross validation for moons datasets with 1000 samples and noise level 0.1. Going to train ['log_reg', 'svm'] classifiers.\n",
      "Starting 10-fold cross validation for moons datasets with 10 samples and noise level 0.2. Going to train ['log_reg', 'svm'] classifiers.\n",
      "Starting 10-fold cross validation for moons datasets with 50 samples and noise level 0.2. Going to train ['log_reg', 'svm'] classifiers.\n",
      "Starting 10-fold cross validation for moons datasets with 100 samples and noise level 0.2. Going to train ['log_reg', 'svm'] classifiers.\n",
      "Starting 10-fold cross validation for moons datasets with 1000 samples and noise level 0.2. Going to train ['log_reg', 'svm'] classifiers.\n",
      "Starting 10-fold cross validation for moons datasets with 10 samples and noise level 0.3. Going to train ['log_reg', 'svm'] classifiers.\n",
      "Starting 10-fold cross validation for moons datasets with 50 samples and noise level 0.3. Going to train ['log_reg', 'svm'] classifiers.\n",
      "Starting 10-fold cross validation for moons datasets with 100 samples and noise level 0.3. Going to train ['log_reg', 'svm'] classifiers.\n",
      "Starting 10-fold cross validation for moons datasets with 1000 samples and noise level 0.3. Going to train ['log_reg', 'svm'] classifiers.\n",
      "Starting 10-fold cross validation for moons datasets with 10 samples and noise level 0.4. Going to train ['log_reg', 'svm'] classifiers.\n",
      "Starting 10-fold cross validation for moons datasets with 50 samples and noise level 0.4. Going to train ['log_reg', 'svm'] classifiers.\n",
      "Starting 10-fold cross validation for moons datasets with 100 samples and noise level 0.4. Going to train ['log_reg', 'svm'] classifiers.\n",
      "Starting 10-fold cross validation for moons datasets with 1000 samples and noise level 0.4. Going to train ['log_reg', 'svm'] classifiers.\n",
      "Starting 10-fold cross validation for moons datasets with 10 samples and noise level 0.5. Going to train ['log_reg', 'svm'] classifiers.\n",
      "Starting 10-fold cross validation for moons datasets with 50 samples and noise level 0.5. Going to train ['log_reg', 'svm'] classifiers.\n",
      "Starting 10-fold cross validation for moons datasets with 100 samples and noise level 0.5. Going to train ['log_reg', 'svm'] classifiers.\n",
      "Starting 10-fold cross validation for moons datasets with 1000 samples and noise level 0.5. Going to train ['log_reg', 'svm'] classifiers.\n"
     ]
    }
   ],
   "source": [
    "import numpy as np\n",
    "from sklearn.datasets import make_circles, make_moons\n",
    "from sklearn.linear_model import LogisticRegression\n",
    "from sklearn.svm import SVC\n",
    "from sklearn.model_selection import KFold\n",
    "\n",
    "datasets_type = ['circles', 'moons']\n",
    "k_folds = 10\n",
    "n_samples = [10, 50, 100, 1000]\n",
    "noise_levels = [0, 0.1, 0.2, 0.3, 0.4, 0.5]\n",
    "clf_types = ['log_reg', 'svm']\n",
    "hp_range = [0.1, 1, 10]\n",
    "regularization_values = [0.1, 1, 10]\n",
    "results = []\n",
    "\n",
    "for ds_type in datasets_type:\n",
    "    print(f'Working on {ds_type}')\n",
    "    if ds_type == 'circles':\n",
    "        dataset_fn = make_circles\n",
    "    elif ds_type == 'moons':\n",
    "        dataset_fn = make_moons\n",
    "    for nl in noise_levels:\n",
    "        for n in n_samples:\n",
    "            ds, labels = dataset_fn(n_samples=n, noise=nl, random_state=42)\n",
    "            print(f'Starting {k_folds}-fold cross validation for {ds_type} datasets with {n} samples and noise level {nl}. Going to train {clf_types} classifiers.')\n",
    "            kf = KFold(n_splits=k_folds, shuffle=True, random_state=42)\n",
    "            for train_index, test_index in kf.split(ds):\n",
    "                x_train, x_test = ds[train_index], ds[test_index]\n",
    "                y_train, y_test = labels[train_index], labels[test_index]\n",
    "                for clf_type in clf_types:\n",
    "                    if clf_type == 'log_reg':\n",
    "                        for regularization_value in regularization_values:\n",
    "                            clf = LogisticRegression(penalty='l2', C=1/regularization_value, solver='lbfgs')\n",
    "                            clf.fit(x_train, y_train)\n",
    "                            train_acc = clf.score(x_train, y_train)\n",
    "                            test_acc = clf.score(x_test, y_test)\n",
    "                            E_DIFF = train_acc - test_acc\n",
    "                            results.append({'dataset': ds_type, 'noise_level': nl, 'n_samples': n, 'clf_type': clf_type, 'regularization_value': regularization_value, 'train_accuracy': train_acc, 'test_accuracy': test_acc, 'E_DIFF': E_DIFF})\n",
    "                    elif clf_type == 'svm':\n",
    "                        for gamma in hp_range:\n",
    "                            for regularization_value in regularization_values:\n",
    "                                clf = SVC(kernel='rbf', C=1/regularization_value, gamma=gamma)\n",
    "                                clf.fit(x_train, y_train)\n",
    "                                train_acc = clf.score(x_train, y_train)\n",
    "                                test_acc = clf.score(x_test, y_test)\n",
    "                                E_DIFF = train_acc - test_acc\n",
    "                                results.append({'dataset': ds_type, 'noise_level': nl, 'n_samples': n, 'clf_type': clf_type, 'regularization_value': regularization_value, 'gamma': gamma, 'train_accuracy': train_acc, 'test_accuracy': test_acc, 'E_DIFF': E_DIFF})"
   ]
  },
  {
   "cell_type": "code",
   "execution_count": 12,
   "id": "2d22f4c6-1c9b-45d8-8efc-66901e495c7f",
   "metadata": {},
   "outputs": [
    {
     "data": {
      "text/plain": [
       "{'dataset': 'circles',\n",
       " 'noise_level': 0,\n",
       " 'n_samples': 10,\n",
       " 'clf_type': 'svm',\n",
       " 'regularization_value': 10,\n",
       " 'gamma': 0.1,\n",
       " 'train_accuracy': 0.5555555555555556,\n",
       " 'test_accuracy': 0.0,\n",
       " 'E_DIFF': 0.5555555555555556}"
      ]
     },
     "execution_count": 12,
     "metadata": {},
     "output_type": "execute_result"
    }
   ],
   "source": [
    "results[5]"
   ]
  },
  {
   "cell_type": "code",
   "execution_count": 13,
   "id": "c6986ddd-d11a-4153-aed5-0f5f83429073",
   "metadata": {},
   "outputs": [
    {
     "data": {
      "text/html": [
       "<div>\n",
       "<style scoped>\n",
       "    .dataframe tbody tr th:only-of-type {\n",
       "        vertical-align: middle;\n",
       "    }\n",
       "\n",
       "    .dataframe tbody tr th {\n",
       "        vertical-align: top;\n",
       "    }\n",
       "\n",
       "    .dataframe thead th {\n",
       "        text-align: right;\n",
       "    }\n",
       "</style>\n",
       "<table border=\"1\" class=\"dataframe\">\n",
       "  <thead>\n",
       "    <tr style=\"text-align: right;\">\n",
       "      <th></th>\n",
       "      <th>dataset</th>\n",
       "      <th>noise_level</th>\n",
       "      <th>n_samples</th>\n",
       "      <th>clf_type</th>\n",
       "      <th>regularization_value</th>\n",
       "      <th>gamma</th>\n",
       "      <th>train_accuracy</th>\n",
       "      <th>test_accuracy</th>\n",
       "      <th>E_DIFF</th>\n",
       "    </tr>\n",
       "  </thead>\n",
       "  <tbody>\n",
       "    <tr>\n",
       "      <th>0</th>\n",
       "      <td>circles</td>\n",
       "      <td>0.0</td>\n",
       "      <td>10</td>\n",
       "      <td>log_reg</td>\n",
       "      <td>0.1</td>\n",
       "      <td>NaN</td>\n",
       "      <td>0.555556</td>\n",
       "      <td>0.0</td>\n",
       "      <td>0.555556</td>\n",
       "    </tr>\n",
       "    <tr>\n",
       "      <th>1</th>\n",
       "      <td>circles</td>\n",
       "      <td>0.0</td>\n",
       "      <td>10</td>\n",
       "      <td>log_reg</td>\n",
       "      <td>1.0</td>\n",
       "      <td>NaN</td>\n",
       "      <td>0.555556</td>\n",
       "      <td>0.0</td>\n",
       "      <td>0.555556</td>\n",
       "    </tr>\n",
       "    <tr>\n",
       "      <th>2</th>\n",
       "      <td>circles</td>\n",
       "      <td>0.0</td>\n",
       "      <td>10</td>\n",
       "      <td>log_reg</td>\n",
       "      <td>10.0</td>\n",
       "      <td>NaN</td>\n",
       "      <td>0.555556</td>\n",
       "      <td>0.0</td>\n",
       "      <td>0.555556</td>\n",
       "    </tr>\n",
       "    <tr>\n",
       "      <th>3</th>\n",
       "      <td>circles</td>\n",
       "      <td>0.0</td>\n",
       "      <td>10</td>\n",
       "      <td>svm</td>\n",
       "      <td>0.1</td>\n",
       "      <td>0.1</td>\n",
       "      <td>0.555556</td>\n",
       "      <td>0.0</td>\n",
       "      <td>0.555556</td>\n",
       "    </tr>\n",
       "    <tr>\n",
       "      <th>4</th>\n",
       "      <td>circles</td>\n",
       "      <td>0.0</td>\n",
       "      <td>10</td>\n",
       "      <td>svm</td>\n",
       "      <td>1.0</td>\n",
       "      <td>0.1</td>\n",
       "      <td>0.555556</td>\n",
       "      <td>0.0</td>\n",
       "      <td>0.555556</td>\n",
       "    </tr>\n",
       "  </tbody>\n",
       "</table>\n",
       "</div>"
      ],
      "text/plain": [
       "   dataset  noise_level  n_samples clf_type  regularization_value  gamma  \\\n",
       "0  circles          0.0         10  log_reg                   0.1    NaN   \n",
       "1  circles          0.0         10  log_reg                   1.0    NaN   \n",
       "2  circles          0.0         10  log_reg                  10.0    NaN   \n",
       "3  circles          0.0         10      svm                   0.1    0.1   \n",
       "4  circles          0.0         10      svm                   1.0    0.1   \n",
       "\n",
       "   train_accuracy  test_accuracy    E_DIFF  \n",
       "0        0.555556            0.0  0.555556  \n",
       "1        0.555556            0.0  0.555556  \n",
       "2        0.555556            0.0  0.555556  \n",
       "3        0.555556            0.0  0.555556  \n",
       "4        0.555556            0.0  0.555556  "
      ]
     },
     "execution_count": 13,
     "metadata": {},
     "output_type": "execute_result"
    }
   ],
   "source": [
    "results = pd.DataFrame(results, columns = ['dataset','noise_level','n_samples','clf_type','regularization_value','gamma','train_accuracy','test_accuracy','E_DIFF'])\n",
    "results.head()"
   ]
  },
  {
   "cell_type": "code",
   "execution_count": 14,
   "id": "9082396e-e9bc-4f62-ab1e-00650fd4cad6",
   "metadata": {},
   "outputs": [
    {
     "data": {
      "text/html": [
       "<div>\n",
       "<style scoped>\n",
       "    .dataframe tbody tr th:only-of-type {\n",
       "        vertical-align: middle;\n",
       "    }\n",
       "\n",
       "    .dataframe tbody tr th {\n",
       "        vertical-align: top;\n",
       "    }\n",
       "\n",
       "    .dataframe thead th {\n",
       "        text-align: right;\n",
       "    }\n",
       "</style>\n",
       "<table border=\"1\" class=\"dataframe\">\n",
       "  <thead>\n",
       "    <tr style=\"text-align: right;\">\n",
       "      <th></th>\n",
       "      <th>dataset</th>\n",
       "      <th>noise_level</th>\n",
       "      <th>n_samples</th>\n",
       "      <th>clf_type</th>\n",
       "      <th>regularization_value</th>\n",
       "      <th>gamma</th>\n",
       "      <th>train_accuracy</th>\n",
       "      <th>test_accuracy</th>\n",
       "      <th>E_DIFF</th>\n",
       "    </tr>\n",
       "  </thead>\n",
       "  <tbody>\n",
       "    <tr>\n",
       "      <th>0</th>\n",
       "      <td>circles</td>\n",
       "      <td>0.0</td>\n",
       "      <td>10</td>\n",
       "      <td>log_reg</td>\n",
       "      <td>0.1</td>\n",
       "      <td>NaN</td>\n",
       "      <td>0.555556</td>\n",
       "      <td>0.0</td>\n",
       "      <td>0.555556</td>\n",
       "    </tr>\n",
       "    <tr>\n",
       "      <th>1</th>\n",
       "      <td>circles</td>\n",
       "      <td>0.0</td>\n",
       "      <td>10</td>\n",
       "      <td>log_reg</td>\n",
       "      <td>1.0</td>\n",
       "      <td>NaN</td>\n",
       "      <td>0.555556</td>\n",
       "      <td>0.0</td>\n",
       "      <td>0.555556</td>\n",
       "    </tr>\n",
       "    <tr>\n",
       "      <th>2</th>\n",
       "      <td>circles</td>\n",
       "      <td>0.0</td>\n",
       "      <td>10</td>\n",
       "      <td>log_reg</td>\n",
       "      <td>10.0</td>\n",
       "      <td>NaN</td>\n",
       "      <td>0.555556</td>\n",
       "      <td>0.0</td>\n",
       "      <td>0.555556</td>\n",
       "    </tr>\n",
       "    <tr>\n",
       "      <th>3</th>\n",
       "      <td>circles</td>\n",
       "      <td>0.0</td>\n",
       "      <td>10</td>\n",
       "      <td>svm</td>\n",
       "      <td>0.1</td>\n",
       "      <td>0.1</td>\n",
       "      <td>0.555556</td>\n",
       "      <td>0.0</td>\n",
       "      <td>0.555556</td>\n",
       "    </tr>\n",
       "    <tr>\n",
       "      <th>4</th>\n",
       "      <td>circles</td>\n",
       "      <td>0.0</td>\n",
       "      <td>10</td>\n",
       "      <td>svm</td>\n",
       "      <td>1.0</td>\n",
       "      <td>0.1</td>\n",
       "      <td>0.555556</td>\n",
       "      <td>0.0</td>\n",
       "      <td>0.555556</td>\n",
       "    </tr>\n",
       "    <tr>\n",
       "      <th>2880</th>\n",
       "      <td>moons</td>\n",
       "      <td>0.0</td>\n",
       "      <td>10</td>\n",
       "      <td>log_reg</td>\n",
       "      <td>0.1</td>\n",
       "      <td>NaN</td>\n",
       "      <td>0.777778</td>\n",
       "      <td>1.0</td>\n",
       "      <td>-0.222222</td>\n",
       "    </tr>\n",
       "    <tr>\n",
       "      <th>2881</th>\n",
       "      <td>moons</td>\n",
       "      <td>0.0</td>\n",
       "      <td>10</td>\n",
       "      <td>log_reg</td>\n",
       "      <td>1.0</td>\n",
       "      <td>NaN</td>\n",
       "      <td>0.666667</td>\n",
       "      <td>1.0</td>\n",
       "      <td>-0.333333</td>\n",
       "    </tr>\n",
       "    <tr>\n",
       "      <th>2882</th>\n",
       "      <td>moons</td>\n",
       "      <td>0.0</td>\n",
       "      <td>10</td>\n",
       "      <td>log_reg</td>\n",
       "      <td>10.0</td>\n",
       "      <td>NaN</td>\n",
       "      <td>0.666667</td>\n",
       "      <td>1.0</td>\n",
       "      <td>-0.333333</td>\n",
       "    </tr>\n",
       "    <tr>\n",
       "      <th>2883</th>\n",
       "      <td>moons</td>\n",
       "      <td>0.0</td>\n",
       "      <td>10</td>\n",
       "      <td>svm</td>\n",
       "      <td>0.1</td>\n",
       "      <td>0.1</td>\n",
       "      <td>0.777778</td>\n",
       "      <td>1.0</td>\n",
       "      <td>-0.222222</td>\n",
       "    </tr>\n",
       "    <tr>\n",
       "      <th>2884</th>\n",
       "      <td>moons</td>\n",
       "      <td>0.0</td>\n",
       "      <td>10</td>\n",
       "      <td>svm</td>\n",
       "      <td>1.0</td>\n",
       "      <td>0.1</td>\n",
       "      <td>0.555556</td>\n",
       "      <td>0.0</td>\n",
       "      <td>0.555556</td>\n",
       "    </tr>\n",
       "  </tbody>\n",
       "</table>\n",
       "</div>"
      ],
      "text/plain": [
       "      dataset  noise_level  n_samples clf_type  regularization_value  gamma  \\\n",
       "0     circles          0.0         10  log_reg                   0.1    NaN   \n",
       "1     circles          0.0         10  log_reg                   1.0    NaN   \n",
       "2     circles          0.0         10  log_reg                  10.0    NaN   \n",
       "3     circles          0.0         10      svm                   0.1    0.1   \n",
       "4     circles          0.0         10      svm                   1.0    0.1   \n",
       "2880    moons          0.0         10  log_reg                   0.1    NaN   \n",
       "2881    moons          0.0         10  log_reg                   1.0    NaN   \n",
       "2882    moons          0.0         10  log_reg                  10.0    NaN   \n",
       "2883    moons          0.0         10      svm                   0.1    0.1   \n",
       "2884    moons          0.0         10      svm                   1.0    0.1   \n",
       "\n",
       "      train_accuracy  test_accuracy    E_DIFF  \n",
       "0           0.555556            0.0  0.555556  \n",
       "1           0.555556            0.0  0.555556  \n",
       "2           0.555556            0.0  0.555556  \n",
       "3           0.555556            0.0  0.555556  \n",
       "4           0.555556            0.0  0.555556  \n",
       "2880        0.777778            1.0 -0.222222  \n",
       "2881        0.666667            1.0 -0.333333  \n",
       "2882        0.666667            1.0 -0.333333  \n",
       "2883        0.777778            1.0 -0.222222  \n",
       "2884        0.555556            0.0  0.555556  "
      ]
     },
     "execution_count": 14,
     "metadata": {},
     "output_type": "execute_result"
    }
   ],
   "source": [
    "results.groupby(['dataset']).head()"
   ]
  },
  {
   "cell_type": "code",
   "execution_count": 15,
   "id": "11338a00-54ee-45c3-8ced-aadc3f3ce5b7",
   "metadata": {},
   "outputs": [
    {
     "name": "stdout",
     "output_type": "stream",
     "text": [
      "             mean       std\n",
      "dataset                    \n",
      "circles  0.266409  0.257035\n",
      "moons    0.185574  0.258055\n"
     ]
    }
   ],
   "source": [
    "## Analysing Ex 1\n",
    "results['E_DIFF_abs'] = results['E_DIFF'].abs()\n",
    "most_stable_rows = results.query('n_samples == 1000 and clf_type == \"svm\"').groupby('dataset')['E_DIFF_abs'].idxmin()\n",
    "most_stable_rows_data = results.loc[most_stable_rows]\n",
    "#print(most_stable_rows_data)\n",
    "\n",
    "stability_stats = results.groupby('dataset')['E_DIFF_abs'].agg(['mean', 'std'])\n",
    "print(stability_stats)"
   ]
  },
  {
   "cell_type": "code",
   "execution_count": 16,
   "id": "f22bc669-7697-4a0b-8544-e6b2b0334d77",
   "metadata": {},
   "outputs": [
    {
     "name": "stdout",
     "output_type": "stream",
     "text": [
      "              mean        std      bias  variance\n",
      "        E_DIFF_abs E_DIFF_abs                    \n",
      "dataset                                          \n",
      "circles   0.266409   0.257035  0.250887  0.074099\n",
      "moons     0.185574   0.258055  0.120157  0.086600\n"
     ]
    }
   ],
   "source": [
    "## Analysing Ex 2\n",
    "stability_stats = results.pivot_table(index='dataset', values='E_DIFF_abs', aggfunc=['mean', 'std'])\n",
    "stability_stats['bias'] = results.groupby('dataset')['E_DIFF'].mean()\n",
    "stability_stats['variance'] = results.groupby('dataset')['E_DIFF'].var()\n",
    "\n",
    "print(stability_stats)\n"
   ]
  },
  {
   "cell_type": "code",
   "execution_count": 17,
   "id": "c95b1de2-824a-4486-82a5-4a98880aec0d",
   "metadata": {},
   "outputs": [
    {
     "name": "stdout",
     "output_type": "stream",
     "text": [
      "              mean                 std             bias_LR variance_LR  \\\n",
      "clf_type   log_reg       svm   log_reg       svm                         \n",
      "dataset                                                                  \n",
      "circles   0.250194  0.271814  0.210996  0.270475  0.226130    0.055998   \n",
      "moons     0.171940  0.190119  0.220163  0.269398  0.048702    0.075701   \n",
      "\n",
      "          bias_svm variance_svm  \n",
      "clf_type                         \n",
      "dataset                          \n",
      "circles   0.259140     0.079889  \n",
      "moons     0.143975     0.087999  \n"
     ]
    }
   ],
   "source": [
    "# Analysing Ex 4 with pivot table\n",
    "stability_stats = results.pivot_table(index='dataset', columns='clf_type', values='E_DIFF_abs', aggfunc=['mean', 'std'])\n",
    "stability_stats['bias_LR'] = results.query('clf_type == \"log_reg\"').groupby('dataset')['E_DIFF'].mean()\n",
    "stability_stats['variance_LR'] = results.query('clf_type == \"log_reg\"').groupby('dataset')['E_DIFF'].var()\n",
    "stability_stats['bias_svm'] = results.query('clf_type == \"svm\"').groupby('dataset')['E_DIFF'].mean()\n",
    "stability_stats['variance_svm'] = results.query('clf_type == \"svm\"').groupby('dataset')['E_DIFF'].var()\n",
    "print(stability_stats)\n"
   ]
  },
  {
   "cell_type": "code",
   "execution_count": null,
   "id": "446818bf-78a0-4d5c-b109-dd99232b3706",
   "metadata": {},
   "outputs": [],
   "source": [
    "##\n",
    "stability_stats = results[results['noise_level'] == 0.5].groupby('clf_type').agg({'E_DIFF_abs': ['mean', 'std'], 'E_DIFF': ['mean', 'var']})\n",
    "stability_stats.columns = stability_stats.columns.map('_'.join)\n",
    "stability_stats = stability_stats.rename(columns={'E_DIFF_abs_mean': 'mean', 'E_DIFF_abs_std': 'std', 'E_DIFF_mean': 'bias', 'E_DIFF_var': 'variance'})\n",
    "stability_stats = stability_stats.reset_index()\n",
    "\n",
    "print(\"stability_stats for noise_level = 0.5:\\n \",stability_stats)\n",
    "\n"
   ]
  },
  {
   "cell_type": "code",
   "execution_count": 20,
   "id": "cdcedd0c-eb60-41d8-8b66-0a613661d52b",
   "metadata": {},
   "outputs": [
    {
     "data": {
      "image/png": "[encoded data removed]",
      "text/plain": [
       "<Figure size 1000x600 with 1 Axes>"
      ]
     },
     "metadata": {},
     "output_type": "display_data"
    }
   ],
   "source": [
    "# Analysing Ex 4 \n",
    "import matplotlib.pyplot as plt\n",
    "\n",
    "noise_level = 0.5\n",
    "\n",
    "query_results_svm = results.query('noise_level == noise_level and clf_type == \"svm\"')\n",
    "query_results_log_reg = results.query('noise_level == noise_level and clf_type == \"log_reg\"')\n",
    "\n",
    "\n",
    "data_sizes_svm = []\n",
    "train_accs_svm = []\n",
    "test_accs_svm = []\n",
    "e_diffs_svm = []\n",
    "\n",
    "data_sizes_lr = []\n",
    "train_accs_lr = []\n",
    "test_accs_lr = []\n",
    "e_diffs_lr = []\n",
    "\n",
    "for n in n_samples:\n",
    "    data_size_results_svm = query_results_svm[query_results_svm['n_samples'] == n]\n",
    "    train_acc_mean_svm = data_size_results_svm['train_accuracy'].mean()\n",
    "    test_acc_mean_svm = data_size_results_svm['test_accuracy'].mean()\n",
    "    e_diff_mean_svm = data_size_results_svm['E_DIFF'].mean()\n",
    "\n",
    "    data_sizes_svm.append(n)\n",
    "    train_accs_svm.append(train_acc_mean_svm)\n",
    "    test_accs_svm.append(test_acc_mean_svm)\n",
    "    e_diffs_svm.append(e_diff_mean_svm)\n",
    "\n",
    "\n",
    "for n in n_samples:\n",
    "    data_size_results_lr = query_results_log_reg[query_results_log_reg['n_samples'] == n]\n",
    "    train_acc_mean_lr = data_size_results_lr['train_accuracy'].mean()\n",
    "    test_acc_mean_lr = data_size_results_lr['test_accuracy'].mean()\n",
    "    e_diff_mean_lr = data_size_results_lr['E_DIFF'].mean()\n",
    "\n",
    "    data_sizes_lr.append(n)\n",
    "    train_accs_lr.append(train_acc_mean_lr)\n",
    "    test_accs_lr.append(test_acc_mean_lr)\n",
    "    e_diffs_lr.append(e_diff_mean_lr)\n",
    "\n",
    "plt.figure(figsize=(10, 6))\n",
    "plt.plot(data_sizes_svm, train_accs_svm, label='SVM Train Accuracy', color='steelblue', marker='o')\n",
    "plt.plot(data_sizes_svm, test_accs_svm, label='SVM Test Accuracy', color='cornflowerblue', marker='o')\n",
    "plt.plot(data_sizes_svm, e_diffs_svm, label='SVM E_DIFF', color='deepskyblue')\n",
    "plt.plot(data_sizes_lr, train_accs_lr, label='Logistic Regression Train Accuracy', color='darkorange', marker='o')\n",
    "plt.plot(data_sizes_lr, test_accs_lr, label='Logistic Regression Test Accuracy', color='orange', marker='o')\n",
    "plt.plot(data_sizes_lr, e_diffs_lr, label='Logistic Regression E_DIFF', color='gold', marker='o')\n",
    "plt.xlabel('Data Size')\n",
    "plt.ylabel('Value')\n",
    "plt.title(f'Effect of Data Size on SVM and Logistic Regression\\nTrain Accuracy, Test Accuracy, and E_DIFF (Noise Level: {noise_level})')\n",
    "plt.legend()\n",
    "plt.xticks(np.arange(0, max(data_sizes_svm)+1, 50))\n",
    "plt.show()"
   ]
  },
  {
   "cell_type": "code",
   "execution_count": null,
   "id": "66991c1a-5c04-4849-8d7e-49347dd03ef9",
   "metadata": {},
   "outputs": [],
   "source": [
    "## overfitting of svm when n>100 -- test acc\n",
    "## overfitting of log reg when n>100"
   ]
  },
  {
   "cell_type": "code",
   "execution_count": 21,
   "id": "b3abf97e-cdde-447c-a6d1-cc0b9379a322",
   "metadata": {},
   "outputs": [
    {
     "data": {
      "image/png": "[encoded data removed]",
      "text/plain": [
       "<Figure size 1000x600 with 1 Axes>"
      ]
     },
     "metadata": {},
     "output_type": "display_data"
    }
   ],
   "source": [
    "## Analysing Ex 5\n",
    "import matplotlib.pyplot as plt\n",
    "\n",
    "noise_level = 0.5\n",
    "\n",
    "regularization_values = [0.1, 1, 10]  # Modify this with the desired model complexities\n",
    "\n",
    "train_accs_svm = []\n",
    "test_accs_svm = []\n",
    "e_diffs_svm = []\n",
    "\n",
    "train_accs_lr = []\n",
    "test_accs_lr = []\n",
    "e_diffs_lr = []\n",
    "\n",
    "for complexity in regularization_values:\n",
    "    query_results_svm = results.query(f'noise_level == {noise_level} and clf_type == \"svm\" and regularization_value == {complexity}')\n",
    "    query_results_lr = results.query(f'noise_level == {noise_level} and clf_type == \"log_reg\" and regularization_value == {complexity}')\n",
    "    \n",
    "    train_acc_mean_svm = query_results_svm['train_accuracy'].mean()\n",
    "    test_acc_mean_svm = query_results_svm['test_accuracy'].mean()\n",
    "    e_diff_mean_svm = query_results_svm['E_DIFF'].mean()\n",
    "    \n",
    "    train_acc_mean_lr = query_results_lr['train_accuracy'].mean()\n",
    "    test_acc_mean_lr = query_results_lr['test_accuracy'].mean()\n",
    "    e_diff_mean_lr = query_results_lr['E_DIFF'].mean()\n",
    "    \n",
    "    train_accs_svm.append(train_acc_mean_svm)\n",
    "    test_accs_svm.append(test_acc_mean_svm)\n",
    "    e_diffs_svm.append(e_diff_mean_svm)\n",
    "    \n",
    "    train_accs_lr.append(train_acc_mean_lr)\n",
    "    test_accs_lr.append(test_acc_mean_lr)\n",
    "    e_diffs_lr.append(e_diff_mean_lr)\n",
    "    \n",
    "plt.figure(figsize=(10, 6))\n",
    "\n",
    "plt.plot(regularization_values, train_accs_svm, label='SVM Train Accuracy', color='steelblue', marker='o')\n",
    "plt.plot(regularization_values, test_accs_svm, label='SVM Test Accuracy', color='cornflowerblue', marker='o')\n",
    "plt.plot(regularization_values, e_diffs_svm, label='SVM E_DIFF', color='deepskyblue', marker='o')\n",
    "\n",
    "plt.plot(regularization_values, train_accs_lr, label='Log Reg Train Accuracy', color='darkorange', marker='o')\n",
    "plt.plot(regularization_values, test_accs_lr, label='Log Reg Test Accuracy', color='orange', marker='o')\n",
    "plt.plot(regularization_values, e_diffs_lr, label='Log Reg E_DIFF', color='gold', marker='o')\n",
    "\n",
    "plt.xlabel('Model Complexity')\n",
    "plt.ylabel('Value')\n",
    "plt.title(f'Effect of Model Complexity on SVM and Logistic Regression\\nTrain Accuracy, Test Accuracy, and E_DIFF (Noise Level: {noise_level})')\n",
    "plt.legend()\n",
    "plt.show()\n"
   ]
  },
  {
   "cell_type": "code",
   "execution_count": null,
   "id": "52551bf0-c5b9-4101-afac-a2c259dd35a8",
   "metadata": {},
   "outputs": [],
   "source": []
  }
 ],
 "metadata": {
  "kernelspec": {
   "display_name": "Python 3 (ipykernel)",
   "language": "python",
   "name": "python3"
  },
  "language_info": {
   "codemirror_mode": {
    "name": "ipython",
    "version": 3
   },
   "file_extension": ".py",
   "mimetype": "text/x-python",
   "name": "python",
   "nbconvert_exporter": "python",
   "pygments_lexer": "ipython3",
   "version": "3.9.13"
  }
 },
 "nbformat": 4,
 "nbformat_minor": 5
}
