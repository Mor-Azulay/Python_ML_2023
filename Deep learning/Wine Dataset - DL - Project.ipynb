{
 "cells": [
  {
   "cell_type": "markdown",
   "metadata": {},
   "source": [
    "# Wines Points prediction "
   ]
  },
  {
   "cell_type": "code",
   "execution_count": 1,
   "metadata": {},
   "outputs": [],
   "source": [
    "%load_ext autoreload\n",
    "%autoreload 2\n",
    "import sys; sys.path.append('../')"
   ]
  },
  {
   "cell_type": "markdown",
   "metadata": {},
   "source": [
    "Here we will try to predict the points a wine will get based on known characteristics (i.e. features, in the ML terminology). The mine point in this stage is to establish a simple, ideally super cost effective, basline.\n",
    "In the real world there is a tradeoff between complexity and perforamnce, and the DS job, among others, is to present a tradeoff tables of what performance is achivalbel at what complexity level. \n",
    "\n",
    "to which models with increased complexity and resource demands will be compared. Complexity should then be translated into cost. For example:\n",
    " * Compute cost \n",
    " * Maintenance cost\n",
    " * Serving costs (i.e. is new platform needed?) \n",
    " "
   ]
  },
  {
   "cell_type": "markdown",
   "metadata": {},
   "source": [
    "## Loading the data"
   ]
  },
  {
   "cell_type": "code",
   "execution_count": 2,
   "metadata": {},
   "outputs": [
    {
     "name": "stdout",
     "output_type": "stream",
     "text": [
      "The autoreload extension is already loaded. To reload it, use:\n",
      "  %reload_ext autoreload\n"
     ]
    }
   ],
   "source": [
    "%load_ext autoreload\n",
    "%autoreload 2\n",
    "import sys; sys.path.append('../')"
   ]
  },
  {
   "cell_type": "code",
   "execution_count": 3,
   "metadata": {},
   "outputs": [
    {
     "name": "stderr",
     "output_type": "stream",
     "text": [
      "C:\\Users\\mor\\Anaconda3\\lib\\site-packages\\scipy\\__init__.py:155: UserWarning:\n",
      "\n",
      "A NumPy version >=1.18.5 and <1.25.0 is required for this version of SciPy (detected version 1.26.2\n",
      "\n"
     ]
    },
    {
     "data": {
      "text/html": [
       "        <script type=\"text/javascript\">\n",
       "        window.PlotlyConfig = {MathJaxConfig: 'local'};\n",
       "        if (window.MathJax && window.MathJax.Hub && window.MathJax.Hub.Config) {window.MathJax.Hub.Config({SVG: {font: \"STIX-Web\"}});}\n",
       "        if (typeof require !== 'undefined') {\n",
       "        require.undef(\"plotly\");\n",
       "        requirejs.config({\n",
       "            paths: {\n",
       "                'plotly': ['https://cdn.plot.ly/plotly-2.12.1.min']\n",
       "            }\n",
       "        });\n",
       "        require(['plotly'], function(Plotly) {\n",
       "            window._Plotly = Plotly;\n",
       "        });\n",
       "        }\n",
       "        </script>\n",
       "        "
      ]
     },
     "metadata": {},
     "output_type": "display_data"
    }
   ],
   "source": [
    "import pandas as pd\n",
    "import cufflinks as cf; cf.go_offline()\n",
    "import numpy as np"
   ]
  },
  {
   "cell_type": "code",
   "execution_count": null,
   "metadata": {},
   "outputs": [],
   "source": [
    "import os\n",
    "os._exit(00)"
   ]
  },
  {
   "cell_type": "code",
   "execution_count": null,
   "metadata": {},
   "outputs": [],
   "source": []
  },
  {
   "cell_type": "code",
   "execution_count": 6,
   "metadata": {},
   "outputs": [
    {
     "name": "stderr",
     "output_type": "stream",
     "text": [
      "The system cannot find the file specified.\n"
     ]
    }
   ],
   "source": [
    "!pip install numpy>=1.18.5,<1.25.0 --upgrade"
   ]
  },
  {
   "cell_type": "code",
   "execution_count": 218,
   "metadata": {},
   "outputs": [],
   "source": [
    "import gensim\n",
    "import numpy as np\n",
    "import pandas as pd\n",
    "import tensorflow as tf\n",
    "from sklearn.compose import ColumnTransformer\n",
    "from sklearn.pipeline import Pipeline\n",
    "from sklearn.impute import SimpleImputer\n",
    "from sklearn.preprocessing import StandardScaler, OneHotEncoder\n",
    "from sklearn.feature_extraction.text import TfidfVectorizer\n",
    "from sklearn.decomposition import PCA\n",
    "from sklearn.decomposition import TruncatedSVD\n",
    "from tensorflow.keras import layers, models\n",
    "from tensorflow.keras.models import Model, Sequential\n",
    "from tensorflow.keras.layers import Input, Dense, Embedding, Concatenate, Flatten, TextVectorization, Dropout\n",
    "from tensorflow.keras.optimizers import Adam\n",
    "from tensorflow.keras.metrics import MeanSquaredError, MeanAbsoluteError\n",
    "from tensorflow.keras.losses import MeanSquaredError\n",
    "from sklearn.preprocessing import MinMaxScaler, OneHotEncoder\n",
    "from tensorflow.keras.preprocessing.text import Tokenizer\n",
    "from tensorflow.keras.utils import to_categorical, plot_model, pad_sequences\n",
    "from tensorflow.keras.callbacks import EarlyStopping\n",
    "from tensorflow.keras import activations\n",
    "from sklearn.model_selection import train_test_split"
   ]
  },
  {
   "cell_type": "code",
   "execution_count": 143,
   "metadata": {},
   "outputs": [
    {
     "name": "stderr",
     "output_type": "stream",
     "text": [
      "[nltk_data] Downloading package stopwords to\n",
      "[nltk_data]     C:\\Users\\mor\\AppData\\Roaming\\nltk_data...\n",
      "[nltk_data]   Package stopwords is already up-to-date!\n",
      "[nltk_data] Downloading package punkt to\n",
      "[nltk_data]     C:\\Users\\mor\\AppData\\Roaming\\nltk_data...\n",
      "[nltk_data]   Unzipping tokenizers\\punkt.zip.\n"
     ]
    },
    {
     "data": {
      "text/plain": [
       "True"
      ]
     },
     "execution_count": 143,
     "metadata": {},
     "output_type": "execute_result"
    }
   ],
   "source": [
    "import re \n",
    "import nltk\n",
    "from nltk.corpus import stopwords\n",
    "\n",
    "# Download stopwords for English, French, Italian, and Spanish\n",
    "nltk.download('stopwords')\n",
    "nltk.download('punkt')"
   ]
  },
  {
   "cell_type": "code",
   "execution_count": 183,
   "metadata": {},
   "outputs": [
    {
     "data": {
      "text/plain": [
       "(129971, 14)"
      ]
     },
     "execution_count": 183,
     "metadata": {},
     "output_type": "execute_result"
    }
   ],
   "source": [
    "wine_reviews = pd.read_csv(\"C:/Users/mor/Python_ML_2023/data/winemag-data-130k-v2.csv\")\n",
    "wine_reviews.shape"
   ]
  },
  {
   "cell_type": "code",
   "execution_count": 184,
   "metadata": {},
   "outputs": [],
   "source": [
    "\n",
    "## https://www.kaggle.com/datasets/zynicide/wine-reviews"
   ]
  },
  {
   "cell_type": "code",
   "execution_count": 185,
   "metadata": {},
   "outputs": [
    {
     "data": {
      "text/html": [
       "<div>\n",
       "<style scoped>\n",
       "    .dataframe tbody tr th:only-of-type {\n",
       "        vertical-align: middle;\n",
       "    }\n",
       "\n",
       "    .dataframe tbody tr th {\n",
       "        vertical-align: top;\n",
       "    }\n",
       "\n",
       "    .dataframe thead th {\n",
       "        text-align: right;\n",
       "    }\n",
       "</style>\n",
       "<table border=\"1\" class=\"dataframe\">\n",
       "  <thead>\n",
       "    <tr style=\"text-align: right;\">\n",
       "      <th></th>\n",
       "      <th>Unnamed: 0</th>\n",
       "      <th>country</th>\n",
       "      <th>description</th>\n",
       "      <th>designation</th>\n",
       "      <th>points</th>\n",
       "      <th>price</th>\n",
       "      <th>province</th>\n",
       "      <th>region_1</th>\n",
       "      <th>region_2</th>\n",
       "      <th>taster_name</th>\n",
       "      <th>taster_twitter_handle</th>\n",
       "      <th>title</th>\n",
       "      <th>variety</th>\n",
       "      <th>winery</th>\n",
       "    </tr>\n",
       "  </thead>\n",
       "  <tbody>\n",
       "    <tr>\n",
       "      <th>0</th>\n",
       "      <td>0</td>\n",
       "      <td>Italy</td>\n",
       "      <td>Aromas include tropical fruit, broom, brimston...</td>\n",
       "      <td>Vulkà Bianco</td>\n",
       "      <td>87</td>\n",
       "      <td>NaN</td>\n",
       "      <td>Sicily &amp; Sardinia</td>\n",
       "      <td>Etna</td>\n",
       "      <td>NaN</td>\n",
       "      <td>Kerin O’Keefe</td>\n",
       "      <td>@kerinokeefe</td>\n",
       "      <td>Nicosia 2013 Vulkà Bianco  (Etna)</td>\n",
       "      <td>White Blend</td>\n",
       "      <td>Nicosia</td>\n",
       "    </tr>\n",
       "    <tr>\n",
       "      <th>1</th>\n",
       "      <td>1</td>\n",
       "      <td>Portugal</td>\n",
       "      <td>This is ripe and fruity, a wine that is smooth...</td>\n",
       "      <td>Avidagos</td>\n",
       "      <td>87</td>\n",
       "      <td>15.0</td>\n",
       "      <td>Douro</td>\n",
       "      <td>NaN</td>\n",
       "      <td>NaN</td>\n",
       "      <td>Roger Voss</td>\n",
       "      <td>@vossroger</td>\n",
       "      <td>Quinta dos Avidagos 2011 Avidagos Red (Douro)</td>\n",
       "      <td>Portuguese Red</td>\n",
       "      <td>Quinta dos Avidagos</td>\n",
       "    </tr>\n",
       "    <tr>\n",
       "      <th>2</th>\n",
       "      <td>2</td>\n",
       "      <td>US</td>\n",
       "      <td>Tart and snappy, the flavors of lime flesh and...</td>\n",
       "      <td>NaN</td>\n",
       "      <td>87</td>\n",
       "      <td>14.0</td>\n",
       "      <td>Oregon</td>\n",
       "      <td>Willamette Valley</td>\n",
       "      <td>Willamette Valley</td>\n",
       "      <td>Paul Gregutt</td>\n",
       "      <td>@paulgwine</td>\n",
       "      <td>Rainstorm 2013 Pinot Gris (Willamette Valley)</td>\n",
       "      <td>Pinot Gris</td>\n",
       "      <td>Rainstorm</td>\n",
       "    </tr>\n",
       "    <tr>\n",
       "      <th>3</th>\n",
       "      <td>3</td>\n",
       "      <td>US</td>\n",
       "      <td>Pineapple rind, lemon pith and orange blossom ...</td>\n",
       "      <td>Reserve Late Harvest</td>\n",
       "      <td>87</td>\n",
       "      <td>13.0</td>\n",
       "      <td>Michigan</td>\n",
       "      <td>Lake Michigan Shore</td>\n",
       "      <td>NaN</td>\n",
       "      <td>Alexander Peartree</td>\n",
       "      <td>NaN</td>\n",
       "      <td>St. Julian 2013 Reserve Late Harvest Riesling ...</td>\n",
       "      <td>Riesling</td>\n",
       "      <td>St. Julian</td>\n",
       "    </tr>\n",
       "    <tr>\n",
       "      <th>4</th>\n",
       "      <td>4</td>\n",
       "      <td>US</td>\n",
       "      <td>Much like the regular bottling from 2012, this...</td>\n",
       "      <td>Vintner's Reserve Wild Child Block</td>\n",
       "      <td>87</td>\n",
       "      <td>65.0</td>\n",
       "      <td>Oregon</td>\n",
       "      <td>Willamette Valley</td>\n",
       "      <td>Willamette Valley</td>\n",
       "      <td>Paul Gregutt</td>\n",
       "      <td>@paulgwine</td>\n",
       "      <td>Sweet Cheeks 2012 Vintner's Reserve Wild Child...</td>\n",
       "      <td>Pinot Noir</td>\n",
       "      <td>Sweet Cheeks</td>\n",
       "    </tr>\n",
       "  </tbody>\n",
       "</table>\n",
       "</div>"
      ],
      "text/plain": [
       "   Unnamed: 0   country                                        description  \\\n",
       "0           0     Italy  Aromas include tropical fruit, broom, brimston...   \n",
       "1           1  Portugal  This is ripe and fruity, a wine that is smooth...   \n",
       "2           2        US  Tart and snappy, the flavors of lime flesh and...   \n",
       "3           3        US  Pineapple rind, lemon pith and orange blossom ...   \n",
       "4           4        US  Much like the regular bottling from 2012, this...   \n",
       "\n",
       "                          designation  points  price           province  \\\n",
       "0                        Vulkà Bianco      87    NaN  Sicily & Sardinia   \n",
       "1                            Avidagos      87   15.0              Douro   \n",
       "2                                 NaN      87   14.0             Oregon   \n",
       "3                Reserve Late Harvest      87   13.0           Michigan   \n",
       "4  Vintner's Reserve Wild Child Block      87   65.0             Oregon   \n",
       "\n",
       "              region_1           region_2         taster_name  \\\n",
       "0                 Etna                NaN       Kerin O’Keefe   \n",
       "1                  NaN                NaN          Roger Voss   \n",
       "2    Willamette Valley  Willamette Valley        Paul Gregutt   \n",
       "3  Lake Michigan Shore                NaN  Alexander Peartree   \n",
       "4    Willamette Valley  Willamette Valley        Paul Gregutt   \n",
       "\n",
       "  taster_twitter_handle                                              title  \\\n",
       "0          @kerinokeefe                  Nicosia 2013 Vulkà Bianco  (Etna)   \n",
       "1            @vossroger      Quinta dos Avidagos 2011 Avidagos Red (Douro)   \n",
       "2           @paulgwine       Rainstorm 2013 Pinot Gris (Willamette Valley)   \n",
       "3                   NaN  St. Julian 2013 Reserve Late Harvest Riesling ...   \n",
       "4           @paulgwine   Sweet Cheeks 2012 Vintner's Reserve Wild Child...   \n",
       "\n",
       "          variety               winery  \n",
       "0     White Blend              Nicosia  \n",
       "1  Portuguese Red  Quinta dos Avidagos  \n",
       "2      Pinot Gris            Rainstorm  \n",
       "3        Riesling           St. Julian  \n",
       "4      Pinot Noir         Sweet Cheeks  "
      ]
     },
     "execution_count": 185,
     "metadata": {},
     "output_type": "execute_result"
    }
   ],
   "source": [
    "wine_reviews.head()"
   ]
  },
  {
   "cell_type": "markdown",
   "metadata": {},
   "source": [
    "# Cleaning the data"
   ]
  },
  {
   "cell_type": "code",
   "execution_count": 186,
   "metadata": {
    "tags": []
   },
   "outputs": [
    {
     "data": {
      "text/plain": [
       "(119988, 10)"
      ]
     },
     "execution_count": 186,
     "metadata": {},
     "output_type": "execute_result"
    }
   ],
   "source": [
    "wine_reviews = wine_reviews.drop(columns = ['Unnamed: 0','region_2','taster_twitter_handle','designation'])\n",
    "wine_reviews = wine_reviews.drop_duplicates()\n",
    "wine_reviews.shape"
   ]
  },
  {
   "cell_type": "code",
   "execution_count": 187,
   "metadata": {},
   "outputs": [
    {
     "data": {
      "text/html": [
       "<div>\n",
       "<style scoped>\n",
       "    .dataframe tbody tr th:only-of-type {\n",
       "        vertical-align: middle;\n",
       "    }\n",
       "\n",
       "    .dataframe tbody tr th {\n",
       "        vertical-align: top;\n",
       "    }\n",
       "\n",
       "    .dataframe thead th {\n",
       "        text-align: right;\n",
       "    }\n",
       "</style>\n",
       "<table border=\"1\" class=\"dataframe\">\n",
       "  <thead>\n",
       "    <tr style=\"text-align: right;\">\n",
       "      <th></th>\n",
       "      <th>country</th>\n",
       "      <th>description</th>\n",
       "      <th>points</th>\n",
       "      <th>price</th>\n",
       "      <th>province</th>\n",
       "      <th>region_1</th>\n",
       "      <th>taster_name</th>\n",
       "      <th>title</th>\n",
       "      <th>variety</th>\n",
       "      <th>winery</th>\n",
       "    </tr>\n",
       "  </thead>\n",
       "  <tbody>\n",
       "    <tr>\n",
       "      <th>0</th>\n",
       "      <td>Italy</td>\n",
       "      <td>Aromas include tropical fruit, broom, brimston...</td>\n",
       "      <td>87</td>\n",
       "      <td>NaN</td>\n",
       "      <td>Sicily &amp; Sardinia</td>\n",
       "      <td>Etna</td>\n",
       "      <td>Kerin O’Keefe</td>\n",
       "      <td>Nicosia 2013 Vulkà Bianco  (Etna)</td>\n",
       "      <td>White Blend</td>\n",
       "      <td>Nicosia</td>\n",
       "    </tr>\n",
       "    <tr>\n",
       "      <th>1</th>\n",
       "      <td>Portugal</td>\n",
       "      <td>This is ripe and fruity, a wine that is smooth...</td>\n",
       "      <td>87</td>\n",
       "      <td>15.0</td>\n",
       "      <td>Douro</td>\n",
       "      <td>NaN</td>\n",
       "      <td>Roger Voss</td>\n",
       "      <td>Quinta dos Avidagos 2011 Avidagos Red (Douro)</td>\n",
       "      <td>Portuguese Red</td>\n",
       "      <td>Quinta dos Avidagos</td>\n",
       "    </tr>\n",
       "    <tr>\n",
       "      <th>2</th>\n",
       "      <td>US</td>\n",
       "      <td>Tart and snappy, the flavors of lime flesh and...</td>\n",
       "      <td>87</td>\n",
       "      <td>14.0</td>\n",
       "      <td>Oregon</td>\n",
       "      <td>Willamette Valley</td>\n",
       "      <td>Paul Gregutt</td>\n",
       "      <td>Rainstorm 2013 Pinot Gris (Willamette Valley)</td>\n",
       "      <td>Pinot Gris</td>\n",
       "      <td>Rainstorm</td>\n",
       "    </tr>\n",
       "    <tr>\n",
       "      <th>3</th>\n",
       "      <td>US</td>\n",
       "      <td>Pineapple rind, lemon pith and orange blossom ...</td>\n",
       "      <td>87</td>\n",
       "      <td>13.0</td>\n",
       "      <td>Michigan</td>\n",
       "      <td>Lake Michigan Shore</td>\n",
       "      <td>Alexander Peartree</td>\n",
       "      <td>St. Julian 2013 Reserve Late Harvest Riesling ...</td>\n",
       "      <td>Riesling</td>\n",
       "      <td>St. Julian</td>\n",
       "    </tr>\n",
       "    <tr>\n",
       "      <th>4</th>\n",
       "      <td>US</td>\n",
       "      <td>Much like the regular bottling from 2012, this...</td>\n",
       "      <td>87</td>\n",
       "      <td>65.0</td>\n",
       "      <td>Oregon</td>\n",
       "      <td>Willamette Valley</td>\n",
       "      <td>Paul Gregutt</td>\n",
       "      <td>Sweet Cheeks 2012 Vintner's Reserve Wild Child...</td>\n",
       "      <td>Pinot Noir</td>\n",
       "      <td>Sweet Cheeks</td>\n",
       "    </tr>\n",
       "  </tbody>\n",
       "</table>\n",
       "</div>"
      ],
      "text/plain": [
       "    country                                        description  points  price  \\\n",
       "0     Italy  Aromas include tropical fruit, broom, brimston...      87    NaN   \n",
       "1  Portugal  This is ripe and fruity, a wine that is smooth...      87   15.0   \n",
       "2        US  Tart and snappy, the flavors of lime flesh and...      87   14.0   \n",
       "3        US  Pineapple rind, lemon pith and orange blossom ...      87   13.0   \n",
       "4        US  Much like the regular bottling from 2012, this...      87   65.0   \n",
       "\n",
       "            province             region_1         taster_name  \\\n",
       "0  Sicily & Sardinia                 Etna       Kerin O’Keefe   \n",
       "1              Douro                  NaN          Roger Voss   \n",
       "2             Oregon    Willamette Valley        Paul Gregutt   \n",
       "3           Michigan  Lake Michigan Shore  Alexander Peartree   \n",
       "4             Oregon    Willamette Valley        Paul Gregutt   \n",
       "\n",
       "                                               title         variety  \\\n",
       "0                  Nicosia 2013 Vulkà Bianco  (Etna)     White Blend   \n",
       "1      Quinta dos Avidagos 2011 Avidagos Red (Douro)  Portuguese Red   \n",
       "2      Rainstorm 2013 Pinot Gris (Willamette Valley)      Pinot Gris   \n",
       "3  St. Julian 2013 Reserve Late Harvest Riesling ...        Riesling   \n",
       "4  Sweet Cheeks 2012 Vintner's Reserve Wild Child...      Pinot Noir   \n",
       "\n",
       "                winery  \n",
       "0              Nicosia  \n",
       "1  Quinta dos Avidagos  \n",
       "2            Rainstorm  \n",
       "3           St. Julian  \n",
       "4         Sweet Cheeks  "
      ]
     },
     "execution_count": 187,
     "metadata": {},
     "output_type": "execute_result"
    }
   ],
   "source": [
    "wine_reviews.head()"
   ]
  },
  {
   "cell_type": "code",
   "execution_count": 188,
   "metadata": {},
   "outputs": [
    {
     "data": {
      "text/plain": [
       "taster_name    24917\n",
       "region_1       19560\n",
       "price           8395\n",
       "country           59\n",
       "province          59\n",
       "variety            1\n",
       "description        0\n",
       "points             0\n",
       "title              0\n",
       "winery             0\n",
       "dtype: int64"
      ]
     },
     "execution_count": 188,
     "metadata": {},
     "output_type": "execute_result"
    }
   ],
   "source": [
    "null_counts = wine_reviews.isnull().sum()\n",
    "null_counts.sort_values(ascending=False)"
   ]
  },
  {
   "cell_type": "code",
   "execution_count": 189,
   "metadata": {},
   "outputs": [],
   "source": [
    "# Replace null values in \"taster_name\" and \"region_1\" to 'Unknown'\n",
    "\n",
    "wine_reviews['taster_name'].fillna('Unknown', inplace=True)\n",
    "wine_reviews['region_1'].fillna('Unknown', inplace=True)\n",
    "\n",
    "# Remove null values from variety and country- Only 59\n",
    "\n",
    "wine_reviews= wine_reviews.dropna(subset=['country'])\n",
    "wine_reviews= wine_reviews.dropna(subset=['variety'])\n",
    "\n",
    "# Calculate the mean price by province and replace null in price by the mean\n",
    "\n",
    "average_prices = wine_reviews.groupby('province')['price'].transform('mean')\n",
    "wine_reviews['price'].fillna(average_prices, inplace=True)"
   ]
  },
  {
   "cell_type": "code",
   "execution_count": 190,
   "metadata": {},
   "outputs": [
    {
     "data": {
      "text/html": [
       "<div>\n",
       "<style scoped>\n",
       "    .dataframe tbody tr th:only-of-type {\n",
       "        vertical-align: middle;\n",
       "    }\n",
       "\n",
       "    .dataframe tbody tr th {\n",
       "        vertical-align: top;\n",
       "    }\n",
       "\n",
       "    .dataframe thead th {\n",
       "        text-align: right;\n",
       "    }\n",
       "</style>\n",
       "<table border=\"1\" class=\"dataframe\">\n",
       "  <thead>\n",
       "    <tr style=\"text-align: right;\">\n",
       "      <th></th>\n",
       "      <th>country</th>\n",
       "      <th>description</th>\n",
       "      <th>points</th>\n",
       "      <th>price</th>\n",
       "      <th>province</th>\n",
       "      <th>region_1</th>\n",
       "      <th>taster_name</th>\n",
       "      <th>title</th>\n",
       "      <th>variety</th>\n",
       "      <th>winery</th>\n",
       "    </tr>\n",
       "  </thead>\n",
       "  <tbody>\n",
       "    <tr>\n",
       "      <th>16766</th>\n",
       "      <td>South Africa</td>\n",
       "      <td>Winemaker: Charles Hopkins. There are some mea...</td>\n",
       "      <td>88</td>\n",
       "      <td>NaN</td>\n",
       "      <td>Ceres Plateau</td>\n",
       "      <td>Unknown</td>\n",
       "      <td>Lauren Buzzeo</td>\n",
       "      <td>De Grendel 2015 Cape Winemakers Guild Op Die B...</td>\n",
       "      <td>Pinot Noir</td>\n",
       "      <td>De Grendel</td>\n",
       "    </tr>\n",
       "    <tr>\n",
       "      <th>34865</th>\n",
       "      <td>South Africa</td>\n",
       "      <td>Winemaker: Neil Ellis. A blend of 70% Temprani...</td>\n",
       "      <td>91</td>\n",
       "      <td>NaN</td>\n",
       "      <td>Piekenierskloof</td>\n",
       "      <td>Unknown</td>\n",
       "      <td>Lauren Buzzeo</td>\n",
       "      <td>Neil Ellis 2013 Cape Winemakers Guild Insigniu...</td>\n",
       "      <td>Red Blend</td>\n",
       "      <td>Neil Ellis</td>\n",
       "    </tr>\n",
       "    <tr>\n",
       "      <th>110246</th>\n",
       "      <td>Egypt</td>\n",
       "      <td>Ripe pear, apple and tropical fruit in the nos...</td>\n",
       "      <td>84</td>\n",
       "      <td>NaN</td>\n",
       "      <td>Egypt</td>\n",
       "      <td>Unknown</td>\n",
       "      <td>Susan Kostrzewa</td>\n",
       "      <td>Sahara Vineyards 2008 Caspar Blanc de Noirs Gr...</td>\n",
       "      <td>Grenache</td>\n",
       "      <td>Sahara Vineyards</td>\n",
       "    </tr>\n",
       "  </tbody>\n",
       "</table>\n",
       "</div>"
      ],
      "text/plain": [
       "             country                                        description  \\\n",
       "16766   South Africa  Winemaker: Charles Hopkins. There are some mea...   \n",
       "34865   South Africa  Winemaker: Neil Ellis. A blend of 70% Temprani...   \n",
       "110246         Egypt  Ripe pear, apple and tropical fruit in the nos...   \n",
       "\n",
       "        points  price         province region_1      taster_name  \\\n",
       "16766       88    NaN    Ceres Plateau  Unknown    Lauren Buzzeo   \n",
       "34865       91    NaN  Piekenierskloof  Unknown    Lauren Buzzeo   \n",
       "110246      84    NaN            Egypt  Unknown  Susan Kostrzewa   \n",
       "\n",
       "                                                    title     variety  \\\n",
       "16766   De Grendel 2015 Cape Winemakers Guild Op Die B...  Pinot Noir   \n",
       "34865   Neil Ellis 2013 Cape Winemakers Guild Insigniu...   Red Blend   \n",
       "110246  Sahara Vineyards 2008 Caspar Blanc de Noirs Gr...    Grenache   \n",
       "\n",
       "                  winery  \n",
       "16766         De Grendel  \n",
       "34865         Neil Ellis  \n",
       "110246  Sahara Vineyards  "
      ]
     },
     "execution_count": 190,
     "metadata": {},
     "output_type": "execute_result"
    }
   ],
   "source": [
    "null_price_records = wine_reviews[wine_reviews['price'].isnull()]\n",
    "\n",
    "# Print the records with null price\n",
    "null_price_records"
   ]
  },
  {
   "cell_type": "code",
   "execution_count": 191,
   "metadata": {},
   "outputs": [
    {
     "data": {
      "text/html": [
       "<div>\n",
       "<style scoped>\n",
       "    .dataframe tbody tr th:only-of-type {\n",
       "        vertical-align: middle;\n",
       "    }\n",
       "\n",
       "    .dataframe tbody tr th {\n",
       "        vertical-align: top;\n",
       "    }\n",
       "\n",
       "    .dataframe thead th {\n",
       "        text-align: right;\n",
       "    }\n",
       "</style>\n",
       "<table border=\"1\" class=\"dataframe\">\n",
       "  <thead>\n",
       "    <tr style=\"text-align: right;\">\n",
       "      <th></th>\n",
       "      <th>country</th>\n",
       "      <th>description</th>\n",
       "      <th>points</th>\n",
       "      <th>price</th>\n",
       "      <th>province</th>\n",
       "      <th>region_1</th>\n",
       "      <th>taster_name</th>\n",
       "      <th>title</th>\n",
       "      <th>variety</th>\n",
       "      <th>winery</th>\n",
       "    </tr>\n",
       "  </thead>\n",
       "  <tbody>\n",
       "    <tr>\n",
       "      <th>110246</th>\n",
       "      <td>Egypt</td>\n",
       "      <td>Ripe pear, apple and tropical fruit in the nos...</td>\n",
       "      <td>84</td>\n",
       "      <td>NaN</td>\n",
       "      <td>Egypt</td>\n",
       "      <td>Unknown</td>\n",
       "      <td>Susan Kostrzewa</td>\n",
       "      <td>Sahara Vineyards 2008 Caspar Blanc de Noirs Gr...</td>\n",
       "      <td>Grenache</td>\n",
       "      <td>Sahara Vineyards</td>\n",
       "    </tr>\n",
       "  </tbody>\n",
       "</table>\n",
       "</div>"
      ],
      "text/plain": [
       "       country                                        description  points  \\\n",
       "110246   Egypt  Ripe pear, apple and tropical fruit in the nos...      84   \n",
       "\n",
       "        price province region_1      taster_name  \\\n",
       "110246    NaN    Egypt  Unknown  Susan Kostrzewa   \n",
       "\n",
       "                                                    title   variety  \\\n",
       "110246  Sahara Vineyards 2008 Caspar Blanc de Noirs Gr...  Grenache   \n",
       "\n",
       "                  winery  \n",
       "110246  Sahara Vineyards  "
      ]
     },
     "execution_count": 191,
     "metadata": {},
     "output_type": "execute_result"
    }
   ],
   "source": [
    "# Calculate the mean price by country and replace the remaining null in price by the mean\n",
    "\n",
    "average_prices_c = wine_reviews.groupby('country')['price'].transform('mean')\n",
    "wine_reviews['price'].fillna(average_prices_c, inplace=True)\n",
    "\n",
    "null_price_records = wine_reviews[wine_reviews['price'].isnull()]\n",
    "\n",
    "# Print the records with null price\n",
    "null_price_records"
   ]
  },
  {
   "cell_type": "code",
   "execution_count": 192,
   "metadata": {},
   "outputs": [],
   "source": [
    "# Removing the last null\n",
    "\n",
    "wine_reviews= wine_reviews.dropna(subset=['price'])"
   ]
  },
  {
   "cell_type": "code",
   "execution_count": 193,
   "metadata": {},
   "outputs": [
    {
     "data": {
      "text/html": [
       "<div>\n",
       "<style scoped>\n",
       "    .dataframe tbody tr th:only-of-type {\n",
       "        vertical-align: middle;\n",
       "    }\n",
       "\n",
       "    .dataframe tbody tr th {\n",
       "        vertical-align: top;\n",
       "    }\n",
       "\n",
       "    .dataframe thead th {\n",
       "        text-align: right;\n",
       "    }\n",
       "</style>\n",
       "<table border=\"1\" class=\"dataframe\">\n",
       "  <thead>\n",
       "    <tr style=\"text-align: right;\">\n",
       "      <th></th>\n",
       "      <th>country</th>\n",
       "      <th>description</th>\n",
       "      <th>points</th>\n",
       "      <th>price</th>\n",
       "      <th>province</th>\n",
       "      <th>region_1</th>\n",
       "      <th>taster_name</th>\n",
       "      <th>title</th>\n",
       "      <th>variety</th>\n",
       "      <th>winery</th>\n",
       "      <th>year</th>\n",
       "    </tr>\n",
       "  </thead>\n",
       "  <tbody>\n",
       "    <tr>\n",
       "      <th>0</th>\n",
       "      <td>Italy</td>\n",
       "      <td>Aromas include tropical fruit, broom, brimston...</td>\n",
       "      <td>87</td>\n",
       "      <td>27.76669</td>\n",
       "      <td>Sicily &amp; Sardinia</td>\n",
       "      <td>Etna</td>\n",
       "      <td>Kerin O’Keefe</td>\n",
       "      <td>Nicosia 2013 Vulkà Bianco  (Etna)</td>\n",
       "      <td>White Blend</td>\n",
       "      <td>Nicosia</td>\n",
       "      <td>2013</td>\n",
       "    </tr>\n",
       "  </tbody>\n",
       "</table>\n",
       "</div>"
      ],
      "text/plain": [
       "  country                                        description  points  \\\n",
       "0   Italy  Aromas include tropical fruit, broom, brimston...      87   \n",
       "\n",
       "      price           province region_1    taster_name  \\\n",
       "0  27.76669  Sicily & Sardinia     Etna  Kerin O’Keefe   \n",
       "\n",
       "                               title      variety   winery  year  \n",
       "0  Nicosia 2013 Vulkà Bianco  (Etna)  White Blend  Nicosia  2013  "
      ]
     },
     "execution_count": 193,
     "metadata": {},
     "output_type": "execute_result"
    }
   ],
   "source": [
    "# Extract year out of the title and add to the data\n",
    "\n",
    "def extract_year(title):\n",
    "    for word in title.split():\n",
    "        if word.isdigit():\n",
    "            if 1900 <= int(word) <= 2017:\n",
    "                return word\n",
    "        # elif word == 'NV':\n",
    "        #     return word\n",
    "        \n",
    "    return None\n",
    "\n",
    "#add Year Column\n",
    "wine_reviews['year'] = wine_reviews['title'].apply(lambda i: extract_year(i))\n",
    "wine_reviews.head(1)"
   ]
  },
  {
   "cell_type": "code",
   "execution_count": 194,
   "metadata": {},
   "outputs": [
    {
     "data": {
      "text/plain": [
       "4283"
      ]
     },
     "execution_count": 194,
     "metadata": {},
     "output_type": "execute_result"
    }
   ],
   "source": [
    "null_counts = wine_reviews.year.isnull().sum()\n",
    "null_counts"
   ]
  },
  {
   "cell_type": "code",
   "execution_count": 195,
   "metadata": {},
   "outputs": [
    {
     "data": {
      "text/html": [
       "<div>\n",
       "<style scoped>\n",
       "    .dataframe tbody tr th:only-of-type {\n",
       "        vertical-align: middle;\n",
       "    }\n",
       "\n",
       "    .dataframe tbody tr th {\n",
       "        vertical-align: top;\n",
       "    }\n",
       "\n",
       "    .dataframe thead th {\n",
       "        text-align: right;\n",
       "    }\n",
       "</style>\n",
       "<table border=\"1\" class=\"dataframe\">\n",
       "  <thead>\n",
       "    <tr style=\"text-align: right;\">\n",
       "      <th></th>\n",
       "      <th>country</th>\n",
       "      <th>description</th>\n",
       "      <th>points</th>\n",
       "      <th>price</th>\n",
       "      <th>province</th>\n",
       "      <th>region_1</th>\n",
       "      <th>taster_name</th>\n",
       "      <th>title</th>\n",
       "      <th>variety</th>\n",
       "      <th>winery</th>\n",
       "      <th>year</th>\n",
       "    </tr>\n",
       "  </thead>\n",
       "  <tbody>\n",
       "  </tbody>\n",
       "</table>\n",
       "</div>"
      ],
      "text/plain": [
       "Empty DataFrame\n",
       "Columns: [country, description, points, price, province, region_1, taster_name, title, variety, winery, year]\n",
       "Index: []"
      ]
     },
     "execution_count": 195,
     "metadata": {},
     "output_type": "execute_result"
    }
   ],
   "source": [
    "# Calculate the mean year by country and replace the null in year by the mean\n",
    "\n",
    "wine_reviews['year'] = pd.to_numeric(wine_reviews['year'], errors='coerce')\n",
    "average_prices_y = wine_reviews.groupby('country')['year'].transform('mean')\n",
    "wine_reviews['year'].fillna(average_prices_y, inplace=True)\n",
    "\n",
    "wine_reviews['year'] = wine_reviews['year'].astype(int)\n",
    "\n",
    "null_year_records = wine_reviews[wine_reviews['year'].isnull()]\n",
    "\n",
    "# Print the records with null\n",
    "null_year_records"
   ]
  },
  {
   "cell_type": "code",
   "execution_count": 196,
   "metadata": {},
   "outputs": [],
   "source": [
    "#Removing title\n",
    "wine_reviews = wine_reviews.drop(columns = ['title'])"
   ]
  },
  {
   "cell_type": "code",
   "execution_count": 197,
   "metadata": {},
   "outputs": [
    {
     "data": {
      "text/html": [
       "<div>\n",
       "<style scoped>\n",
       "    .dataframe tbody tr th:only-of-type {\n",
       "        vertical-align: middle;\n",
       "    }\n",
       "\n",
       "    .dataframe tbody tr th {\n",
       "        vertical-align: top;\n",
       "    }\n",
       "\n",
       "    .dataframe thead th {\n",
       "        text-align: right;\n",
       "    }\n",
       "</style>\n",
       "<table border=\"1\" class=\"dataframe\">\n",
       "  <thead>\n",
       "    <tr style=\"text-align: right;\">\n",
       "      <th></th>\n",
       "      <th>country</th>\n",
       "      <th>description</th>\n",
       "      <th>points</th>\n",
       "      <th>price</th>\n",
       "      <th>province</th>\n",
       "      <th>region_1</th>\n",
       "      <th>taster_name</th>\n",
       "      <th>variety</th>\n",
       "      <th>winery</th>\n",
       "      <th>year</th>\n",
       "    </tr>\n",
       "  </thead>\n",
       "  <tbody>\n",
       "    <tr>\n",
       "      <th>0</th>\n",
       "      <td>Italy</td>\n",
       "      <td>Aromas include tropical fruit, broom, brimston...</td>\n",
       "      <td>87</td>\n",
       "      <td>27.76669</td>\n",
       "      <td>Sicily &amp; Sardinia</td>\n",
       "      <td>Etna</td>\n",
       "      <td>Kerin O’Keefe</td>\n",
       "      <td>White Blend</td>\n",
       "      <td>Nicosia</td>\n",
       "      <td>2013</td>\n",
       "    </tr>\n",
       "    <tr>\n",
       "      <th>1</th>\n",
       "      <td>Portugal</td>\n",
       "      <td>This is ripe and fruity, a wine that is smooth...</td>\n",
       "      <td>87</td>\n",
       "      <td>15.00000</td>\n",
       "      <td>Douro</td>\n",
       "      <td>Unknown</td>\n",
       "      <td>Roger Voss</td>\n",
       "      <td>Portuguese Red</td>\n",
       "      <td>Quinta dos Avidagos</td>\n",
       "      <td>2011</td>\n",
       "    </tr>\n",
       "    <tr>\n",
       "      <th>2</th>\n",
       "      <td>US</td>\n",
       "      <td>Tart and snappy, the flavors of lime flesh and...</td>\n",
       "      <td>87</td>\n",
       "      <td>14.00000</td>\n",
       "      <td>Oregon</td>\n",
       "      <td>Willamette Valley</td>\n",
       "      <td>Paul Gregutt</td>\n",
       "      <td>Pinot Gris</td>\n",
       "      <td>Rainstorm</td>\n",
       "      <td>2013</td>\n",
       "    </tr>\n",
       "  </tbody>\n",
       "</table>\n",
       "</div>"
      ],
      "text/plain": [
       "    country                                        description  points  \\\n",
       "0     Italy  Aromas include tropical fruit, broom, brimston...      87   \n",
       "1  Portugal  This is ripe and fruity, a wine that is smooth...      87   \n",
       "2        US  Tart and snappy, the flavors of lime flesh and...      87   \n",
       "\n",
       "      price           province           region_1    taster_name  \\\n",
       "0  27.76669  Sicily & Sardinia               Etna  Kerin O’Keefe   \n",
       "1  15.00000              Douro            Unknown     Roger Voss   \n",
       "2  14.00000             Oregon  Willamette Valley   Paul Gregutt   \n",
       "\n",
       "          variety               winery  year  \n",
       "0     White Blend              Nicosia  2013  \n",
       "1  Portuguese Red  Quinta dos Avidagos  2011  \n",
       "2      Pinot Gris            Rainstorm  2013  "
      ]
     },
     "execution_count": 197,
     "metadata": {},
     "output_type": "execute_result"
    }
   ],
   "source": [
    "wine_reviews.head(3)"
   ]
  },
  {
   "cell_type": "code",
   "execution_count": 198,
   "metadata": {},
   "outputs": [
    {
     "name": "stderr",
     "output_type": "stream",
     "text": [
      "[nltk_data] Downloading package stopwords to\n",
      "[nltk_data]     C:\\Users\\mor\\AppData\\Roaming\\nltk_data...\n",
      "[nltk_data]   Package stopwords is already up-to-date!\n"
     ]
    }
   ],
   "source": [
    "# Assuming the dataset includes English, French, and Spanish\n",
    "nltk.download('stopwords')\n",
    "stop_words = set(stopwords.words('english') + stopwords.words('french')+ stopwords.words('italian') + stopwords.words('spanish'))"
   ]
  },
  {
   "cell_type": "code",
   "execution_count": 199,
   "metadata": {},
   "outputs": [],
   "source": [
    "def clean_description(description):\n",
    "    # Remove numbers, special characters, and links\n",
    "    description = re.sub(r'\\d+', '', description)  # Remove numbers\n",
    "    description = re.sub(r'[^\\w\\s]', '', description)  # Remove special characters\n",
    "    description = re.sub(r'http\\S+|www.\\S+', '', description)  # Remove links\n",
    "\n",
    "    # Tokenize the description into words\n",
    "    words = nltk.word_tokenize(description)\n",
    "\n",
    "    # Remove stop words\n",
    "    words = [word for word in words if word.lower() not in stop_words]\n",
    "\n",
    "    # Join the words back into a cleaned description\n",
    "    cleaned_description = ' '.join(words)\n",
    "    \n",
    "    return cleaned_description"
   ]
  },
  {
   "cell_type": "code",
   "execution_count": 200,
   "metadata": {},
   "outputs": [],
   "source": [
    "# Clean the 'description' column\n",
    "wine_reviews['cleaned_descriptions'] = wine_reviews['description'].apply(clean_description)"
   ]
  },
  {
   "cell_type": "code",
   "execution_count": 201,
   "metadata": {},
   "outputs": [
    {
     "data": {
      "text/html": [
       "<div>\n",
       "<style scoped>\n",
       "    .dataframe tbody tr th:only-of-type {\n",
       "        vertical-align: middle;\n",
       "    }\n",
       "\n",
       "    .dataframe tbody tr th {\n",
       "        vertical-align: top;\n",
       "    }\n",
       "\n",
       "    .dataframe thead th {\n",
       "        text-align: right;\n",
       "    }\n",
       "</style>\n",
       "<table border=\"1\" class=\"dataframe\">\n",
       "  <thead>\n",
       "    <tr style=\"text-align: right;\">\n",
       "      <th></th>\n",
       "      <th>country</th>\n",
       "      <th>points</th>\n",
       "      <th>price</th>\n",
       "      <th>province</th>\n",
       "      <th>region_1</th>\n",
       "      <th>taster_name</th>\n",
       "      <th>variety</th>\n",
       "      <th>winery</th>\n",
       "      <th>year</th>\n",
       "      <th>cleaned_descriptions</th>\n",
       "      <th>description_len</th>\n",
       "    </tr>\n",
       "  </thead>\n",
       "  <tbody>\n",
       "    <tr>\n",
       "      <th>0</th>\n",
       "      <td>Italy</td>\n",
       "      <td>87</td>\n",
       "      <td>27.76669</td>\n",
       "      <td>Sicily &amp; Sardinia</td>\n",
       "      <td>Etna</td>\n",
       "      <td>Kerin O’Keefe</td>\n",
       "      <td>White Blend</td>\n",
       "      <td>Nicosia</td>\n",
       "      <td>2013</td>\n",
       "      <td>Aromas include tropical fruit broom brimstone ...</td>\n",
       "      <td>21</td>\n",
       "    </tr>\n",
       "    <tr>\n",
       "      <th>1</th>\n",
       "      <td>Portugal</td>\n",
       "      <td>87</td>\n",
       "      <td>15.00000</td>\n",
       "      <td>Douro</td>\n",
       "      <td>Unknown</td>\n",
       "      <td>Roger Voss</td>\n",
       "      <td>Portuguese Red</td>\n",
       "      <td>Quinta dos Avidagos</td>\n",
       "      <td>2011</td>\n",
       "      <td>ripe fruity wine smooth still structured Firm ...</td>\n",
       "      <td>20</td>\n",
       "    </tr>\n",
       "    <tr>\n",
       "      <th>2</th>\n",
       "      <td>US</td>\n",
       "      <td>87</td>\n",
       "      <td>14.00000</td>\n",
       "      <td>Oregon</td>\n",
       "      <td>Willamette Valley</td>\n",
       "      <td>Paul Gregutt</td>\n",
       "      <td>Pinot Gris</td>\n",
       "      <td>Rainstorm</td>\n",
       "      <td>2013</td>\n",
       "      <td>Tart snappy flavors lime flesh rind dominate g...</td>\n",
       "      <td>17</td>\n",
       "    </tr>\n",
       "  </tbody>\n",
       "</table>\n",
       "</div>"
      ],
      "text/plain": [
       "    country  points     price           province           region_1  \\\n",
       "0     Italy      87  27.76669  Sicily & Sardinia               Etna   \n",
       "1  Portugal      87  15.00000              Douro            Unknown   \n",
       "2        US      87  14.00000             Oregon  Willamette Valley   \n",
       "\n",
       "     taster_name         variety               winery  year  \\\n",
       "0  Kerin O’Keefe     White Blend              Nicosia  2013   \n",
       "1     Roger Voss  Portuguese Red  Quinta dos Avidagos  2011   \n",
       "2   Paul Gregutt      Pinot Gris            Rainstorm  2013   \n",
       "\n",
       "                                cleaned_descriptions  description_len  \n",
       "0  Aromas include tropical fruit broom brimstone ...               21  \n",
       "1  ripe fruity wine smooth still structured Firm ...               20  \n",
       "2  Tart snappy flavors lime flesh rind dominate g...               17  "
      ]
     },
     "execution_count": 201,
     "metadata": {},
     "output_type": "execute_result"
    }
   ],
   "source": [
    "#Removing description\n",
    "wine_reviews = wine_reviews.drop(columns = ['description'])\n",
    "wine_reviews['description_len'] = wine_reviews['cleaned_descriptions'].str.split().str.len()\n",
    "wine_reviews.head(3)"
   ]
  },
  {
   "cell_type": "code",
   "execution_count": null,
   "metadata": {},
   "outputs": [],
   "source": []
  },
  {
   "cell_type": "markdown",
   "metadata": {},
   "source": [
    "# Target, train and test"
   ]
  },
  {
   "cell_type": "code",
   "execution_count": 202,
   "metadata": {},
   "outputs": [],
   "source": [
    "categorical_features =  ['country','province','region_1','variety','winery','year']\n",
    "numerical_features = ['price']\n",
    "description_features = ['cleaned_descriptions']"
   ]
  },
  {
   "cell_type": "code",
   "execution_count": 203,
   "metadata": {},
   "outputs": [
    {
     "data": {
      "text/plain": [
       "(119927, 9)"
      ]
     },
     "execution_count": 203,
     "metadata": {},
     "output_type": "execute_result"
    }
   ],
   "source": [
    "wine_reviews_dl = wine_reviews[categorical_features+numerical_features+description_features+['points']]\n",
    "np.where(wine_reviews_dl=='NV')\n",
    "indices = np.where(wine_reviews_dl == 'NV')\n",
    "wine_reviews_dl = wine_reviews_dl.drop(indices[0])\n",
    "wine_reviews_dl.shape"
   ]
  },
  {
   "cell_type": "code",
   "execution_count": 204,
   "metadata": {},
   "outputs": [
    {
     "data": {
      "text/plain": [
       "(array([], dtype=int64), array([], dtype=int64))"
      ]
     },
     "execution_count": 204,
     "metadata": {},
     "output_type": "execute_result"
    }
   ],
   "source": [
    "# Split the data into train and test sets\n",
    "wine_reviews_X = wine_reviews_dl.drop(columns='points').head(10000)\n",
    "wine_reviews_y = wine_reviews_dl['points'].head(10000)\n",
    "\n",
    "X_train, X_test, y_train, y_test = train_test_split(wine_reviews_X, wine_reviews_y, test_size=0.2, random_state=17)\n",
    "\n",
    "np.where(X_test=='NV')"
   ]
  },
  {
   "cell_type": "code",
   "execution_count": 205,
   "metadata": {},
   "outputs": [
    {
     "data": {
      "text/plain": [
       "0"
      ]
     },
     "execution_count": 205,
     "metadata": {},
     "output_type": "execute_result"
    }
   ],
   "source": [
    "# Data processing\n",
    "for feature in categorical_features:\n",
    "    wine_reviews_X[feature] = pd.Categorical(wine_reviews_X[feature]).codes.astype('float32')\n",
    "    X_train[feature] = pd.Categorical(X_train[feature]).codes.astype('float32')\n",
    "    X_test[feature] = pd.Categorical(X_test[feature]).codes.astype('float32')\n",
    "    \n",
    "wine_reviews_X.isnull().sum().sum()\n",
    "wine_reviews_X.winery.isnull().sum().sum()"
   ]
  },
  {
   "cell_type": "code",
   "execution_count": 206,
   "metadata": {},
   "outputs": [
    {
     "name": "stdout",
     "output_type": "stream",
     "text": [
      "(4760,)\n",
      "(314,)\n",
      "(34,)\n",
      "(28,)\n"
     ]
    }
   ],
   "source": [
    "unique_values_winery = X_train['winery'].unique()\n",
    "unique_values_variety = X_train['variety'].unique()\n",
    "unique_values_country = X_train['country'].unique()\n",
    "unique_values_year = X_train['year'].unique()\n",
    "\n",
    "\n",
    "print(unique_values_winery.shape)\n",
    "print(unique_values_variety.shape)\n",
    "print(unique_values_country.shape)\n",
    "print(unique_values_year.shape)"
   ]
  },
  {
   "cell_type": "code",
   "execution_count": 207,
   "metadata": {},
   "outputs": [
    {
     "data": {
      "text/plain": [
       "0        87\n",
       "1        87\n",
       "2        87\n",
       "3        87\n",
       "4        87\n",
       "         ..\n",
       "10040    89\n",
       "10041    89\n",
       "10042    89\n",
       "10043    89\n",
       "10044    89\n",
       "Name: points, Length: 10000, dtype: int64"
      ]
     },
     "execution_count": 207,
     "metadata": {},
     "output_type": "execute_result"
    }
   ],
   "source": [
    "wine_reviews_y"
   ]
  },
  {
   "cell_type": "code",
   "execution_count": 211,
   "metadata": {},
   "outputs": [
    {
     "name": "stdout",
     "output_type": "stream",
     "text": [
      "(1, 10000)\n"
     ]
    }
   ],
   "source": [
    "# MinMaxScaler\n",
    "print(wine_reviews_y.shape)  # Check the shape before applying MinMaxScaler\n",
    "\n",
    "# Reshape to a 2D array if needed\n",
    "wine_reviews_y = wine_reviews_y.reshape(-1, 1)\n",
    "\n",
    "# MinMaxScaler\n",
    "minmax = MinMaxScaler()\n",
    "wine_reviews_y_scaled = minmax.fit_transform(wine_reviews_y)"
   ]
  },
  {
   "cell_type": "code",
   "execution_count": 30,
   "metadata": {
    "tags": []
   },
   "outputs": [
    {
     "data": {
      "text/plain": [
       "0"
      ]
     },
     "execution_count": 30,
     "metadata": {},
     "output_type": "execute_result"
    }
   ],
   "source": []
  },
  {
   "cell_type": "code",
   "execution_count": 212,
   "metadata": {},
   "outputs": [
    {
     "name": "stdout",
     "output_type": "stream",
     "text": [
      "Maximum Description Length: 76\n"
     ]
    }
   ],
   "source": [
    "# Find the maximum description length\n",
    "max_desc_len = wine_reviews['description_len'].max()\n",
    "\n",
    "print(\"Maximum Description Length:\", max_desc_len)"
   ]
  },
  {
   "cell_type": "code",
   "execution_count": 220,
   "metadata": {},
   "outputs": [
    {
     "name": "stdout",
     "output_type": "stream",
     "text": [
      "Epoch 1/10\n",
      "WARNING:tensorflow:From C:\\Users\\mor\\Anaconda3\\lib\\site-packages\\keras\\src\\utils\\tf_utils.py:492: The name tf.ragged.RaggedTensorValue is deprecated. Please use tf.compat.v1.ragged.RaggedTensorValue instead.\n",
      "\n",
      "250/250 [==============================] - 9s 28ms/step - loss: 400.1316 - mean_absolute_error: 9.0369 - val_loss: 6.7610 - val_mean_absolute_error: 2.0523\n",
      "Epoch 2/10\n",
      "250/250 [==============================] - 7s 26ms/step - loss: 5.3225 - mean_absolute_error: 1.7889 - val_loss: 4.9583 - val_mean_absolute_error: 1.7747\n",
      "Epoch 3/10\n",
      "250/250 [==============================] - 7s 28ms/step - loss: 3.6906 - mean_absolute_error: 1.5124 - val_loss: 4.6144 - val_mean_absolute_error: 1.7099\n",
      "Epoch 4/10\n",
      "250/250 [==============================] - 7s 28ms/step - loss: 3.0287 - mean_absolute_error: 1.3766 - val_loss: 5.6029 - val_mean_absolute_error: 1.8563\n",
      "Epoch 5/10\n",
      "250/250 [==============================] - 7s 28ms/step - loss: 2.3855 - mean_absolute_error: 1.2233 - val_loss: 5.0826 - val_mean_absolute_error: 1.7667\n",
      "Epoch 6/10\n",
      "250/250 [==============================] - 7s 28ms/step - loss: 1.8786 - mean_absolute_error: 1.0757 - val_loss: 5.2918 - val_mean_absolute_error: 1.8218\n",
      "Epoch 7/10\n",
      "250/250 [==============================] - 7s 28ms/step - loss: 1.4000 - mean_absolute_error: 0.9333 - val_loss: 5.7186 - val_mean_absolute_error: 1.8919\n",
      "Epoch 8/10\n",
      "250/250 [==============================] - 7s 28ms/step - loss: 1.0406 - mean_absolute_error: 0.7964 - val_loss: 6.1350 - val_mean_absolute_error: 1.9620\n",
      "Epoch 9/10\n",
      "250/250 [==============================] - 7s 28ms/step - loss: 0.8335 - mean_absolute_error: 0.7156 - val_loss: 6.6933 - val_mean_absolute_error: 2.0427\n",
      "Epoch 10/10\n",
      "250/250 [==============================] - 7s 29ms/step - loss: 0.6959 - mean_absolute_error: 0.6572 - val_loss: 6.6842 - val_mean_absolute_error: 2.0439\n",
      "63/63 [==============================] - 0s 4ms/step - loss: 6.6842 - mean_absolute_error: 2.0439\n",
      "Test Loss: 6.684165000915527\n",
      "Test MAE: 2.043912172317505\n"
     ]
    }
   ],
   "source": [
    "max_words = 1024  # Maximum number of words to consider\n",
    "\n",
    "tokenizer_1024 = Tokenizer(num_words=1024)\n",
    "tokenizer_1024.fit_on_texts(X_train.cleaned_descriptions)\n",
    "desc_1024 = tokenizer_1024.texts_to_sequences(X_train.cleaned_descriptions)\n",
    "max_seq_length = max(len(seq) for seq in desc_1024)\n",
    "\n",
    "desc_1024_pad = pad_sequences(desc_1024, truncating='post', maxlen=max_seq_length)\n",
    "text_input_1 = Input(shape=(max_seq_length,))\n",
    "\n",
    "# # Split the data into training and testing sets\n",
    "# X_train_text1, X_test_text1, y_train1, y_test1 = train_test_split(\n",
    "#     df, y_train, test_size=0.2, random_state=42\n",
    "# )\n",
    "tokenizer_1024_test = Tokenizer(num_words=1024)\n",
    "tokenizer_1024_test.fit_on_texts(X_test.cleaned_descriptions)\n",
    "desc_1024_test = tokenizer_1024.texts_to_sequences(X_test.cleaned_descriptions)\n",
    "max_seq_length_test = max(len(seq) for seq in desc_1024_test)\n",
    "# df = pd.DataFrame({'winery': X_train['winery'], 'desc_1024': desc_1024_pad})\n",
    "desc_1024_pad_test = pad_sequences(desc_1024_test, truncating='post', maxlen=max_seq_length)\n",
    "\n",
    "cat_input_1 = Input(shape=(1,))\n",
    "embedding_1 = Embedding(input_dim=4720, output_dim=1)(cat_input_1)\n",
    "flat_embed_1 = Flatten()(embedding_1)\n",
    "\n",
    "# Embedding layers for textual features\n",
    "embedding_dim = 128\n",
    "embedding_1 = Embedding(input_dim=max_words, output_dim=embedding_dim)(text_input_1)\n",
    "flatten_1 = Flatten()(embedding_1)\n",
    "\n",
    "# Concatenate flattened embeddings with dense layers for regression\n",
    "concatenated = Flatten()(flatten_1)  # Remove extra Flatten layer\n",
    "x = Dense(256, activation='relu')(concatenated)\n",
    "x = Dense(32, activation='relu')(x)\n",
    "output = Dense(1, activation='linear')(x)  # Use linear activation for continuous target variable\n",
    "\n",
    "# Define the model\n",
    "model = Model(inputs=[text_input_1], outputs=output)\n",
    "\n",
    "# Compile the model\n",
    "model.compile(optimizer=Adam(learning_rate=0.001),\n",
    "              loss=MeanSquaredError(),\n",
    "              metrics=[MeanAbsoluteError()])\n",
    "\n",
    "# Train the model\n",
    "model.fit([desc_1024_pad], y_train,\n",
    "          batch_size=32,\n",
    "          epochs=10,\n",
    "          validation_data=([desc_1024_pad_test], y_test))\n",
    "\n",
    "# Evaluate the model\n",
    "loss, mae = model.evaluate([desc_1024_pad_test], y_test)\n",
    "print('Test Loss:', loss)\n",
    "print('Test MAE:', mae)\n"
   ]
  },
  {
   "cell_type": "code",
   "execution_count": 223,
   "metadata": {},
   "outputs": [],
   "source": [
    "from tensorflow.keras.models import Model\n",
    "from tensorflow.keras.layers import Input, Embedding, Dense, Concatenate, Flatten\n",
    "from tensorflow.keras.optimizers import Adam\n",
    "from tensorflow.keras.losses import MeanSquaredError\n",
    "from tensorflow.keras.metrics import MeanAbsoluteError\n",
    "from tensorflow.keras.preprocessing.text import Tokenizer\n",
    "from tensorflow.keras.preprocessing.sequence import pad_sequences"
   ]
  },
  {
   "cell_type": "code",
   "execution_count": 234,
   "metadata": {},
   "outputs": [
    {
     "name": "stdout",
     "output_type": "stream",
     "text": [
      "Epoch 1/10\n",
      "250/250 [==============================] - 8s 29ms/step - loss: 492.6464 - mean_absolute_error: 10.3147 - val_loss: 7.7701 - val_mean_absolute_error: 2.1548\n",
      "Epoch 2/10\n",
      "250/250 [==============================] - 7s 28ms/step - loss: 5.3521 - mean_absolute_error: 1.7786 - val_loss: 5.2462 - val_mean_absolute_error: 1.8074\n",
      "Epoch 3/10\n",
      "250/250 [==============================] - 7s 29ms/step - loss: 2.9092 - mean_absolute_error: 1.3094 - val_loss: 5.9066 - val_mean_absolute_error: 1.9266\n",
      "Epoch 4/10\n",
      "250/250 [==============================] - 7s 29ms/step - loss: 1.7252 - mean_absolute_error: 0.9953 - val_loss: 6.5521 - val_mean_absolute_error: 2.0293\n",
      "Epoch 5/10\n",
      "250/250 [==============================] - 7s 28ms/step - loss: 1.1976 - mean_absolute_error: 0.8180 - val_loss: 7.1020 - val_mean_absolute_error: 2.1184\n",
      "Epoch 6/10\n",
      "250/250 [==============================] - 7s 30ms/step - loss: 0.8730 - mean_absolute_error: 0.7012 - val_loss: 7.1169 - val_mean_absolute_error: 2.1313\n",
      "Epoch 7/10\n",
      "250/250 [==============================] - 7s 29ms/step - loss: 0.5958 - mean_absolute_error: 0.5839 - val_loss: 7.5309 - val_mean_absolute_error: 2.1987\n",
      "Epoch 8/10\n",
      "250/250 [==============================] - 7s 30ms/step - loss: 0.4312 - mean_absolute_error: 0.4984 - val_loss: 7.7101 - val_mean_absolute_error: 2.2245\n",
      "Epoch 9/10\n",
      "250/250 [==============================] - 7s 29ms/step - loss: 0.3065 - mean_absolute_error: 0.4276 - val_loss: 8.1863 - val_mean_absolute_error: 2.2966\n",
      "Epoch 10/10\n",
      "250/250 [==============================] - 7s 30ms/step - loss: 0.2623 - mean_absolute_error: 0.4040 - val_loss: 8.0425 - val_mean_absolute_error: 2.2772\n",
      "63/63 [==============================] - 0s 4ms/step - loss: 8.0425 - mean_absolute_error: 2.2772\n",
      "Test Loss: 8.042510986328125\n",
      "Test MAE: 2.27720046043396\n"
     ]
    }
   ],
   "source": [
    "max_words = 1024  # Maximum number of words to consider\n",
    "\n",
    "# Tokenize training set descriptions\n",
    "tokenizer_1024 = Tokenizer(num_words=max_words)\n",
    "tokenizer_1024.fit_on_texts(X_train.cleaned_descriptions)\n",
    "desc_1024 = tokenizer_1024.texts_to_sequences(X_train.cleaned_descriptions)\n",
    "max_seq_length = max(len(seq) for seq in desc_1024)\n",
    "desc_1024_pad = pad_sequences(desc_1024, truncating='post', padding='post', maxlen=max_seq_length)\n",
    "text_input_1 = Input(shape=(max_seq_length,))\n",
    "\n",
    "# Tokenize test set descriptions using the same tokenizer\n",
    "desc_1024_test = tokenizer_1024.texts_to_sequences(X_test.cleaned_descriptions)\n",
    "desc_1024_pad_test = pad_sequences(desc_1024_test, truncating='post', padding='post', maxlen=max_seq_length)\n",
    "\n",
    "cat_input_1 = Input(shape=(1,))\n",
    "embedding_1 = Embedding(input_dim=len(tokenizer_1024.word_index) + 1, output_dim=16)(cat_input_1)\n",
    "flat_embed_1 = Flatten()(embedding_1)\n",
    "\n",
    "embedding_dim = 128\n",
    "embedding_1_text = Embedding(input_dim=max_words, output_dim=embedding_dim)(text_input_1)\n",
    "flatten_1 = Flatten()(embedding_1_text)\n",
    "\n",
    "concatenated = Concatenate()([flatten_1, flat_embed_1])\n",
    "x = Dense(256, activation='relu')(concatenated)\n",
    "x = Dense(32, activation='relu')(x)\n",
    "output = Dense(1, activation='linear')(x)\n",
    "\n",
    "model = Model(inputs=[text_input_1, cat_input_1], outputs=output)\n",
    "\n",
    "model.compile(optimizer=Adam(learning_rate=0.001),\n",
    "              loss=MeanSquaredError(),\n",
    "              metrics=[MeanAbsoluteError()])\n",
    "\n",
    "model.fit([desc_1024_pad, X_train['winery']], y_train,\n",
    "          batch_size=32,\n",
    "          epochs=10,\n",
    "          validation_data=([desc_1024_pad_test, X_test['winery']], y_test))\n",
    "\n",
    "loss, mae = model.evaluate([desc_1024_pad_test, X_test['winery']], y_test)\n",
    "print('Test Loss:', loss)\n",
    "print('Test MAE:', mae)\n"
   ]
  },
  {
   "cell_type": "code",
   "execution_count": 241,
   "metadata": {},
   "outputs": [],
   "source": []
  },
  {
   "cell_type": "code",
   "execution_count": 248,
   "metadata": {},
   "outputs": [
    {
     "name": "stdout",
     "output_type": "stream",
     "text": [
      "Epoch 1/10\n"
     ]
    },
    {
     "ename": "InvalidArgumentError",
     "evalue": "Graph execution error:\n\nDetected at node model_16/embedding_65/embedding_lookup defined at (most recent call last):\n  File \"C:\\Users\\mor\\Anaconda3\\lib\\runpy.py\", line 197, in _run_module_as_main\n\n  File \"C:\\Users\\mor\\Anaconda3\\lib\\runpy.py\", line 87, in _run_code\n\n  File \"C:\\Users\\mor\\Anaconda3\\lib\\site-packages\\ipykernel_launcher.py\", line 17, in <module>\n\n  File \"C:\\Users\\mor\\Anaconda3\\lib\\site-packages\\traitlets\\config\\application.py\", line 846, in launch_instance\n\n  File \"C:\\Users\\mor\\Anaconda3\\lib\\site-packages\\ipykernel\\kernelapp.py\", line 712, in start\n\n  File \"C:\\Users\\mor\\Anaconda3\\lib\\site-packages\\tornado\\platform\\asyncio.py\", line 199, in start\n\n  File \"C:\\Users\\mor\\Anaconda3\\lib\\asyncio\\base_events.py\", line 601, in run_forever\n\n  File \"C:\\Users\\mor\\Anaconda3\\lib\\asyncio\\base_events.py\", line 1905, in _run_once\n\n  File \"C:\\Users\\mor\\Anaconda3\\lib\\asyncio\\events.py\", line 80, in _run\n\n  File \"C:\\Users\\mor\\Anaconda3\\lib\\site-packages\\ipykernel\\kernelbase.py\", line 510, in dispatch_queue\n\n  File \"C:\\Users\\mor\\Anaconda3\\lib\\site-packages\\ipykernel\\kernelbase.py\", line 499, in process_one\n\n  File \"C:\\Users\\mor\\Anaconda3\\lib\\site-packages\\ipykernel\\kernelbase.py\", line 406, in dispatch_shell\n\n  File \"C:\\Users\\mor\\Anaconda3\\lib\\site-packages\\ipykernel\\kernelbase.py\", line 730, in execute_request\n\n  File \"C:\\Users\\mor\\Anaconda3\\lib\\site-packages\\ipykernel\\ipkernel.py\", line 390, in do_execute\n\n  File \"C:\\Users\\mor\\Anaconda3\\lib\\site-packages\\ipykernel\\zmqshell.py\", line 528, in run_cell\n\n  File \"C:\\Users\\mor\\Anaconda3\\lib\\site-packages\\IPython\\core\\interactiveshell.py\", line 2914, in run_cell\n\n  File \"C:\\Users\\mor\\Anaconda3\\lib\\site-packages\\IPython\\core\\interactiveshell.py\", line 2960, in _run_cell\n\n  File \"C:\\Users\\mor\\Anaconda3\\lib\\site-packages\\IPython\\core\\async_helpers.py\", line 78, in _pseudo_sync_runner\n\n  File \"C:\\Users\\mor\\Anaconda3\\lib\\site-packages\\IPython\\core\\interactiveshell.py\", line 3185, in run_cell_async\n\n  File \"C:\\Users\\mor\\Anaconda3\\lib\\site-packages\\IPython\\core\\interactiveshell.py\", line 3377, in run_ast_nodes\n\n  File \"C:\\Users\\mor\\Anaconda3\\lib\\site-packages\\IPython\\core\\interactiveshell.py\", line 3457, in run_code\n\n  File \"C:\\Users\\mor\\AppData\\Local\\Temp\\ipykernel_15516\\2224507601.py\", line 62, in <module>\n\n  File \"C:\\Users\\mor\\Anaconda3\\lib\\site-packages\\keras\\src\\utils\\traceback_utils.py\", line 65, in error_handler\n\n  File \"C:\\Users\\mor\\Anaconda3\\lib\\site-packages\\keras\\src\\engine\\training.py\", line 1807, in fit\n\n  File \"C:\\Users\\mor\\Anaconda3\\lib\\site-packages\\keras\\src\\engine\\training.py\", line 1401, in train_function\n\n  File \"C:\\Users\\mor\\Anaconda3\\lib\\site-packages\\keras\\src\\engine\\training.py\", line 1384, in step_function\n\n  File \"C:\\Users\\mor\\Anaconda3\\lib\\site-packages\\keras\\src\\engine\\training.py\", line 1373, in run_step\n\n  File \"C:\\Users\\mor\\Anaconda3\\lib\\site-packages\\keras\\src\\engine\\training.py\", line 1150, in train_step\n\n  File \"C:\\Users\\mor\\Anaconda3\\lib\\site-packages\\keras\\src\\utils\\traceback_utils.py\", line 65, in error_handler\n\n  File \"C:\\Users\\mor\\Anaconda3\\lib\\site-packages\\keras\\src\\engine\\training.py\", line 590, in __call__\n\n  File \"C:\\Users\\mor\\Anaconda3\\lib\\site-packages\\keras\\src\\utils\\traceback_utils.py\", line 65, in error_handler\n\n  File \"C:\\Users\\mor\\Anaconda3\\lib\\site-packages\\keras\\src\\engine\\base_layer.py\", line 1149, in __call__\n\n  File \"C:\\Users\\mor\\Anaconda3\\lib\\site-packages\\keras\\src\\utils\\traceback_utils.py\", line 96, in error_handler\n\n  File \"C:\\Users\\mor\\Anaconda3\\lib\\site-packages\\keras\\src\\engine\\functional.py\", line 515, in call\n\n  File \"C:\\Users\\mor\\Anaconda3\\lib\\site-packages\\keras\\src\\engine\\functional.py\", line 672, in _run_internal_graph\n\n  File \"C:\\Users\\mor\\Anaconda3\\lib\\site-packages\\keras\\src\\utils\\traceback_utils.py\", line 65, in error_handler\n\n  File \"C:\\Users\\mor\\Anaconda3\\lib\\site-packages\\keras\\src\\engine\\base_layer.py\", line 1149, in __call__\n\n  File \"C:\\Users\\mor\\Anaconda3\\lib\\site-packages\\keras\\src\\utils\\traceback_utils.py\", line 96, in error_handler\n\n  File \"C:\\Users\\mor\\Anaconda3\\lib\\site-packages\\keras\\src\\layers\\core\\embedding.py\", line 272, in call\n\nindices[13,0] = 312 is not in [0, 306)\n\t [[{{node model_16/embedding_65/embedding_lookup}}]] [Op:__inference_train_function_54703]",
     "output_type": "error",
     "traceback": [
      "\u001b[1;31m---------------------------------------------------------------------------\u001b[0m",
      "\u001b[1;31mInvalidArgumentError\u001b[0m                      Traceback (most recent call last)",
      "\u001b[1;32m~\\AppData\\Local\\Temp\\ipykernel_15516\\2224507601.py\u001b[0m in \u001b[0;36m<module>\u001b[1;34m\u001b[0m\n\u001b[0;32m     60\u001b[0m               metrics=[MeanAbsoluteError()])\n\u001b[0;32m     61\u001b[0m \u001b[1;33m\u001b[0m\u001b[0m\n\u001b[1;32m---> 62\u001b[1;33m model.fit([desc_1024_pad, X_train['winery'], X_train['variety'], X_train['country'], X_train['year']], y_train,\n\u001b[0m\u001b[0;32m     63\u001b[0m           \u001b[0mbatch_size\u001b[0m\u001b[1;33m=\u001b[0m\u001b[1;36m32\u001b[0m\u001b[1;33m,\u001b[0m\u001b[1;33m\u001b[0m\u001b[1;33m\u001b[0m\u001b[0m\n\u001b[0;32m     64\u001b[0m           \u001b[0mepochs\u001b[0m\u001b[1;33m=\u001b[0m\u001b[1;36m10\u001b[0m\u001b[1;33m,\u001b[0m\u001b[1;33m\u001b[0m\u001b[1;33m\u001b[0m\u001b[0m\n",
      "\u001b[1;32m~\\Anaconda3\\lib\\site-packages\\keras\\src\\utils\\traceback_utils.py\u001b[0m in \u001b[0;36merror_handler\u001b[1;34m(*args, **kwargs)\u001b[0m\n\u001b[0;32m     68\u001b[0m             \u001b[1;31m# To get the full stack trace, call:\u001b[0m\u001b[1;33m\u001b[0m\u001b[1;33m\u001b[0m\u001b[0m\n\u001b[0;32m     69\u001b[0m             \u001b[1;31m# `tf.debugging.disable_traceback_filtering()`\u001b[0m\u001b[1;33m\u001b[0m\u001b[1;33m\u001b[0m\u001b[0m\n\u001b[1;32m---> 70\u001b[1;33m             \u001b[1;32mraise\u001b[0m \u001b[0me\u001b[0m\u001b[1;33m.\u001b[0m\u001b[0mwith_traceback\u001b[0m\u001b[1;33m(\u001b[0m\u001b[0mfiltered_tb\u001b[0m\u001b[1;33m)\u001b[0m \u001b[1;32mfrom\u001b[0m \u001b[1;32mNone\u001b[0m\u001b[1;33m\u001b[0m\u001b[1;33m\u001b[0m\u001b[0m\n\u001b[0m\u001b[0;32m     71\u001b[0m         \u001b[1;32mfinally\u001b[0m\u001b[1;33m:\u001b[0m\u001b[1;33m\u001b[0m\u001b[1;33m\u001b[0m\u001b[0m\n\u001b[0;32m     72\u001b[0m             \u001b[1;32mdel\u001b[0m \u001b[0mfiltered_tb\u001b[0m\u001b[1;33m\u001b[0m\u001b[1;33m\u001b[0m\u001b[0m\n",
      "\u001b[1;32m~\\Anaconda3\\lib\\site-packages\\tensorflow\\python\\eager\\execute.py\u001b[0m in \u001b[0;36mquick_execute\u001b[1;34m(op_name, num_outputs, inputs, attrs, ctx, name)\u001b[0m\n\u001b[0;32m     51\u001b[0m   \u001b[1;32mtry\u001b[0m\u001b[1;33m:\u001b[0m\u001b[1;33m\u001b[0m\u001b[1;33m\u001b[0m\u001b[0m\n\u001b[0;32m     52\u001b[0m     \u001b[0mctx\u001b[0m\u001b[1;33m.\u001b[0m\u001b[0mensure_initialized\u001b[0m\u001b[1;33m(\u001b[0m\u001b[1;33m)\u001b[0m\u001b[1;33m\u001b[0m\u001b[1;33m\u001b[0m\u001b[0m\n\u001b[1;32m---> 53\u001b[1;33m     tensors = pywrap_tfe.TFE_Py_Execute(ctx._handle, device_name, op_name,\n\u001b[0m\u001b[0;32m     54\u001b[0m                                         inputs, attrs, num_outputs)\n\u001b[0;32m     55\u001b[0m   \u001b[1;32mexcept\u001b[0m \u001b[0mcore\u001b[0m\u001b[1;33m.\u001b[0m\u001b[0m_NotOkStatusException\u001b[0m \u001b[1;32mas\u001b[0m \u001b[0me\u001b[0m\u001b[1;33m:\u001b[0m\u001b[1;33m\u001b[0m\u001b[1;33m\u001b[0m\u001b[0m\n",
      "\u001b[1;31mInvalidArgumentError\u001b[0m: Graph execution error:\n\nDetected at node model_16/embedding_65/embedding_lookup defined at (most recent call last):\n  File \"C:\\Users\\mor\\Anaconda3\\lib\\runpy.py\", line 197, in _run_module_as_main\n\n  File \"C:\\Users\\mor\\Anaconda3\\lib\\runpy.py\", line 87, in _run_code\n\n  File \"C:\\Users\\mor\\Anaconda3\\lib\\site-packages\\ipykernel_launcher.py\", line 17, in <module>\n\n  File \"C:\\Users\\mor\\Anaconda3\\lib\\site-packages\\traitlets\\config\\application.py\", line 846, in launch_instance\n\n  File \"C:\\Users\\mor\\Anaconda3\\lib\\site-packages\\ipykernel\\kernelapp.py\", line 712, in start\n\n  File \"C:\\Users\\mor\\Anaconda3\\lib\\site-packages\\tornado\\platform\\asyncio.py\", line 199, in start\n\n  File \"C:\\Users\\mor\\Anaconda3\\lib\\asyncio\\base_events.py\", line 601, in run_forever\n\n  File \"C:\\Users\\mor\\Anaconda3\\lib\\asyncio\\base_events.py\", line 1905, in _run_once\n\n  File \"C:\\Users\\mor\\Anaconda3\\lib\\asyncio\\events.py\", line 80, in _run\n\n  File \"C:\\Users\\mor\\Anaconda3\\lib\\site-packages\\ipykernel\\kernelbase.py\", line 510, in dispatch_queue\n\n  File \"C:\\Users\\mor\\Anaconda3\\lib\\site-packages\\ipykernel\\kernelbase.py\", line 499, in process_one\n\n  File \"C:\\Users\\mor\\Anaconda3\\lib\\site-packages\\ipykernel\\kernelbase.py\", line 406, in dispatch_shell\n\n  File \"C:\\Users\\mor\\Anaconda3\\lib\\site-packages\\ipykernel\\kernelbase.py\", line 730, in execute_request\n\n  File \"C:\\Users\\mor\\Anaconda3\\lib\\site-packages\\ipykernel\\ipkernel.py\", line 390, in do_execute\n\n  File \"C:\\Users\\mor\\Anaconda3\\lib\\site-packages\\ipykernel\\zmqshell.py\", line 528, in run_cell\n\n  File \"C:\\Users\\mor\\Anaconda3\\lib\\site-packages\\IPython\\core\\interactiveshell.py\", line 2914, in run_cell\n\n  File \"C:\\Users\\mor\\Anaconda3\\lib\\site-packages\\IPython\\core\\interactiveshell.py\", line 2960, in _run_cell\n\n  File \"C:\\Users\\mor\\Anaconda3\\lib\\site-packages\\IPython\\core\\async_helpers.py\", line 78, in _pseudo_sync_runner\n\n  File \"C:\\Users\\mor\\Anaconda3\\lib\\site-packages\\IPython\\core\\interactiveshell.py\", line 3185, in run_cell_async\n\n  File \"C:\\Users\\mor\\Anaconda3\\lib\\site-packages\\IPython\\core\\interactiveshell.py\", line 3377, in run_ast_nodes\n\n  File \"C:\\Users\\mor\\Anaconda3\\lib\\site-packages\\IPython\\core\\interactiveshell.py\", line 3457, in run_code\n\n  File \"C:\\Users\\mor\\AppData\\Local\\Temp\\ipykernel_15516\\2224507601.py\", line 62, in <module>\n\n  File \"C:\\Users\\mor\\Anaconda3\\lib\\site-packages\\keras\\src\\utils\\traceback_utils.py\", line 65, in error_handler\n\n  File \"C:\\Users\\mor\\Anaconda3\\lib\\site-packages\\keras\\src\\engine\\training.py\", line 1807, in fit\n\n  File \"C:\\Users\\mor\\Anaconda3\\lib\\site-packages\\keras\\src\\engine\\training.py\", line 1401, in train_function\n\n  File \"C:\\Users\\mor\\Anaconda3\\lib\\site-packages\\keras\\src\\engine\\training.py\", line 1384, in step_function\n\n  File \"C:\\Users\\mor\\Anaconda3\\lib\\site-packages\\keras\\src\\engine\\training.py\", line 1373, in run_step\n\n  File \"C:\\Users\\mor\\Anaconda3\\lib\\site-packages\\keras\\src\\engine\\training.py\", line 1150, in train_step\n\n  File \"C:\\Users\\mor\\Anaconda3\\lib\\site-packages\\keras\\src\\utils\\traceback_utils.py\", line 65, in error_handler\n\n  File \"C:\\Users\\mor\\Anaconda3\\lib\\site-packages\\keras\\src\\engine\\training.py\", line 590, in __call__\n\n  File \"C:\\Users\\mor\\Anaconda3\\lib\\site-packages\\keras\\src\\utils\\traceback_utils.py\", line 65, in error_handler\n\n  File \"C:\\Users\\mor\\Anaconda3\\lib\\site-packages\\keras\\src\\engine\\base_layer.py\", line 1149, in __call__\n\n  File \"C:\\Users\\mor\\Anaconda3\\lib\\site-packages\\keras\\src\\utils\\traceback_utils.py\", line 96, in error_handler\n\n  File \"C:\\Users\\mor\\Anaconda3\\lib\\site-packages\\keras\\src\\engine\\functional.py\", line 515, in call\n\n  File \"C:\\Users\\mor\\Anaconda3\\lib\\site-packages\\keras\\src\\engine\\functional.py\", line 672, in _run_internal_graph\n\n  File \"C:\\Users\\mor\\Anaconda3\\lib\\site-packages\\keras\\src\\utils\\traceback_utils.py\", line 65, in error_handler\n\n  File \"C:\\Users\\mor\\Anaconda3\\lib\\site-packages\\keras\\src\\engine\\base_layer.py\", line 1149, in __call__\n\n  File \"C:\\Users\\mor\\Anaconda3\\lib\\site-packages\\keras\\src\\utils\\traceback_utils.py\", line 96, in error_handler\n\n  File \"C:\\Users\\mor\\Anaconda3\\lib\\site-packages\\keras\\src\\layers\\core\\embedding.py\", line 272, in call\n\nindices[13,0] = 312 is not in [0, 306)\n\t [[{{node model_16/embedding_65/embedding_lookup}}]] [Op:__inference_train_function_54703]"
     ]
    }
   ],
   "source": [
    "from tensorflow.keras.preprocessing.text import Tokenizer\n",
    "from tensorflow.keras.preprocessing.sequence import pad_sequences\n",
    "from tensorflow.keras.layers import Input, Embedding, Flatten, Dense, Concatenate\n",
    "from tensorflow.keras.models import Model\n",
    "from tensorflow.keras.optimizers import Adam\n",
    "from tensorflow.keras.losses import MeanSquaredError\n",
    "from tensorflow.keras.metrics import MeanAbsoluteError\n",
    "\n",
    "# Maximum number of words to consider\n",
    "max_words = 1024  \n",
    "\n",
    "tokenizer_1024 = Tokenizer(num_words=max_words)\n",
    "tokenizer_1024.fit_on_texts(X_train.cleaned_descriptions)\n",
    "desc_1024 = tokenizer_1024.texts_to_sequences(X_train.cleaned_descriptions)\n",
    "max_seq_length = max(len(seq) for seq in desc_1024)\n",
    "\n",
    "desc_1024_pad = pad_sequences(desc_1024, truncating='post', maxlen=max_seq_length)\n",
    "text_input_1 = Input(shape=(max_seq_length,))\n",
    "\n",
    "tokenizer_1024_test = Tokenizer(num_words=max_words)\n",
    "tokenizer_1024_test.fit_on_texts(X_test.cleaned_descriptions)\n",
    "desc_1024_test = tokenizer_1024_test.texts_to_sequences(X_test.cleaned_descriptions)\n",
    "max_seq_length_test = max(len(seq) for seq in desc_1024_test)\n",
    "\n",
    "desc_1024_pad_test = pad_sequences(desc_1024_test, truncating='post', maxlen=max_seq_length_test)\n",
    "\n",
    "# winery\n",
    "cat_input_1 = Input(shape=(1,))\n",
    "embedding_1 = Embedding(input_dim=4720, output_dim=16)(cat_input_1)\n",
    "flat_embed_1 = Flatten()(embedding_1)\n",
    "\n",
    "# variety\n",
    "cat_input_2 = Input(shape=(1,))\n",
    "embedding_2 = Embedding(input_dim=306, output_dim=16)(cat_input_2)\n",
    "flat_embed_2 = Flatten()(embedding_2)\n",
    "\n",
    "# country\n",
    "cat_input_3 = Input(shape=(1,))\n",
    "embedding_3 = Embedding(input_dim=34, output_dim=16)(cat_input_3)\n",
    "flat_embed_3 = Flatten()(embedding_3)\n",
    "\n",
    "# year\n",
    "cat_input_4 = Input(shape=(1,))\n",
    "embedding_4 = Embedding(input_dim=28, output_dim=16)(cat_input_4)\n",
    "flat_embed_4 = Flatten()(embedding_4)\n",
    "\n",
    "embedding_dim = 128\n",
    "embedding_1_text = Embedding(input_dim=max_words, output_dim=embedding_dim)(text_input_1)\n",
    "flatten_1 = Flatten()(embedding_1_text)\n",
    "\n",
    "concatenated = Concatenate()([flatten_1, flat_embed_1, flat_embed_2, flat_embed_3, flat_embed_4])\n",
    "x = Dense(256, activation='relu')(concatenated)\n",
    "x = Dense(32, activation='relu')(x)\n",
    "output = Dense(1, activation='linear')(x)\n",
    "\n",
    "model = Model(inputs=[text_input_1, cat_input_1, cat_input_2, cat_input_3, cat_input_4], outputs=output)\n",
    "\n",
    "model.compile(optimizer=Adam(learning_rate=0.001),\n",
    "              loss=MeanSquaredError(),\n",
    "              metrics=[MeanAbsoluteError()])\n",
    "\n",
    "model.fit([desc_1024_pad, X_train['winery'], X_train['variety'], X_train['country'], X_train['year']], y_train,\n",
    "          batch_size=32,\n",
    "          epochs=10,\n",
    "          validation_data=([desc_1024_pad_test, X_test['winery'], X_test['variety'], X_test['country'], X_test['year']], y_test))\n",
    "\n",
    "loss, mae = model.evaluate([desc_1024_pad_test, X_test['winery'], X_test['variety'], X_test['country'], X_test['year']], y_test)\n",
    "print('Test Loss:', loss)\n",
    "print('Test MAE:', mae)\n"
   ]
  }
 ],
 "metadata": {
  "kernelspec": {
   "display_name": "Python 3 (ipykernel)",
   "language": "python",
   "name": "python3"
  },
  "language_info": {
   "codemirror_mode": {
    "name": "ipython",
    "version": 3
   },
   "file_extension": ".py",
   "mimetype": "text/x-python",
   "name": "python",
   "nbconvert_exporter": "python",
   "pygments_lexer": "ipython3",
   "version": "3.9.13"
  }
 },
 "nbformat": 4,
 "nbformat_minor": 4
}
